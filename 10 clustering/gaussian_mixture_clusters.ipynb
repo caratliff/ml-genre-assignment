{
 "cells": [
  {
   "cell_type": "code",
   "execution_count": 2,
   "metadata": {},
   "outputs": [],
   "source": [
    "import pandas as pd\n",
    "import matplotlib.pyplot as plt\n",
    "import numpy as np\n",
    "\n",
    "spotify = pd.read_csv(\n",
    "    \"/Users/preetkhowaja/Documents/midssp2022/ml/ml-project/00_raw_data/spotify_songs.csv\"\n",
    ")\n",
    "spotify.head()\n",
    "\n",
    "music_covariates = ['danceability', 'energy', 'key', 'loudness', 'mode', 'speechiness',\n",
    "       'acousticness', 'instrumentalness', 'liveness', 'valence', 'tempo',\n",
    "       'duration_ms']\n",
    "\n",
    "other_covariates = ['track_album_name', 'track_name', 'track_artist']\n",
    "\n",
    "music = spotify[music_covariates] #subset for music covariates only\n",
    "music_X = spotify[music_covariates]\n",
    "music_Y = spotify['playlist_genre']"
   ]
  },
  {
   "cell_type": "code",
   "execution_count": 3,
   "metadata": {},
   "outputs": [],
   "source": [
    "from sklearn.preprocessing import StandardScaler\n",
    "from sklearn.decomposition import PCA\n",
    "from sklearn.metrics import davies_bouldin_score\n",
    "from sklearn.mixture import GaussianMixture\n",
    "import matplotlib.pyplot as plt\n",
    "\n",
    "X_norm = StandardScaler().fit_transform(music_X)"
   ]
  },
  {
   "cell_type": "code",
   "execution_count": 4,
   "metadata": {},
   "outputs": [],
   "source": [
    "# Set up a range of cluster numbers to try\n",
    "n_range = range(2,11)\n",
    "\n",
    "# Create empty lists to store the BIC and AIC values\n",
    "bic_score = []\n",
    "aic_score = []\n",
    "\n",
    "# Loop through the range and fit a model\n",
    "for n in n_range:\n",
    "    gm = GaussianMixture(n_components=n, \n",
    "                         random_state=123, \n",
    "                         n_init=10)\n",
    "    gm.fit(X_norm)\n",
    "    \n",
    "    # Append the BIC and AIC to the respective lists\n",
    "    bic_score.append(gm.bic(X_norm))\n",
    "    aic_score.append(gm.aic(X_norm))\n",
    "    \n",
    "# Plot the BIC and AIC values together\n",
    "plt.figure(figsize=(10,10))\n",
    "fig, ax = plt.subplots(figsize=(12,8),nrows=1)\n",
    "ax.plot(n_range, bic_score, '-o', color='orange')\n",
    "ax.plot(n_range, aic_score, '-o', color='green')\n",
    "ax.set(xlabel='Number of Clusters', ylabel='Score')\n",
    "ax.set_xticks(n_range)\n",
    "ax.set_title('BIC and AIC Scores Per Number Of Clusters')\n",
    "plt.show()"
   ]
  }
 ],
 "metadata": {
  "interpreter": {
   "hash": "551c62dc04900b7c9656b03a0ed1114515bcd045db0a145f14557b857526032b"
  },
  "kernelspec": {
   "display_name": "Python 3.8.10 ('base')",
   "language": "python",
   "name": "python3"
  },
  "language_info": {
   "codemirror_mode": {
    "name": "ipython",
    "version": 3
   },
   "file_extension": ".py",
   "mimetype": "text/x-python",
   "name": "python",
   "nbconvert_exporter": "python",
   "pygments_lexer": "ipython3",
   "version": "3.8.10"
  },
  "orig_nbformat": 4
 },
 "nbformat": 4,
 "nbformat_minor": 2
}
