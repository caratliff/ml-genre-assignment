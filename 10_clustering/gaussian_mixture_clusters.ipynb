{
 "cells": [
  {
   "cell_type": "code",
   "execution_count": 1,
   "metadata": {
    "id": "Bcwv-_9UY6tC"
   },
   "outputs": [],
   "source": [
    "import pandas as pd\n",
    "import matplotlib.pyplot as plt\n",
    "import numpy as np\n",
    "from sklearn.preprocessing import StandardScaler\n",
    "from sklearn.decomposition import PCA\n",
    "from sklearn.metrics import davies_bouldin_score\n",
    "from sklearn.metrics import silhouette_score\n",
    "from sklearn.mixture import GaussianMixture\n",
    "import matplotlib.pyplot as plt\n",
    "\n",
    "spotify = pd.read_csv(\n",
    "    \"https://raw.githubusercontent.com/rmratliffbrown/ml-genre-assignment/main/00_raw_data/spotify_songs.csv\"\n",
    ")\n",
    "spotify.head()\n",
    "\n",
    "music_covariates = [\n",
    "    \"danceability\",\n",
    "    \"energy\",\n",
    "    \"key\",\n",
    "    \"loudness\",\n",
    "    \"mode\",\n",
    "    \"speechiness\",\n",
    "    \"acousticness\",\n",
    "    \"instrumentalness\",\n",
    "    \"liveness\",\n",
    "    \"valence\",\n",
    "    \"tempo\",\n",
    "    \"duration_ms\",\n",
    "]\n",
    "\n",
    "other_covariates = [\"track_album_name\", \"track_name\", \"track_artist\"]\n",
    "\n",
    "music = spotify[music_covariates]  # subset for music covariates only\n",
    "music_X = spotify[music_covariates]\n",
    "music_Y = spotify[\"playlist_genre\"]"
   ]
  },
  {
   "cell_type": "code",
   "execution_count": 2,
   "metadata": {
    "id": "L1D0WZwvhgJK"
   },
   "outputs": [],
   "source": [
    "X_norm = StandardScaler().fit_transform(music_X)"
   ]
  },
  {
   "cell_type": "markdown",
   "metadata": {
    "id": "XkiubB-xYMDA"
   },
   "source": [
    "We're trying GMM and Kmeans because DBSCAN and OPTICS discard a lot of observations as unclassified. We wanted as much data as possible for the purpose of our supervised learning model."
   ]
  },
  {
   "cell_type": "code",
   "execution_count": 3,
   "metadata": {
    "id": "QOGy3NL0Y6tH"
   },
   "outputs": [],
   "source": [
    "# Set up a range of cluster numbers to try.\n",
    "n_range = range(2, 10)\n",
    "\n",
    "# Create empty lists to store the BIC and AIC values\n",
    "bic_score = []\n",
    "\n",
    "# Loop through the range and fit a model\n",
    "for n in n_range:\n",
    "    gm = GaussianMixture(n_components=n, random_state=47)\n",
    "    gm.fit(X_norm)\n",
    "\n",
    "    # Append the BIC and AIC to the respective lists\n",
    "    bic_score.append(gm.bic(X_norm))"
   ]
  },
  {
   "cell_type": "code",
   "execution_count": 4,
   "metadata": {
    "colab": {
     "base_uri": "https://localhost:8080/",
     "height": 531
    },
    "id": "y_j-TUl3Y6tI",
    "outputId": "39f2d453-f0aa-4dcd-e790-775fde6e7b05"
   },
   "outputs": [
    {
     "data": {
      "text/plain": [
       "<Figure size 720x720 with 0 Axes>"
      ]
     },
     "metadata": {},
     "output_type": "display_data"
    },
    {
     "data": {
      "image/png": "[encoded data removed]",
      "text/plain": [
       "<Figure size 864x576 with 1 Axes>"
      ]
     },
     "metadata": {
      "needs_background": "light"
     },
     "output_type": "display_data"
    }
   ],
   "source": [
    "# Plot the BIC and AIC values together\n",
    "plt.figure(figsize=(10, 10))\n",
    "fig, ax = plt.subplots(figsize=(12, 8), nrows=1)\n",
    "ax.plot(n_range, bic_score, \"-o\", color=\"palevioletred\")\n",
    "ax.set(xlabel=\"Number of Clusters\", ylabel=\"Score\")\n",
    "ax.set_xticks(n_range)\n",
    "ax.set_title(\"BIC Scores Per Number Of Clusters\")\n",
    "plt.show()"
   ]
  },
  {
   "cell_type": "markdown",
   "metadata": {
    "id": "rhhMpSyBW2B0"
   },
   "source": [
    "We try a range of 2-9 clusters because more than that would mean that the clusters lose meaning while also not adding signficantly to lowering the BIC score.\n"
   ]
  },
  {
   "cell_type": "code",
   "execution_count": 5,
   "metadata": {
    "id": "k2bFIJQFe1Yq"
   },
   "outputs": [],
   "source": [
    "## Smallest BIC score is in 8 clusters\n",
    "## We fit a model to 8 gaussian clusters\n",
    "\n",
    "final_gmm = GaussianMixture(\n",
    "    n_components=8, random_state=4747, covariance_type=\"spherical\"\n",
    ")\n",
    "final_gmm.fit(X_norm)\n",
    "probs = final_gmm.predict_proba(X_norm)"
   ]
  },
  {
   "cell_type": "code",
   "execution_count": 6,
   "metadata": {
    "id": "tRpVT9sLg05C"
   },
   "outputs": [],
   "source": [
    "labels = final_gmm.predict(X_norm)"
   ]
  },
  {
   "cell_type": "markdown",
   "metadata": {
    "id": "rSj3XrmiXmzs"
   },
   "source": [
    "We check that the predicted probabilities give you the likelihood that each song is part of each cluster. It assigns labels based on which label the prediced probability is highest for."
   ]
  },
  {
   "cell_type": "code",
   "execution_count": 7,
   "metadata": {
    "colab": {
     "base_uri": "https://localhost:8080/"
    },
    "id": "9gf-N1-AXXnH",
    "outputId": "47237c56-2fac-4685-b06c-401168224b62"
   },
   "outputs": [
    {
     "data": {
      "text/plain": [
       "array([7.07625048e-06, 9.68043866e-01, 9.08046014e-03, 1.84108703e-04,\n",
       "       1.88572709e-06, 2.25338412e-02, 1.48223573e-04, 5.38586367e-07])"
      ]
     },
     "execution_count": 7,
     "metadata": {},
     "output_type": "execute_result"
    }
   ],
   "source": [
    "probs[0]"
   ]
  },
  {
   "cell_type": "code",
   "execution_count": 8,
   "metadata": {
    "colab": {
     "base_uri": "https://localhost:8080/"
    },
    "id": "TGBWMNw0XgGG",
    "outputId": "dc7334c1-3500-451c-b7ec-8fa51de6238d"
   },
   "outputs": [
    {
     "data": {
      "text/plain": [
       "1"
      ]
     },
     "execution_count": 8,
     "metadata": {},
     "output_type": "execute_result"
    }
   ],
   "source": [
    "labels[0]"
   ]
  },
  {
   "cell_type": "code",
   "execution_count": 9,
   "metadata": {
    "colab": {
     "base_uri": "https://localhost:8080/"
    },
    "id": "BGzZWwUhg7Tj",
    "outputId": "5c20422b-92cf-4076-9188-bad95db5cec1"
   },
   "outputs": [
    {
     "data": {
      "text/plain": [
       "1.9997058181383265"
      ]
     },
     "execution_count": 9,
     "metadata": {},
     "output_type": "execute_result"
    }
   ],
   "source": [
    "davies_bouldin_score(X_norm, labels)"
   ]
  },
  {
   "cell_type": "code",
   "execution_count": 10,
   "metadata": {
    "colab": {
     "base_uri": "https://localhost:8080/"
    },
    "id": "iMkoAr7ehoSS",
    "outputId": "53e5a10d-9d9e-455f-c13b-05dd7efa0552"
   },
   "outputs": [
    {
     "data": {
      "text/plain": [
       "0.09004692066134427"
      ]
     },
     "execution_count": 10,
     "metadata": {},
     "output_type": "execute_result"
    }
   ],
   "source": [
    "silhouette_score(X_norm, labels)"
   ]
  },
  {
   "cell_type": "markdown",
   "metadata": {
    "id": "VqE_RQIMXNQA"
   },
   "source": [
    "The high DB score and indicates that the clusters with Gaussian are not that far apart or well-dispersed. The lower the DB score (with minimum being 0) the better we have clustered."
   ]
  },
  {
   "cell_type": "markdown",
   "metadata": {
    "id": "qnrnW3WRa6Bd"
   },
   "source": [
    "There are 4 options for calculating covariances in GMM:\n",
    "- Full: Each distribution has its own general covariance matrix\n",
    "- Tied: All distributions share general covariance matrix\n",
    "- Diag: Each distribution has its own diagonal covariance matrix\n",
    "- Spherical: Each distribution has its own single variance"
   ]
  },
  {
   "cell_type": "code",
   "execution_count": 11,
   "metadata": {
    "id": "Axtij5KwaJNb"
   },
   "outputs": [],
   "source": [
    "## trying other types of covariance metrics\n",
    "list_of_cov_types = [\"tied\", \"spherical\", \"diag\", \"full\"]\n",
    "\n",
    "db_score = []\n",
    "sil_score = []\n",
    "for t in list_of_cov_types:\n",
    "    gmm = GaussianMixture(n_components=8, random_state=4747, covariance_type=t)\n",
    "    gmm.fit(X_norm)\n",
    "    clusters = gmm.predict(X_norm)\n",
    "    db_score.append(davies_bouldin_score(X_norm, clusters))\n",
    "    sil_score.append(silhouette_score(X_norm, clusters))"
   ]
  },
  {
   "cell_type": "code",
   "execution_count": 12,
   "metadata": {
    "id": "OUGmyNRecXSY"
   },
   "outputs": [],
   "source": [
    "import matplotlib.pyplot as plt"
   ]
  },
  {
   "cell_type": "code",
   "execution_count": 13,
   "metadata": {
    "colab": {
     "base_uri": "https://localhost:8080/",
     "height": 299
    },
    "id": "56Klo8n0cajQ",
    "outputId": "3d95b403-498c-4130-f118-b4999b8a39cb"
   },
   "outputs": [
    {
     "data": {
      "text/plain": [
       "<Figure size 1440x720 with 0 Axes>"
      ]
     },
     "metadata": {},
     "output_type": "display_data"
    },
    {
     "data": {
      "image/png": "[encoded data removed]",
      "text/plain": [
       "<Figure size 432x288 with 2 Axes>"
      ]
     },
     "metadata": {
      "needs_background": "light"
     },
     "output_type": "display_data"
    }
   ],
   "source": [
    "# Plot DB Score and Silhouette Score for each type\n",
    "plt.figure(figsize=(20, 10))\n",
    "\n",
    "fig, (ax1, ax2) = plt.subplots(1, 2)\n",
    "\n",
    "ax1.plot(\n",
    "    list_of_cov_types, db_score, label=\"Davies-Bouldin Score\", color=\"palevioletred\"\n",
    ")\n",
    "ax1.set_title(\"Davies-Bouldin Score\")\n",
    "ax2.plot(list_of_cov_types, sil_score, label=\"Silhouette Score\")\n",
    "ax2.set_title(\"Silhouette Score\")\n",
    "\n",
    "plt.show()"
   ]
  },
  {
   "cell_type": "code",
   "execution_count": 14,
   "metadata": {
    "id": "tdd1NPXXi4Tf"
   },
   "outputs": [],
   "source": [
    "gaussian_labels = music_X.copy()"
   ]
  },
  {
   "cell_type": "code",
   "execution_count": 15,
   "metadata": {
    "id": "TDBnvyhUjGHB"
   },
   "outputs": [],
   "source": [
    "gaussian_labels[\"label\"] = labels"
   ]
  },
  {
   "cell_type": "code",
   "execution_count": 16,
   "metadata": {
    "colab": {
     "base_uri": "https://localhost:8080/",
     "height": 270
    },
    "id": "FxBebzT-jLt9",
    "outputId": "0290fa4d-af17-4698-93a8-6608d11d3299"
   },
   "outputs": [
    {
     "data": {
      "text/html": [
       "<div>\n",
       "<style scoped>\n",
       "    .dataframe tbody tr th:only-of-type {\n",
       "        vertical-align: middle;\n",
       "    }\n",
       "\n",
       "    .dataframe tbody tr th {\n",
       "        vertical-align: top;\n",
       "    }\n",
       "\n",
       "    .dataframe thead th {\n",
       "        text-align: right;\n",
       "    }\n",
       "</style>\n",
       "<table border=\"1\" class=\"dataframe\">\n",
       "  <thead>\n",
       "    <tr style=\"text-align: right;\">\n",
       "      <th></th>\n",
       "      <th>danceability</th>\n",
       "      <th>energy</th>\n",
       "      <th>key</th>\n",
       "      <th>loudness</th>\n",
       "      <th>mode</th>\n",
       "      <th>speechiness</th>\n",
       "      <th>acousticness</th>\n",
       "      <th>instrumentalness</th>\n",
       "      <th>liveness</th>\n",
       "      <th>valence</th>\n",
       "      <th>tempo</th>\n",
       "      <th>duration_ms</th>\n",
       "      <th>label</th>\n",
       "    </tr>\n",
       "  </thead>\n",
       "  <tbody>\n",
       "    <tr>\n",
       "      <th>0</th>\n",
       "      <td>0.748</td>\n",
       "      <td>0.916</td>\n",
       "      <td>6</td>\n",
       "      <td>-2.634</td>\n",
       "      <td>1</td>\n",
       "      <td>0.0583</td>\n",
       "      <td>0.1020</td>\n",
       "      <td>0.000000</td>\n",
       "      <td>0.0653</td>\n",
       "      <td>0.518</td>\n",
       "      <td>122.036</td>\n",
       "      <td>194754</td>\n",
       "      <td>1</td>\n",
       "    </tr>\n",
       "    <tr>\n",
       "      <th>1</th>\n",
       "      <td>0.726</td>\n",
       "      <td>0.815</td>\n",
       "      <td>11</td>\n",
       "      <td>-4.969</td>\n",
       "      <td>1</td>\n",
       "      <td>0.0373</td>\n",
       "      <td>0.0724</td>\n",
       "      <td>0.004210</td>\n",
       "      <td>0.3570</td>\n",
       "      <td>0.693</td>\n",
       "      <td>99.972</td>\n",
       "      <td>162600</td>\n",
       "      <td>1</td>\n",
       "    </tr>\n",
       "    <tr>\n",
       "      <th>2</th>\n",
       "      <td>0.675</td>\n",
       "      <td>0.931</td>\n",
       "      <td>1</td>\n",
       "      <td>-3.432</td>\n",
       "      <td>0</td>\n",
       "      <td>0.0742</td>\n",
       "      <td>0.0794</td>\n",
       "      <td>0.000023</td>\n",
       "      <td>0.1100</td>\n",
       "      <td>0.613</td>\n",
       "      <td>124.008</td>\n",
       "      <td>176616</td>\n",
       "      <td>2</td>\n",
       "    </tr>\n",
       "    <tr>\n",
       "      <th>3</th>\n",
       "      <td>0.718</td>\n",
       "      <td>0.930</td>\n",
       "      <td>7</td>\n",
       "      <td>-3.778</td>\n",
       "      <td>1</td>\n",
       "      <td>0.1020</td>\n",
       "      <td>0.0287</td>\n",
       "      <td>0.000009</td>\n",
       "      <td>0.2040</td>\n",
       "      <td>0.277</td>\n",
       "      <td>121.956</td>\n",
       "      <td>169093</td>\n",
       "      <td>1</td>\n",
       "    </tr>\n",
       "    <tr>\n",
       "      <th>4</th>\n",
       "      <td>0.650</td>\n",
       "      <td>0.833</td>\n",
       "      <td>1</td>\n",
       "      <td>-4.672</td>\n",
       "      <td>1</td>\n",
       "      <td>0.0359</td>\n",
       "      <td>0.0803</td>\n",
       "      <td>0.000000</td>\n",
       "      <td>0.0833</td>\n",
       "      <td>0.725</td>\n",
       "      <td>123.976</td>\n",
       "      <td>189052</td>\n",
       "      <td>1</td>\n",
       "    </tr>\n",
       "  </tbody>\n",
       "</table>\n",
       "</div>"
      ],
      "text/plain": [
       "   danceability  energy  key  loudness  mode  speechiness  acousticness  \\\n",
       "0         0.748   0.916    6    -2.634     1       0.0583        0.1020   \n",
       "1         0.726   0.815   11    -4.969     1       0.0373        0.0724   \n",
       "2         0.675   0.931    1    -3.432     0       0.0742        0.0794   \n",
       "3         0.718   0.930    7    -3.778     1       0.1020        0.0287   \n",
       "4         0.650   0.833    1    -4.672     1       0.0359        0.0803   \n",
       "\n",
       "   instrumentalness  liveness  valence    tempo  duration_ms  label  \n",
       "0          0.000000    0.0653    0.518  122.036       194754      1  \n",
       "1          0.004210    0.3570    0.693   99.972       162600      1  \n",
       "2          0.000023    0.1100    0.613  124.008       176616      2  \n",
       "3          0.000009    0.2040    0.277  121.956       169093      1  \n",
       "4          0.000000    0.0833    0.725  123.976       189052      1  "
      ]
     },
     "execution_count": 16,
     "metadata": {},
     "output_type": "execute_result"
    }
   ],
   "source": [
    "gaussian_labels.head()"
   ]
  },
  {
   "cell_type": "code",
   "execution_count": 17,
   "metadata": {
    "id": "_FFT1eDQjPAK"
   },
   "outputs": [],
   "source": [
    "gaussian_labels.to_csv(\"gaussian_cluster.csv\")"
   ]
  },
  {
   "cell_type": "markdown",
   "metadata": {
    "id": "XLXQmha0iVvz"
   },
   "source": [
    "\"The Davies_bouldin score is defined as the average similarity measure of each cluster with its most similar cluster, where similarity is the ratio of within-cluster distances to between-cluster distances. Thus, clusters which are farther apart and less dispersed will result in a better score.\n",
    "The minimum score is zero, with lower values indicating better clustering.\"\n",
    "\n",
    "Our DB is high and silhouette score is close to 0 for gaussian mixture clustering indicating that there is a lot of overlap between clusters. K-means gave us a lower DB score. Let's go back to K-means for now."
   ]
  },
  {
   "cell_type": "code",
   "execution_count": 18,
   "metadata": {
    "id": "IzMaiCJTiwx2"
   },
   "outputs": [],
   "source": [
    "from sklearn.cluster import KMeans\n",
    "from yellowbrick.cluster import KElbowVisualizer"
   ]
  },
  {
   "cell_type": "code",
   "execution_count": 19,
   "metadata": {
    "colab": {
     "base_uri": "https://localhost:8080/",
     "height": 394
    },
    "id": "XyhJqzVUjueG",
    "outputId": "f3d3fe00-aa9a-4e80-cf8a-82967010ae95"
   },
   "outputs": [
    {
     "data": {
      "image/png": "[encoded data removed]",
      "text/plain": [
       "<Figure size 576x396 with 2 Axes>"
      ]
     },
     "metadata": {},
     "output_type": "display_data"
    },
    {
     "data": {
      "text/plain": [
       "<AxesSubplot:title={'center':'Distortion Score Elbow for KMeans Clustering'}, xlabel='k', ylabel='distortion score'>"
      ]
     },
     "execution_count": 19,
     "metadata": {},
     "output_type": "execute_result"
    }
   ],
   "source": [
    "k_list = list(range(1, 10))\n",
    "\n",
    "model = KMeans(random_state=45)\n",
    "# k is range of number of clusters.\n",
    "visualizer = KElbowVisualizer(model, k=(2, 10), locate_elbow=True)\n",
    "visualizer.fit(X_norm)  # Fit the data to the visualizer\n",
    "visualizer.show()"
   ]
  },
  {
   "cell_type": "code",
   "execution_count": 20,
   "metadata": {
    "id": "LWsSuYx-nOAZ"
   },
   "outputs": [],
   "source": [
    "kmeans_model = KMeans(n_clusters=5, random_state=4747)\n",
    "kmeans_model.fit(X_norm)\n",
    "labels_kmeans = kmeans_model.predict(X_norm)"
   ]
  },
  {
   "cell_type": "markdown",
   "metadata": {
    "id": "ZVLuzRigjX-C"
   },
   "source": [
    "Finding the Elbow in Inertia vs. K to see what the optimal cluster size is."
   ]
  },
  {
   "cell_type": "code",
   "execution_count": 21,
   "metadata": {
    "colab": {
     "base_uri": "https://localhost:8080/"
    },
    "id": "0DMLc_OcnfKx",
    "outputId": "884b8df2-5dbf-4ad7-97f3-8c57808ed8d0"
   },
   "outputs": [
    {
     "data": {
      "text/plain": [
       "2.16598140902256"
      ]
     },
     "execution_count": 21,
     "metadata": {},
     "output_type": "execute_result"
    }
   ],
   "source": [
    "davies_bouldin_score(X_norm, labels_kmeans)"
   ]
  },
  {
   "cell_type": "code",
   "execution_count": 22,
   "metadata": {
    "colab": {
     "base_uri": "https://localhost:8080/"
    },
    "id": "ppdDjy-NnpXa",
    "outputId": "257df7ba-6833-4c88-fcf7-8c61fc2a11bb"
   },
   "outputs": [
    {
     "data": {
      "text/plain": [
       "0.10459795936857771"
      ]
     },
     "execution_count": 22,
     "metadata": {},
     "output_type": "execute_result"
    }
   ],
   "source": [
    "silhouette_score(X_norm, labels_kmeans)"
   ]
  },
  {
   "cell_type": "code",
   "execution_count": 23,
   "metadata": {
    "colab": {
     "base_uri": "https://localhost:8080/"
    },
    "id": "dHfamVcRqRzQ",
    "outputId": "75669ad2-8d37-4f46-feea-afb6b621d197"
   },
   "outputs": [
    {
     "data": {
      "text/plain": [
       "(32833, 13)"
      ]
     },
     "execution_count": 23,
     "metadata": {},
     "output_type": "execute_result"
    }
   ],
   "source": [
    "kmeans_cluster = music_X.copy()\n",
    "kmeans_cluster[\"label\"] = labels_kmeans\n",
    "kmeans_cluster.shape"
   ]
  },
  {
   "cell_type": "code",
   "execution_count": 24,
   "metadata": {
    "colab": {
     "base_uri": "https://localhost:8080/",
     "height": 384
    },
    "id": "4Nabcpx_iGj0",
    "outputId": "b9446d7a-631f-4ae1-891d-c679c53dc8b6"
   },
   "outputs": [
    {
     "data": {
      "image/png": "[encoded data removed]",
      "text/plain": [
       "<Figure size 576x396 with 2 Axes>"
      ]
     },
     "metadata": {},
     "output_type": "display_data"
    },
    {
     "data": {
      "text/plain": [
       "<AxesSubplot:title={'center':'KMeans Intercluster Distance Map (via MDS)'}, xlabel='PC2', ylabel='PC1'>"
      ]
     },
     "execution_count": 24,
     "metadata": {},
     "output_type": "execute_result"
    }
   ],
   "source": [
    "# Inter cluster distance map\n",
    "\n",
    "\n",
    "from yellowbrick.cluster import InterclusterDistance\n",
    "\n",
    "\n",
    "# Instantiate the clustering model and visualizer\n",
    "\n",
    "visualizer = InterclusterDistance(kmeans_model)\n",
    "\n",
    "visualizer.fit(X_norm)  # Fit the data to the visualizer\n",
    "visualizer.show()  # Finalize and render the figure"
   ]
  },
  {
   "cell_type": "code",
   "execution_count": 25,
   "metadata": {
    "id": "b3LtDUuyqenm"
   },
   "outputs": [],
   "source": [
    "kmeans_cluster.to_csv(\"kmeans_cluster.csv\")"
   ]
  },
  {
   "cell_type": "markdown",
   "metadata": {
    "id": "V11gk4xLn2OK"
   },
   "source": [
    "Silhouette Scores:\n",
    "The best value is 1 and the worst value is -1. Values near 0 indicate overlapping clusters. Negative values generally indicate that a sample has been assigned to the wrong cluster, as a different cluster is more similar."
   ]
  },
  {
   "cell_type": "markdown",
   "metadata": {
    "id": "7yNn_HhfvxHk"
   },
   "source": [
    "## KMeans vs Gaussian Mixture\n",
    "\n",
    "Upon exploring the variations in KMeans and Gaussian MM, we see that KMeans performs better than GMM on both scores. The DB Score and silhouette score tell us that in Kmeans our clusters are well-defined. We want to segment and look at clusters that make the most sense."
   ]
  }
 ],
 "metadata": {
  "colab": {
   "collapsed_sections": [],
   "name": "gaussian_mixture_clusters.ipynb",
   "provenance": []
  },
  "interpreter": {
   "hash": "551c62dc04900b7c9656b03a0ed1114515bcd045db0a145f14557b857526032b"
  },
  "kernelspec": {
   "display_name": "Python 3",
   "language": "python",
   "name": "python3"
  },
  "language_info": {
   "codemirror_mode": {
    "name": "ipython",
    "version": 3
   },
   "file_extension": ".py",
   "mimetype": "text/x-python",
   "name": "python",
   "nbconvert_exporter": "python",
   "pygments_lexer": "ipython3",
   "version": "3.7.4"
  }
 },
 "nbformat": 4,
 "nbformat_minor": 1
}
