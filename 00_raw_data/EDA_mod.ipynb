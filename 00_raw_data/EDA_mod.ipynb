{
 "cells": [
  {
   "cell_type": "markdown",
   "metadata": {},
   "source": [
    "# 1st Check balance"
   ]
  },
  {
   "cell_type": "code",
   "execution_count": 51,
   "metadata": {},
   "outputs": [
    {
     "data": {
      "image/png": "[encoded data removed]",
      "text/plain": [
       "<Figure size 432x288 with 1 Axes>"
      ]
     },
     "metadata": {
      "needs_background": "light"
     },
     "output_type": "display_data"
    }
   ],
   "source": [
    "import pandas as pd\n",
    "import matplotlib.pyplot as plt\n",
    "\n",
    "spotify = pd.read_csv(\n",
    "    \"spotify_songs.csv\"\n",
    ")\n",
    "spotify.head()\n",
    "\n",
    "spotify[\"playlist_genre\"].value_counts().plot(\n",
    "    kind=\"bar\", title=\"Balance of observations for each music genre\"\n",
    ")\n",
    "plt.xlabel(\"Music Genres\")\n",
    "plt.ylabel(\"Observation Counts\")\n",
    "plt.savefig('genre_obs_distribution.png')"
   ]
  },
  {
   "cell_type": "markdown",
   "metadata": {},
   "source": [
    "# 2nd, Distributions of covariates for each class\n",
    "(note there are 12 covariates)"
   ]
  },
  {
   "cell_type": "code",
   "execution_count": 2,
   "metadata": {},
   "outputs": [
    {
     "data": {
      "text/html": [
       "<div>\n",
       "<style scoped>\n",
       "    .dataframe tbody tr th:only-of-type {\n",
       "        vertical-align: middle;\n",
       "    }\n",
       "\n",
       "    .dataframe tbody tr th {\n",
       "        vertical-align: top;\n",
       "    }\n",
       "\n",
       "    .dataframe thead th {\n",
       "        text-align: right;\n",
       "    }\n",
       "</style>\n",
       "<table border=\"1\" class=\"dataframe\">\n",
       "  <thead>\n",
       "    <tr style=\"text-align: right;\">\n",
       "      <th></th>\n",
       "      <th>track_id</th>\n",
       "      <th>track_name</th>\n",
       "      <th>track_artist</th>\n",
       "      <th>track_popularity</th>\n",
       "      <th>track_album_id</th>\n",
       "      <th>track_album_name</th>\n",
       "      <th>track_album_release_date</th>\n",
       "      <th>playlist_name</th>\n",
       "      <th>playlist_id</th>\n",
       "      <th>playlist_genre</th>\n",
       "      <th>...</th>\n",
       "      <th>key</th>\n",
       "      <th>loudness</th>\n",
       "      <th>mode</th>\n",
       "      <th>speechiness</th>\n",
       "      <th>acousticness</th>\n",
       "      <th>instrumentalness</th>\n",
       "      <th>liveness</th>\n",
       "      <th>valence</th>\n",
       "      <th>tempo</th>\n",
       "      <th>duration_ms</th>\n",
       "    </tr>\n",
       "  </thead>\n",
       "  <tbody>\n",
       "    <tr>\n",
       "      <th>18900</th>\n",
       "      <td>4thYedllWlJQOnrplPxwfA</td>\n",
       "      <td>Quisieras</td>\n",
       "      <td>Nicky Jam</td>\n",
       "      <td>62</td>\n",
       "      <td>1CYQlkKE5Q0khU6eMwVAVt</td>\n",
       "      <td>Intimo</td>\n",
       "      <td>2019-11-01</td>\n",
       "      <td>Reggaeton 2020 ☀</td>\n",
       "      <td>7xWuNevFBmwnFEg6wzdCc7</td>\n",
       "      <td>latin</td>\n",
       "      <td>...</td>\n",
       "      <td>10</td>\n",
       "      <td>-5.152</td>\n",
       "      <td>1</td>\n",
       "      <td>0.0464</td>\n",
       "      <td>0.222</td>\n",
       "      <td>0.000000</td>\n",
       "      <td>0.0596</td>\n",
       "      <td>0.712</td>\n",
       "      <td>97.019</td>\n",
       "      <td>185693</td>\n",
       "    </tr>\n",
       "    <tr>\n",
       "      <th>9650</th>\n",
       "      <td>4Mg3aeA9ZrEZrhL4ANs23u</td>\n",
       "      <td>Hello</td>\n",
       "      <td>Ice Cube</td>\n",
       "      <td>55</td>\n",
       "      <td>7EPmezGIzLHj7LeTtLYhJZ</td>\n",
       "      <td>Greatest Hits</td>\n",
       "      <td>2001-12-04</td>\n",
       "      <td>90s Gangsta Rap / Top Hip-hop Classics</td>\n",
       "      <td>0C2zyPdlkbWHrwVg9gqNdU</td>\n",
       "      <td>rap</td>\n",
       "      <td>...</td>\n",
       "      <td>10</td>\n",
       "      <td>-6.245</td>\n",
       "      <td>0</td>\n",
       "      <td>0.2800</td>\n",
       "      <td>0.111</td>\n",
       "      <td>0.000000</td>\n",
       "      <td>0.3830</td>\n",
       "      <td>0.685</td>\n",
       "      <td>91.388</td>\n",
       "      <td>231467</td>\n",
       "    </tr>\n",
       "    <tr>\n",
       "      <th>8528</th>\n",
       "      <td>0MO8aVNj5cHI7je07TamaY</td>\n",
       "      <td>I Don't Dance</td>\n",
       "      <td>DMX</td>\n",
       "      <td>56</td>\n",
       "      <td>3O7cBYpHtUt1vIif1NjMYh</td>\n",
       "      <td>I Don't Dance (feat. Machine Gun Kelly) - Single</td>\n",
       "      <td>2012-08-07</td>\n",
       "      <td>Gangster Rap</td>\n",
       "      <td>5joQabz9ys3XPGbSx5CaKv</td>\n",
       "      <td>rap</td>\n",
       "      <td>...</td>\n",
       "      <td>1</td>\n",
       "      <td>-5.915</td>\n",
       "      <td>1</td>\n",
       "      <td>0.1340</td>\n",
       "      <td>0.156</td>\n",
       "      <td>0.000000</td>\n",
       "      <td>0.1240</td>\n",
       "      <td>0.544</td>\n",
       "      <td>103.029</td>\n",
       "      <td>207360</td>\n",
       "    </tr>\n",
       "    <tr>\n",
       "      <th>18046</th>\n",
       "      <td>3M3BiAe7eXqdfgdidgoNP2</td>\n",
       "      <td>Ven A Cumbiar</td>\n",
       "      <td>El Simbolo</td>\n",
       "      <td>32</td>\n",
       "      <td>0RCfHQyynR4Kh3vMxBU7OB</td>\n",
       "      <td>Enciéndelo</td>\n",
       "      <td>2007-11-11</td>\n",
       "      <td>Latin Pop antiguo</td>\n",
       "      <td>4BmnnqWEQAamNoVjtjrQJP</td>\n",
       "      <td>latin</td>\n",
       "      <td>...</td>\n",
       "      <td>7</td>\n",
       "      <td>-6.224</td>\n",
       "      <td>1</td>\n",
       "      <td>0.1010</td>\n",
       "      <td>0.126</td>\n",
       "      <td>0.000034</td>\n",
       "      <td>0.0460</td>\n",
       "      <td>0.884</td>\n",
       "      <td>100.011</td>\n",
       "      <td>187040</td>\n",
       "    </tr>\n",
       "  </tbody>\n",
       "</table>\n",
       "<p>4 rows × 23 columns</p>\n",
       "</div>"
      ],
      "text/plain": [
       "                     track_id     track_name track_artist  track_popularity  \\\n",
       "18900  4thYedllWlJQOnrplPxwfA      Quisieras    Nicky Jam                62   \n",
       "9650   4Mg3aeA9ZrEZrhL4ANs23u          Hello     Ice Cube                55   \n",
       "8528   0MO8aVNj5cHI7je07TamaY  I Don't Dance          DMX                56   \n",
       "18046  3M3BiAe7eXqdfgdidgoNP2  Ven A Cumbiar   El Simbolo                32   \n",
       "\n",
       "               track_album_id  \\\n",
       "18900  1CYQlkKE5Q0khU6eMwVAVt   \n",
       "9650   7EPmezGIzLHj7LeTtLYhJZ   \n",
       "8528   3O7cBYpHtUt1vIif1NjMYh   \n",
       "18046  0RCfHQyynR4Kh3vMxBU7OB   \n",
       "\n",
       "                                       track_album_name  \\\n",
       "18900                                            Intimo   \n",
       "9650                                      Greatest Hits   \n",
       "8528   I Don't Dance (feat. Machine Gun Kelly) - Single   \n",
       "18046                                        Enciéndelo   \n",
       "\n",
       "      track_album_release_date                           playlist_name  \\\n",
       "18900               2019-11-01                        Reggaeton 2020 ☀   \n",
       "9650                2001-12-04  90s Gangsta Rap / Top Hip-hop Classics   \n",
       "8528                2012-08-07                            Gangster Rap   \n",
       "18046               2007-11-11                       Latin Pop antiguo   \n",
       "\n",
       "                  playlist_id playlist_genre  ... key  loudness  mode  \\\n",
       "18900  7xWuNevFBmwnFEg6wzdCc7          latin  ...  10    -5.152     1   \n",
       "9650   0C2zyPdlkbWHrwVg9gqNdU            rap  ...  10    -6.245     0   \n",
       "8528   5joQabz9ys3XPGbSx5CaKv            rap  ...   1    -5.915     1   \n",
       "18046  4BmnnqWEQAamNoVjtjrQJP          latin  ...   7    -6.224     1   \n",
       "\n",
       "       speechiness  acousticness  instrumentalness  liveness  valence  \\\n",
       "18900       0.0464         0.222          0.000000    0.0596    0.712   \n",
       "9650        0.2800         0.111          0.000000    0.3830    0.685   \n",
       "8528        0.1340         0.156          0.000000    0.1240    0.544   \n",
       "18046       0.1010         0.126          0.000034    0.0460    0.884   \n",
       "\n",
       "         tempo  duration_ms  \n",
       "18900   97.019       185693  \n",
       "9650    91.388       231467  \n",
       "8528   103.029       207360  \n",
       "18046  100.011       187040  \n",
       "\n",
       "[4 rows x 23 columns]"
      ]
     },
     "execution_count": 2,
     "metadata": {},
     "output_type": "execute_result"
    }
   ],
   "source": [
    "music_covariates = ['danceability', 'energy', 'key', 'loudness', 'mode', 'speechiness',\n",
    "       'acousticness', 'instrumentalness', 'liveness', 'valence', 'tempo',\n",
    "       'duration_ms']\n",
    "\n",
    "other_covariates = ['track_album_name', 'track_name', 'track_artist']\n",
    "# Do we want to use these?\n",
    "spotify.sample(4)"
   ]
  },
  {
   "cell_type": "code",
   "execution_count": 3,
   "metadata": {},
   "outputs": [
    {
     "data": {
      "image/png": "[encoded data removed]",
      "text/plain": [
       "<Figure size 864x504 with 1 Axes>"
      ]
     },
     "metadata": {
      "needs_background": "light"
     },
     "output_type": "display_data"
    }
   ],
   "source": [
    "genres = [\"pop\", \"rap\", \"edm\", \"rock\", \"latin\", \"r&b\"]\n",
    "\n",
    "# Prepare energy by genre datasets\n",
    "pop_energy = spotify[spotify[\"playlist_genre\"] == \"pop\"][\"energy\"]\n",
    "rap_energy = spotify[spotify[\"playlist_genre\"] == \"rap\"][\"energy\"]\n",
    "edm_energy = spotify[spotify[\"playlist_genre\"] == \"edm\"][\"energy\"]\n",
    "rock_energy = spotify[spotify[\"playlist_genre\"] == \"rock\"][\"energy\"]\n",
    "latin_energy = spotify[spotify[\"playlist_genre\"] == \"rock\"][\"energy\"]\n",
    "rnb_energy = spotify[spotify[\"playlist_genre\"] == \"r&b\"][\"energy\"]\n",
    "\n",
    "# Visualize\n",
    "fig, ax = plt.subplots(figsize=(12, 7))\n",
    "\n",
    "# Remove y-axis tick marks\n",
    "ax.yaxis.set_ticks_position(\"none\")\n",
    "# Add major gridlines in the y-axis\n",
    "ax.grid(color=\"grey\", axis=\"y\", linestyle=\"-\", linewidth=0.25, alpha=0.5)\n",
    "# Set plot title\n",
    "ax.set_title(\"Distribution of Energy length by music genre\")\n",
    "plt.xlabel(\"Music Genres\")\n",
    "plt.ylabel(\"Energy\")\n",
    "# Set names as labels for the boxplot\n",
    "dataset = [pop_energy, rap_energy, edm_energy, rock_energy, latin_energy, rnb_energy]\n",
    "labels = spotify[\"playlist_genre\"].unique()\n",
    "ax.boxplot(dataset, labels=genres)\n",
    "plt.show()"
   ]
  },
  {
   "cell_type": "code",
   "execution_count": 4,
   "metadata": {},
   "outputs": [
    {
     "data": {
      "image/png": "[encoded data removed]",
      "text/plain": [
       "<Figure size 864x504 with 1 Axes>"
      ]
     },
     "metadata": {
      "needs_background": "light"
     },
     "output_type": "display_data"
    }
   ],
   "source": [
    "# Prepare key by genre datasets\n",
    "pop_key = spotify[spotify[\"playlist_genre\"] == \"pop\"][\"key\"]\n",
    "rap_key = spotify[spotify[\"playlist_genre\"] == \"rap\"][\"key\"]\n",
    "edm_key = spotify[spotify[\"playlist_genre\"] == \"edm\"][\"key\"]\n",
    "rock_key = spotify[spotify[\"playlist_genre\"] == \"rock\"][\"key\"]\n",
    "latin_key = spotify[spotify[\"playlist_genre\"] == \"rock\"][\"key\"]\n",
    "rnb_key = spotify[spotify[\"playlist_genre\"] == \"r&b\"][\"key\"]\n",
    "\n",
    "# Visualize\n",
    "fig, ax = plt.subplots(figsize=(12, 7))\n",
    "\n",
    "# Remove y-axis tick marks\n",
    "ax.yaxis.set_ticks_position(\"none\")\n",
    "# Add major gridlines in the y-axis\n",
    "ax.grid(color=\"grey\", axis=\"y\", linestyle=\"-\", linewidth=0.25, alpha=0.5)\n",
    "# Set plot title\n",
    "ax.set_title(\"Distribution of Key length by music genre\")\n",
    "plt.xlabel(\"Music Genres\")\n",
    "plt.ylabel(\"Key\")\n",
    "# Set names as labels for the boxplot\n",
    "dataset = [pop_key, rap_key, edm_key, rock_key, latin_key, rnb_key]\n",
    "labels = spotify[\"playlist_genre\"].unique()\n",
    "ax.boxplot(dataset, labels=genres)\n",
    "plt.show()"
   ]
  },
  {
   "cell_type": "code",
   "execution_count": 5,
   "metadata": {},
   "outputs": [
    {
     "data": {
      "image/png": "[encoded data removed]",
      "text/plain": [
       "<Figure size 864x504 with 1 Axes>"
      ]
     },
     "metadata": {
      "needs_background": "light"
     },
     "output_type": "display_data"
    }
   ],
   "source": [
    "# Prepare danceability by genre datasets\n",
    "pop_danceability = spotify[spotify[\"playlist_genre\"] == \"pop\"][\"danceability\"]\n",
    "rap_danceability = spotify[spotify[\"playlist_genre\"] == \"rap\"][\"danceability\"]\n",
    "edm_danceability = spotify[spotify[\"playlist_genre\"] == \"edm\"][\"danceability\"]\n",
    "rock_danceability = spotify[spotify[\"playlist_genre\"] == \"rock\"][\"danceability\"]\n",
    "latin_danceability = spotify[spotify[\"playlist_genre\"] == \"rock\"][\"danceability\"]\n",
    "rnb_danceability = spotify[spotify[\"playlist_genre\"] == \"r&b\"][\"danceability\"]\n",
    "\n",
    "# Visualize\n",
    "fig, ax = plt.subplots(figsize=(12, 7))\n",
    "\n",
    "# Remove y-axis tick marks\n",
    "ax.yaxis.set_ticks_position(\"none\")\n",
    "# Add major gridlines in the y-axis\n",
    "ax.grid(color=\"grey\", axis=\"y\", linestyle=\"-\", linewidth=0.25, alpha=0.5)\n",
    "# Set plot title\n",
    "ax.set_title(\"Distribution of Danceability length by music genre\")\n",
    "plt.xlabel(\"Music Genres\")\n",
    "plt.ylabel(\"Danceability\")\n",
    "# Set names as labels for the boxplot\n",
    "dataset = [\n",
    "    pop_danceability,\n",
    "    rap_danceability,\n",
    "    edm_danceability,\n",
    "    rock_danceability,\n",
    "    latin_danceability,\n",
    "    rnb_danceability,\n",
    "]\n",
    "labels = spotify[\"playlist_genre\"].unique()\n",
    "ax.boxplot(dataset, labels=genres)\n",
    "plt.show()"
   ]
  },
  {
   "cell_type": "code",
   "execution_count": 6,
   "metadata": {},
   "outputs": [
    {
     "data": {
      "image/png": "[encoded data removed]",
      "text/plain": [
       "<Figure size 864x504 with 1 Axes>"
      ]
     },
     "metadata": {
      "needs_background": "light"
     },
     "output_type": "display_data"
    }
   ],
   "source": [
    "# Prepare loudness by genre datasets\n",
    "pop_loudness = spotify[spotify[\"playlist_genre\"] == \"pop\"][\"loudness\"]\n",
    "rap_loudness = spotify[spotify[\"playlist_genre\"] == \"rap\"][\"loudness\"]\n",
    "edm_loudness = spotify[spotify[\"playlist_genre\"] == \"edm\"][\"loudness\"]\n",
    "rock_loudness = spotify[spotify[\"playlist_genre\"] == \"rock\"][\"loudness\"]\n",
    "latin_loudness = spotify[spotify[\"playlist_genre\"] == \"rock\"][\"loudness\"]\n",
    "rnb_loudness = spotify[spotify[\"playlist_genre\"] == \"r&b\"][\"loudness\"]\n",
    "\n",
    "# Visualize\n",
    "fig, ax = plt.subplots(figsize=(12, 7))\n",
    "\n",
    "# Remove y-axis tick marks\n",
    "ax.yaxis.set_ticks_position(\"none\")\n",
    "# Add major gridlines in the y-axis\n",
    "ax.grid(color=\"grey\", axis=\"y\", linestyle=\"-\", linewidth=0.25, alpha=0.5)\n",
    "# Set plot title\n",
    "ax.set_title(\"Distribution of Loudness length by music genre\")\n",
    "plt.xlabel(\"Music Genres\")\n",
    "plt.ylabel(\"Loudness\")\n",
    "# Set names as labels for the boxplot\n",
    "dataset = [\n",
    "    pop_loudness,\n",
    "    rap_loudness,\n",
    "    edm_loudness,\n",
    "    rock_loudness,\n",
    "    latin_loudness,\n",
    "    rnb_loudness,\n",
    "]\n",
    "labels = spotify[\"playlist_genre\"].unique()\n",
    "ax.boxplot(dataset, labels=genres)\n",
    "plt.show()"
   ]
  },
  {
   "cell_type": "code",
   "execution_count": 7,
   "metadata": {},
   "outputs": [
    {
     "data": {
      "image/png": "[encoded data removed]",
      "text/plain": [
       "<Figure size 864x504 with 1 Axes>"
      ]
     },
     "metadata": {
      "needs_background": "light"
     },
     "output_type": "display_data"
    }
   ],
   "source": [
    "# Prepare mode by genre datasets\n",
    "pop_mode = spotify[spotify[\"playlist_genre\"] == \"pop\"][\"mode\"]\n",
    "rap_mode = spotify[spotify[\"playlist_genre\"] == \"rap\"][\"mode\"]\n",
    "edm_mode = spotify[spotify[\"playlist_genre\"] == \"edm\"][\"mode\"]\n",
    "rock_mode = spotify[spotify[\"playlist_genre\"] == \"rock\"][\"mode\"]\n",
    "latin_mode = spotify[spotify[\"playlist_genre\"] == \"rock\"][\"mode\"]\n",
    "rnb_mode = spotify[spotify[\"playlist_genre\"] == \"r&b\"][\"mode\"]\n",
    "\n",
    "# Visualize\n",
    "fig, ax = plt.subplots(figsize=(12, 7))\n",
    "\n",
    "# Remove y-axis tick marks\n",
    "ax.yaxis.set_ticks_position(\"none\")\n",
    "# Add major gridlines in the y-axis\n",
    "ax.grid(color=\"grey\", axis=\"y\", linestyle=\"-\", linewidth=0.25, alpha=0.5)\n",
    "# Set plot title\n",
    "ax.set_title(\"Distribution of Mode length by music genre\")\n",
    "plt.xlabel(\"Music Genres\")\n",
    "plt.ylabel(\"Mode\")\n",
    "# Set names as labels for the boxplot\n",
    "dataset = [pop_mode, rap_mode, edm_mode, rock_mode, latin_mode, rnb_mode]\n",
    "labels = spotify[\"playlist_genre\"].unique()\n",
    "ax.boxplot(dataset, labels=genres)\n",
    "plt.show()"
   ]
  },
  {
   "cell_type": "code",
   "execution_count": 8,
   "metadata": {},
   "outputs": [
    {
     "data": {
      "image/png": "[encoded data removed]",
      "text/plain": [
       "<Figure size 864x504 with 1 Axes>"
      ]
     },
     "metadata": {
      "needs_background": "light"
     },
     "output_type": "display_data"
    }
   ],
   "source": [
    "# Prepare speechiness by genre datasets\n",
    "pop_speechiness = spotify[spotify[\"playlist_genre\"] == \"pop\"][\"speechiness\"]\n",
    "rap_speechiness = spotify[spotify[\"playlist_genre\"] == \"rap\"][\"speechiness\"]\n",
    "edm_speechiness = spotify[spotify[\"playlist_genre\"] == \"edm\"][\"speechiness\"]\n",
    "rock_speechiness = spotify[spotify[\"playlist_genre\"] == \"rock\"][\"speechiness\"]\n",
    "latin_speechiness = spotify[spotify[\"playlist_genre\"] == \"rock\"][\"speechiness\"]\n",
    "rnb_speechiness = spotify[spotify[\"playlist_genre\"] == \"r&b\"][\"speechiness\"]\n",
    "\n",
    "# Visualize\n",
    "fig, ax = plt.subplots(figsize=(12, 7))\n",
    "\n",
    "# Remove y-axis tick marks\n",
    "ax.yaxis.set_ticks_position(\"none\")\n",
    "# Add major gridlines in the y-axis\n",
    "ax.grid(color=\"grey\", axis=\"y\", linestyle=\"-\", linewidth=0.25, alpha=0.5)\n",
    "# Set plot title\n",
    "ax.set_title(\"Distribution of Speechiness length by music genre\")\n",
    "plt.xlabel(\"Music Genres\")\n",
    "plt.ylabel(\"Speechiness\")\n",
    "# Set names as labels for the boxplot\n",
    "dataset = [\n",
    "    pop_speechiness,\n",
    "    rap_speechiness,\n",
    "    edm_speechiness,\n",
    "    rock_speechiness,\n",
    "    latin_speechiness,\n",
    "    rnb_speechiness,\n",
    "]\n",
    "labels = spotify[\"playlist_genre\"].unique()\n",
    "ax.boxplot(dataset, labels=genres)\n",
    "plt.show()"
   ]
  },
  {
   "cell_type": "code",
   "execution_count": 9,
   "metadata": {},
   "outputs": [
    {
     "data": {
      "image/png": "[encoded data removed]",
      "text/plain": [
       "<Figure size 864x504 with 1 Axes>"
      ]
     },
     "metadata": {
      "needs_background": "light"
     },
     "output_type": "display_data"
    }
   ],
   "source": [
    "# Prepare acousticness by genre datasets\n",
    "pop_acousticness = spotify[spotify[\"playlist_genre\"] == \"pop\"][\"acousticness\"]\n",
    "rap_acousticness = spotify[spotify[\"playlist_genre\"] == \"rap\"][\"acousticness\"]\n",
    "edm_acousticness = spotify[spotify[\"playlist_genre\"] == \"edm\"][\"acousticness\"]\n",
    "rock_acousticness = spotify[spotify[\"playlist_genre\"] == \"rock\"][\"acousticness\"]\n",
    "latin_acousticness = spotify[spotify[\"playlist_genre\"] == \"rock\"][\"acousticness\"]\n",
    "rnb_acousticness = spotify[spotify[\"playlist_genre\"] == \"r&b\"][\"acousticness\"]\n",
    "\n",
    "# Visualize\n",
    "fig, ax = plt.subplots(figsize=(12, 7))\n",
    "\n",
    "# Remove y-axis tick marks\n",
    "ax.yaxis.set_ticks_position(\"none\")\n",
    "# Add major gridlines in the y-axis\n",
    "ax.grid(color=\"grey\", axis=\"y\", linestyle=\"-\", linewidth=0.25, alpha=0.5)\n",
    "# Set plot title\n",
    "ax.set_title(\"Distribution of Acousticness length by music genre\")\n",
    "plt.xlabel(\"Music Genres\")\n",
    "plt.ylabel(\"Acousticness\")\n",
    "# Set names as labels for the boxplot\n",
    "dataset = [\n",
    "    pop_acousticness,\n",
    "    rap_acousticness,\n",
    "    edm_acousticness,\n",
    "    rock_acousticness,\n",
    "    latin_acousticness,\n",
    "    rnb_acousticness,\n",
    "]\n",
    "labels = spotify[\"playlist_genre\"].unique()\n",
    "ax.boxplot(dataset, labels=genres)\n",
    "plt.show()"
   ]
  },
  {
   "cell_type": "code",
   "execution_count": 10,
   "metadata": {},
   "outputs": [
    {
     "data": {
      "image/png": "[encoded data removed]",
      "text/plain": [
       "<Figure size 864x504 with 1 Axes>"
      ]
     },
     "metadata": {
      "needs_background": "light"
     },
     "output_type": "display_data"
    }
   ],
   "source": [
    "# Prepare liveness by genre datasets\n",
    "pop_liveness = spotify[spotify[\"playlist_genre\"] == \"pop\"][\"liveness\"]\n",
    "rap_liveness = spotify[spotify[\"playlist_genre\"] == \"rap\"][\"liveness\"]\n",
    "edm_liveness = spotify[spotify[\"playlist_genre\"] == \"edm\"][\"liveness\"]\n",
    "rock_liveness = spotify[spotify[\"playlist_genre\"] == \"rock\"][\"liveness\"]\n",
    "latin_liveness = spotify[spotify[\"playlist_genre\"] == \"rock\"][\n",
    "    \"liveness\"\n",
    "]\n",
    "rnb_liveness = spotify[spotify[\"playlist_genre\"] == \"r&b\"][\"liveness\"]\n",
    "\n",
    "# Visualize\n",
    "fig, ax = plt.subplots(figsize=(12, 7))\n",
    "\n",
    "# Remove y-axis tick marks\n",
    "ax.yaxis.set_ticks_position(\"none\")\n",
    "# Add major gridlines in the y-axis\n",
    "ax.grid(color=\"grey\", axis=\"y\", linestyle=\"-\", linewidth=0.25, alpha=0.5)\n",
    "# Set plot title\n",
    "ax.set_title(\"Distribution of Liveness length by music genre\")\n",
    "plt.xlabel(\"Music Genres\")\n",
    "plt.ylabel(\"Liveness\")\n",
    "# Set names as labels for the boxplot\n",
    "dataset = [\n",
    "    pop_liveness,\n",
    "    rap_liveness,\n",
    "    edm_liveness,\n",
    "    rock_liveness,\n",
    "    latin_liveness,\n",
    "    rnb_liveness,\n",
    "]\n",
    "labels = spotify[\"playlist_genre\"].unique()\n",
    "ax.boxplot(dataset, labels=genres)\n",
    "plt.show()"
   ]
  },
  {
   "cell_type": "code",
   "execution_count": 11,
   "metadata": {},
   "outputs": [
    {
     "data": {
      "image/png": "[encoded data removed]",
      "text/plain": [
       "<Figure size 864x504 with 1 Axes>"
      ]
     },
     "metadata": {
      "needs_background": "light"
     },
     "output_type": "display_data"
    }
   ],
   "source": [
    "# Prepare valence by genre datasets\n",
    "pop_valence = spotify[spotify[\"playlist_genre\"] == \"pop\"][\"valence\"]\n",
    "rap_valence = spotify[spotify[\"playlist_genre\"] == \"rap\"][\"valence\"]\n",
    "edm_valence = spotify[spotify[\"playlist_genre\"] == \"edm\"][\"valence\"]\n",
    "rock_valence = spotify[spotify[\"playlist_genre\"] == \"rock\"][\"valence\"]\n",
    "latin_valence = spotify[spotify[\"playlist_genre\"] == \"rock\"][\"valence\"]\n",
    "rnb_valence = spotify[spotify[\"playlist_genre\"] == \"r&b\"][\"valence\"]\n",
    "\n",
    "# Visualize\n",
    "fig, ax = plt.subplots(figsize=(12, 7))\n",
    "\n",
    "# Remove y-axis tick marks\n",
    "ax.yaxis.set_ticks_position(\"none\")\n",
    "# Add major gridlines in the y-axis\n",
    "ax.grid(color=\"grey\", axis=\"y\", linestyle=\"-\", linewidth=0.25, alpha=0.5)\n",
    "# Set plot title\n",
    "ax.set_title(\"Distribution of Valence length by music genre\")\n",
    "plt.xlabel(\"Music Genres\")\n",
    "plt.ylabel(\"Valence\")\n",
    "# Set names as labels for the boxplot\n",
    "dataset = [\n",
    "    pop_liveness,\n",
    "    rap_liveness,\n",
    "    edm_liveness,\n",
    "    rock_liveness,\n",
    "    latin_liveness,\n",
    "    rnb_liveness,\n",
    "]\n",
    "labels = spotify[\"playlist_genre\"].unique()\n",
    "ax.boxplot(dataset, labels=genres)\n",
    "plt.show()"
   ]
  },
  {
   "cell_type": "code",
   "execution_count": 12,
   "metadata": {},
   "outputs": [
    {
     "data": {
      "image/png": "[encoded data removed]",
      "text/plain": [
       "<Figure size 864x504 with 1 Axes>"
      ]
     },
     "metadata": {
      "needs_background": "light"
     },
     "output_type": "display_data"
    }
   ],
   "source": [
    "# Prepare tempo by genre datasets\n",
    "pop_duration_ms = spotify[spotify[\"playlist_genre\"] == \"pop\"][\"duration_ms\"]\n",
    "rap_duration_ms = spotify[spotify[\"playlist_genre\"] == \"rap\"][\"duration_ms\"]\n",
    "edm_duration_ms = spotify[spotify[\"playlist_genre\"] == \"edm\"][\"duration_ms\"]\n",
    "rock_duration_ms = spotify[spotify[\"playlist_genre\"] == \"rock\"][\"duration_ms\"]\n",
    "latin_duration_ms = spotify[spotify[\"playlist_genre\"] == \"rock\"][\"duration_ms\"]\n",
    "rnb_duration_ms = spotify[spotify[\"playlist_genre\"] == \"r&b\"][\"duration_ms\"]\n",
    "\n",
    "# Visualize\n",
    "fig, ax = plt.subplots(figsize=(12, 7))\n",
    "\n",
    "# Remove y-axis tick marks\n",
    "ax.yaxis.set_ticks_position(\"none\")\n",
    "# Add major gridlines in the y-axis\n",
    "ax.grid(color=\"grey\", axis=\"y\", linestyle=\"-\", linewidth=0.25, alpha=0.5)\n",
    "# Set plot title\n",
    "ax.set_title(\"Distribution of Duration_ms length by music genre\")\n",
    "plt.xlabel(\"Music Genres\")\n",
    "plt.ylabel(\"Duration_ms\")\n",
    "# Set names as labels for the boxplot\n",
    "dataset = [\n",
    "    pop_duration_ms,\n",
    "    rap_duration_ms,\n",
    "    edm_duration_ms,\n",
    "    rock_duration_ms,\n",
    "    latin_duration_ms,\n",
    "    rnb_duration_ms,\n",
    "]\n",
    "labels = spotify[\"playlist_genre\"].unique()\n",
    "ax.boxplot(dataset, labels=genres)\n",
    "plt.show()"
   ]
  },
  {
   "cell_type": "code",
   "execution_count": 13,
   "metadata": {},
   "outputs": [
    {
     "data": {
      "image/png": "[encoded data removed]",
      "text/plain": [
       "<Figure size 864x504 with 1 Axes>"
      ]
     },
     "metadata": {
      "needs_background": "light"
     },
     "output_type": "display_data"
    }
   ],
   "source": [
    "# Prepare tempo by genre datasets\n",
    "pop_tempo = spotify[spotify[\"playlist_genre\"] == \"pop\"][\"tempo\"]\n",
    "rap_tempo = spotify[spotify[\"playlist_genre\"] == \"rap\"][\"tempo\"]\n",
    "edm_tempo = spotify[spotify[\"playlist_genre\"] == \"edm\"][\"tempo\"]\n",
    "rock_tempo = spotify[spotify[\"playlist_genre\"] == \"rock\"][\"tempo\"]\n",
    "latin_tempo = spotify[spotify[\"playlist_genre\"] == \"rock\"][\"tempo\"]\n",
    "rnb_tempo = spotify[spotify[\"playlist_genre\"] == \"r&b\"][\"tempo\"]\n",
    "\n",
    "# Visualize\n",
    "fig, ax = plt.subplots(figsize=(12, 7))\n",
    "\n",
    "# Remove y-axis tick marks\n",
    "ax.yaxis.set_ticks_position(\"none\")\n",
    "# Add major gridlines in the y-axis\n",
    "ax.grid(color=\"grey\", axis=\"y\", linestyle=\"-\", linewidth=0.25, alpha=0.5)\n",
    "# Set plot title\n",
    "ax.set_title(\"Distribution of Tempo length by music genre\")\n",
    "plt.xlabel(\"Music Genres\")\n",
    "plt.ylabel(\"Tempo\")\n",
    "# Set names as labels for the boxplot\n",
    "dataset = [\n",
    "    pop_tempo,\n",
    "    rap_tempo,\n",
    "    edm_tempo,\n",
    "    rock_tempo,\n",
    "    latin_tempo,\n",
    "    rnb_tempo,\n",
    "]\n",
    "labels = spotify[\"playlist_genre\"].unique()\n",
    "ax.boxplot(dataset, labels=genres)\n",
    "plt.show()"
   ]
  },
  {
   "cell_type": "code",
   "execution_count": 14,
   "metadata": {},
   "outputs": [],
   "source": [
    "# we do these for each covariate..."
   ]
  },
  {
   "cell_type": "code",
   "execution_count": 15,
   "metadata": {},
   "outputs": [
    {
     "data": {
      "text/html": [
       "<div>\n",
       "<style scoped>\n",
       "    .dataframe tbody tr th:only-of-type {\n",
       "        vertical-align: middle;\n",
       "    }\n",
       "\n",
       "    .dataframe tbody tr th {\n",
       "        vertical-align: top;\n",
       "    }\n",
       "\n",
       "    .dataframe thead th {\n",
       "        text-align: right;\n",
       "    }\n",
       "</style>\n",
       "<table border=\"1\" class=\"dataframe\">\n",
       "  <thead>\n",
       "    <tr style=\"text-align: right;\">\n",
       "      <th></th>\n",
       "      <th>danceability</th>\n",
       "      <th>energy</th>\n",
       "      <th>key</th>\n",
       "      <th>loudness</th>\n",
       "      <th>mode</th>\n",
       "      <th>speechiness</th>\n",
       "      <th>acousticness</th>\n",
       "      <th>instrumentalness</th>\n",
       "      <th>liveness</th>\n",
       "      <th>valence</th>\n",
       "      <th>tempo</th>\n",
       "      <th>duration_ms</th>\n",
       "    </tr>\n",
       "  </thead>\n",
       "  <tbody>\n",
       "    <tr>\n",
       "      <th>392</th>\n",
       "      <td>0.604</td>\n",
       "      <td>0.733</td>\n",
       "      <td>2</td>\n",
       "      <td>-5.788</td>\n",
       "      <td>1</td>\n",
       "      <td>0.0348</td>\n",
       "      <td>0.1050</td>\n",
       "      <td>0.000000</td>\n",
       "      <td>0.250</td>\n",
       "      <td>0.399</td>\n",
       "      <td>124.885</td>\n",
       "      <td>270904</td>\n",
       "    </tr>\n",
       "    <tr>\n",
       "      <th>8797</th>\n",
       "      <td>0.723</td>\n",
       "      <td>0.841</td>\n",
       "      <td>9</td>\n",
       "      <td>-4.998</td>\n",
       "      <td>0</td>\n",
       "      <td>0.3370</td>\n",
       "      <td>0.2690</td>\n",
       "      <td>0.001140</td>\n",
       "      <td>0.188</td>\n",
       "      <td>0.557</td>\n",
       "      <td>139.845</td>\n",
       "      <td>202674</td>\n",
       "    </tr>\n",
       "    <tr>\n",
       "      <th>143</th>\n",
       "      <td>0.551</td>\n",
       "      <td>0.651</td>\n",
       "      <td>8</td>\n",
       "      <td>-5.828</td>\n",
       "      <td>0</td>\n",
       "      <td>0.0594</td>\n",
       "      <td>0.2250</td>\n",
       "      <td>0.000000</td>\n",
       "      <td>0.224</td>\n",
       "      <td>0.562</td>\n",
       "      <td>144.875</td>\n",
       "      <td>194907</td>\n",
       "    </tr>\n",
       "    <tr>\n",
       "      <th>10962</th>\n",
       "      <td>0.922</td>\n",
       "      <td>0.448</td>\n",
       "      <td>0</td>\n",
       "      <td>-9.197</td>\n",
       "      <td>0</td>\n",
       "      <td>0.3090</td>\n",
       "      <td>0.2310</td>\n",
       "      <td>0.000000</td>\n",
       "      <td>0.246</td>\n",
       "      <td>0.233</td>\n",
       "      <td>130.017</td>\n",
       "      <td>142053</td>\n",
       "    </tr>\n",
       "    <tr>\n",
       "      <th>25990</th>\n",
       "      <td>0.571</td>\n",
       "      <td>0.731</td>\n",
       "      <td>4</td>\n",
       "      <td>-8.983</td>\n",
       "      <td>0</td>\n",
       "      <td>0.0527</td>\n",
       "      <td>0.0687</td>\n",
       "      <td>0.000032</td>\n",
       "      <td>0.162</td>\n",
       "      <td>0.593</td>\n",
       "      <td>82.000</td>\n",
       "      <td>292786</td>\n",
       "    </tr>\n",
       "  </tbody>\n",
       "</table>\n",
       "</div>"
      ],
      "text/plain": [
       "       danceability  energy  key  loudness  mode  speechiness  acousticness  \\\n",
       "392           0.604   0.733    2    -5.788     1       0.0348        0.1050   \n",
       "8797          0.723   0.841    9    -4.998     0       0.3370        0.2690   \n",
       "143           0.551   0.651    8    -5.828     0       0.0594        0.2250   \n",
       "10962         0.922   0.448    0    -9.197     0       0.3090        0.2310   \n",
       "25990         0.571   0.731    4    -8.983     0       0.0527        0.0687   \n",
       "\n",
       "       instrumentalness  liveness  valence    tempo  duration_ms  \n",
       "392            0.000000     0.250    0.399  124.885       270904  \n",
       "8797           0.001140     0.188    0.557  139.845       202674  \n",
       "143            0.000000     0.224    0.562  144.875       194907  \n",
       "10962          0.000000     0.246    0.233  130.017       142053  \n",
       "25990          0.000032     0.162    0.593   82.000       292786  "
      ]
     },
     "execution_count": 15,
     "metadata": {},
     "output_type": "execute_result"
    }
   ],
   "source": [
    "music_X = spotify[music_covariates]\n",
    "music_Y = spotify['playlist_genre']\n",
    "#subset for music covariates only\n",
    "music_X.sample(5)"
   ]
  },
  {
   "cell_type": "code",
   "execution_count": 16,
   "metadata": {},
   "outputs": [],
   "source": [
    "#music_X.describe()"
   ]
  },
  {
   "cell_type": "markdown",
   "metadata": {},
   "source": [
    "# Merge of cluster values with covariates"
   ]
  },
  {
   "cell_type": "code",
   "execution_count": 17,
   "metadata": {},
   "outputs": [],
   "source": [
    "# read in k_means labels csv\n",
    "k_labels = pd.read_csv('../20_classification/labels_kmeans.csv', usecols=[1])\n",
    "\n",
    "# merge k_means labels to music_X\n",
    "k_merge = pd.merge(music_X, k_labels, left_index=True, right_index=True)\n",
    "\n",
    "# rename the OG cluster column appropriately\n",
    "k_merge = k_merge.rename(columns={'0': 'cluster'})\n",
    "\n",
    "# creating new list to map cluster number to a letter\n",
    "k_letter = {1: 'A', 2: 'B', 3: 'C', 4: 'D', 5: 'E', 6: 'F'}\n",
    "\n",
    "# additional column holding cluster letter\n",
    "k_merge['cluster'] = k_merge['cluster'].map(k_letter)"
   ]
  },
  {
   "cell_type": "code",
   "execution_count": 18,
   "metadata": {},
   "outputs": [],
   "source": [
    "#k_merge.info()"
   ]
  },
  {
   "cell_type": "code",
   "execution_count": 19,
   "metadata": {},
   "outputs": [],
   "source": [
    "#k_merge.describe()"
   ]
  },
  {
   "cell_type": "code",
   "execution_count": 20,
   "metadata": {},
   "outputs": [
    {
     "data": {
      "text/html": [
       "<div>\n",
       "<style scoped>\n",
       "    .dataframe tbody tr th:only-of-type {\n",
       "        vertical-align: middle;\n",
       "    }\n",
       "\n",
       "    .dataframe tbody tr th {\n",
       "        vertical-align: top;\n",
       "    }\n",
       "\n",
       "    .dataframe thead th {\n",
       "        text-align: right;\n",
       "    }\n",
       "</style>\n",
       "<table border=\"1\" class=\"dataframe\">\n",
       "  <thead>\n",
       "    <tr style=\"text-align: right;\">\n",
       "      <th></th>\n",
       "      <th>danceability</th>\n",
       "      <th>energy</th>\n",
       "      <th>key</th>\n",
       "      <th>loudness</th>\n",
       "      <th>mode</th>\n",
       "      <th>speechiness</th>\n",
       "      <th>acousticness</th>\n",
       "      <th>instrumentalness</th>\n",
       "      <th>liveness</th>\n",
       "      <th>valence</th>\n",
       "      <th>tempo</th>\n",
       "      <th>duration_ms</th>\n",
       "      <th>cluster</th>\n",
       "    </tr>\n",
       "  </thead>\n",
       "  <tbody>\n",
       "    <tr>\n",
       "      <th>0</th>\n",
       "      <td>0.748</td>\n",
       "      <td>0.916</td>\n",
       "      <td>6</td>\n",
       "      <td>-2.634</td>\n",
       "      <td>1</td>\n",
       "      <td>0.0583</td>\n",
       "      <td>0.102000</td>\n",
       "      <td>0.000000</td>\n",
       "      <td>0.0653</td>\n",
       "      <td>0.5180</td>\n",
       "      <td>122.036</td>\n",
       "      <td>194754</td>\n",
       "      <td>D</td>\n",
       "    </tr>\n",
       "    <tr>\n",
       "      <th>1</th>\n",
       "      <td>0.726</td>\n",
       "      <td>0.815</td>\n",
       "      <td>11</td>\n",
       "      <td>-4.969</td>\n",
       "      <td>1</td>\n",
       "      <td>0.0373</td>\n",
       "      <td>0.072400</td>\n",
       "      <td>0.004210</td>\n",
       "      <td>0.3570</td>\n",
       "      <td>0.6930</td>\n",
       "      <td>99.972</td>\n",
       "      <td>162600</td>\n",
       "      <td>D</td>\n",
       "    </tr>\n",
       "    <tr>\n",
       "      <th>2</th>\n",
       "      <td>0.675</td>\n",
       "      <td>0.931</td>\n",
       "      <td>1</td>\n",
       "      <td>-3.432</td>\n",
       "      <td>0</td>\n",
       "      <td>0.0742</td>\n",
       "      <td>0.079400</td>\n",
       "      <td>0.000023</td>\n",
       "      <td>0.1100</td>\n",
       "      <td>0.6130</td>\n",
       "      <td>124.008</td>\n",
       "      <td>176616</td>\n",
       "      <td>E</td>\n",
       "    </tr>\n",
       "    <tr>\n",
       "      <th>3</th>\n",
       "      <td>0.718</td>\n",
       "      <td>0.930</td>\n",
       "      <td>7</td>\n",
       "      <td>-3.778</td>\n",
       "      <td>1</td>\n",
       "      <td>0.1020</td>\n",
       "      <td>0.028700</td>\n",
       "      <td>0.000009</td>\n",
       "      <td>0.2040</td>\n",
       "      <td>0.2770</td>\n",
       "      <td>121.956</td>\n",
       "      <td>169093</td>\n",
       "      <td>A</td>\n",
       "    </tr>\n",
       "    <tr>\n",
       "      <th>4</th>\n",
       "      <td>0.650</td>\n",
       "      <td>0.833</td>\n",
       "      <td>1</td>\n",
       "      <td>-4.672</td>\n",
       "      <td>1</td>\n",
       "      <td>0.0359</td>\n",
       "      <td>0.080300</td>\n",
       "      <td>0.000000</td>\n",
       "      <td>0.0833</td>\n",
       "      <td>0.7250</td>\n",
       "      <td>123.976</td>\n",
       "      <td>189052</td>\n",
       "      <td>D</td>\n",
       "    </tr>\n",
       "    <tr>\n",
       "      <th>...</th>\n",
       "      <td>...</td>\n",
       "      <td>...</td>\n",
       "      <td>...</td>\n",
       "      <td>...</td>\n",
       "      <td>...</td>\n",
       "      <td>...</td>\n",
       "      <td>...</td>\n",
       "      <td>...</td>\n",
       "      <td>...</td>\n",
       "      <td>...</td>\n",
       "      <td>...</td>\n",
       "      <td>...</td>\n",
       "      <td>...</td>\n",
       "    </tr>\n",
       "    <tr>\n",
       "      <th>32828</th>\n",
       "      <td>0.428</td>\n",
       "      <td>0.922</td>\n",
       "      <td>2</td>\n",
       "      <td>-1.814</td>\n",
       "      <td>1</td>\n",
       "      <td>0.0936</td>\n",
       "      <td>0.076600</td>\n",
       "      <td>0.000000</td>\n",
       "      <td>0.0668</td>\n",
       "      <td>0.2100</td>\n",
       "      <td>128.170</td>\n",
       "      <td>204375</td>\n",
       "      <td>A</td>\n",
       "    </tr>\n",
       "    <tr>\n",
       "      <th>32829</th>\n",
       "      <td>0.522</td>\n",
       "      <td>0.786</td>\n",
       "      <td>0</td>\n",
       "      <td>-4.462</td>\n",
       "      <td>1</td>\n",
       "      <td>0.0420</td>\n",
       "      <td>0.001710</td>\n",
       "      <td>0.004270</td>\n",
       "      <td>0.3750</td>\n",
       "      <td>0.4000</td>\n",
       "      <td>128.041</td>\n",
       "      <td>353120</td>\n",
       "      <td>A</td>\n",
       "    </tr>\n",
       "    <tr>\n",
       "      <th>32830</th>\n",
       "      <td>0.529</td>\n",
       "      <td>0.821</td>\n",
       "      <td>6</td>\n",
       "      <td>-4.899</td>\n",
       "      <td>0</td>\n",
       "      <td>0.0481</td>\n",
       "      <td>0.108000</td>\n",
       "      <td>0.000001</td>\n",
       "      <td>0.1500</td>\n",
       "      <td>0.4360</td>\n",
       "      <td>127.989</td>\n",
       "      <td>210112</td>\n",
       "      <td>A</td>\n",
       "    </tr>\n",
       "    <tr>\n",
       "      <th>32831</th>\n",
       "      <td>0.626</td>\n",
       "      <td>0.888</td>\n",
       "      <td>2</td>\n",
       "      <td>-3.361</td>\n",
       "      <td>1</td>\n",
       "      <td>0.1090</td>\n",
       "      <td>0.007920</td>\n",
       "      <td>0.127000</td>\n",
       "      <td>0.3430</td>\n",
       "      <td>0.3080</td>\n",
       "      <td>128.008</td>\n",
       "      <td>367432</td>\n",
       "      <td>A</td>\n",
       "    </tr>\n",
       "    <tr>\n",
       "      <th>32832</th>\n",
       "      <td>0.603</td>\n",
       "      <td>0.884</td>\n",
       "      <td>5</td>\n",
       "      <td>-4.571</td>\n",
       "      <td>0</td>\n",
       "      <td>0.0385</td>\n",
       "      <td>0.000133</td>\n",
       "      <td>0.341000</td>\n",
       "      <td>0.7420</td>\n",
       "      <td>0.0894</td>\n",
       "      <td>127.984</td>\n",
       "      <td>337500</td>\n",
       "      <td>C</td>\n",
       "    </tr>\n",
       "  </tbody>\n",
       "</table>\n",
       "<p>32833 rows × 13 columns</p>\n",
       "</div>"
      ],
      "text/plain": [
       "       danceability  energy  key  loudness  mode  speechiness  acousticness  \\\n",
       "0             0.748   0.916    6    -2.634     1       0.0583      0.102000   \n",
       "1             0.726   0.815   11    -4.969     1       0.0373      0.072400   \n",
       "2             0.675   0.931    1    -3.432     0       0.0742      0.079400   \n",
       "3             0.718   0.930    7    -3.778     1       0.1020      0.028700   \n",
       "4             0.650   0.833    1    -4.672     1       0.0359      0.080300   \n",
       "...             ...     ...  ...       ...   ...          ...           ...   \n",
       "32828         0.428   0.922    2    -1.814     1       0.0936      0.076600   \n",
       "32829         0.522   0.786    0    -4.462     1       0.0420      0.001710   \n",
       "32830         0.529   0.821    6    -4.899     0       0.0481      0.108000   \n",
       "32831         0.626   0.888    2    -3.361     1       0.1090      0.007920   \n",
       "32832         0.603   0.884    5    -4.571     0       0.0385      0.000133   \n",
       "\n",
       "       instrumentalness  liveness  valence    tempo  duration_ms cluster  \n",
       "0              0.000000    0.0653   0.5180  122.036       194754       D  \n",
       "1              0.004210    0.3570   0.6930   99.972       162600       D  \n",
       "2              0.000023    0.1100   0.6130  124.008       176616       E  \n",
       "3              0.000009    0.2040   0.2770  121.956       169093       A  \n",
       "4              0.000000    0.0833   0.7250  123.976       189052       D  \n",
       "...                 ...       ...      ...      ...          ...     ...  \n",
       "32828          0.000000    0.0668   0.2100  128.170       204375       A  \n",
       "32829          0.004270    0.3750   0.4000  128.041       353120       A  \n",
       "32830          0.000001    0.1500   0.4360  127.989       210112       A  \n",
       "32831          0.127000    0.3430   0.3080  128.008       367432       A  \n",
       "32832          0.341000    0.7420   0.0894  127.984       337500       C  \n",
       "\n",
       "[32833 rows x 13 columns]"
      ]
     },
     "execution_count": 20,
     "metadata": {},
     "output_type": "execute_result"
    }
   ],
   "source": [
    "k_merge"
   ]
  },
  {
   "cell_type": "markdown",
   "metadata": {},
   "source": [
    "# 3rd Lets visualize our categories in 2-dim"
   ]
  },
  {
   "cell_type": "code",
   "execution_count": 21,
   "metadata": {},
   "outputs": [
    {
     "data": {
      "image/png": "[encoded data removed]",
      "text/plain": [
       "<Figure size 864x648 with 1 Axes>"
      ]
     },
     "metadata": {
      "needs_background": "light"
     },
     "output_type": "display_data"
    }
   ],
   "source": [
    "from sklearn.decomposition import PCA\n",
    "import seaborn as sns\n",
    "import pylab as pl\n",
    "\n",
    "music = spotify[music_covariates] #subset for music covariates only\n",
    "\n",
    "pca = PCA(n_components=2)\n",
    "principalComponents = pca.fit_transform(music_X)\n",
    "music_2dim = pd.DataFrame(data=principalComponents)\n",
    "\n",
    "# Plot digits in 2D:\n",
    "markers = [\"$1$\", \"$3$\", \"$2$\", \"$6$\", \"$4$\", \"$5$\"]\n",
    "\n",
    "plt.figure(figsize=(12, 9))\n",
    "sns.scatterplot(\n",
    "    x=music_2dim[0],\n",
    "    y=music_2dim[1],\n",
    "    style=music_Y,\n",
    "    hue=music_Y,\n",
    "    edgecolor=\"white\",\n",
    "    palette=\"gist_rainbow\",\n",
    "    linewidth=0.2,\n",
    "    markers=markers,\n",
    "    s=40,\n",
    "    legend=False,\n",
    ").set_title(\"Music data in 2 dimensions\")\n",
    "plt.xlabel(\"$X_1$\")\n",
    "plt.ylabel(\"$X_2$\")\n",
    "plt.show()"
   ]
  },
  {
   "cell_type": "markdown",
   "metadata": {},
   "source": [
    "This tells us the categories overlap a lot! Which means its hard to classify :)"
   ]
  },
  {
   "cell_type": "code",
   "execution_count": 22,
   "metadata": {},
   "outputs": [],
   "source": [
    "genres = [\"pop\", \"rap\", \"edm\", \"rock\", \"latin\", \"r&b\"]\n",
    "\n",
    "\n",
    "medians = { \"pop\": [], \"rap\": [], \"edm\": [], \"rock\":[], \"latin\":[], \"r&b\":[]}"
   ]
  },
  {
   "cell_type": "code",
   "execution_count": 23,
   "metadata": {},
   "outputs": [],
   "source": [
    "import numpy as np\n",
    "\n",
    "for i in genres:\n",
    "    for j in music_covariates:\n",
    "        medians[i].append(np.median(spotify.loc[spotify['playlist_genre']==i][j]))"
   ]
  },
  {
   "cell_type": "code",
   "execution_count": 24,
   "metadata": {},
   "outputs": [],
   "source": [
    "df = pd.DataFrame(medians)\n",
    "df = df.transpose()"
   ]
  },
  {
   "cell_type": "code",
   "execution_count": 25,
   "metadata": {},
   "outputs": [
    {
     "data": {
      "text/html": [
       "<div>\n",
       "<style scoped>\n",
       "    .dataframe tbody tr th:only-of-type {\n",
       "        vertical-align: middle;\n",
       "    }\n",
       "\n",
       "    .dataframe tbody tr th {\n",
       "        vertical-align: top;\n",
       "    }\n",
       "\n",
       "    .dataframe thead th {\n",
       "        text-align: right;\n",
       "    }\n",
       "</style>\n",
       "<table border=\"1\" class=\"dataframe\">\n",
       "  <thead>\n",
       "    <tr style=\"text-align: right;\">\n",
       "      <th></th>\n",
       "      <th>0</th>\n",
       "      <th>1</th>\n",
       "      <th>2</th>\n",
       "      <th>3</th>\n",
       "      <th>4</th>\n",
       "      <th>5</th>\n",
       "      <th>6</th>\n",
       "      <th>7</th>\n",
       "      <th>8</th>\n",
       "      <th>9</th>\n",
       "      <th>10</th>\n",
       "      <th>11</th>\n",
       "    </tr>\n",
       "  </thead>\n",
       "  <tbody>\n",
       "    <tr>\n",
       "      <th>pop</th>\n",
       "      <td>0.652</td>\n",
       "      <td>0.727</td>\n",
       "      <td>5.0</td>\n",
       "      <td>-5.8350</td>\n",
       "      <td>1.0</td>\n",
       "      <td>0.0490</td>\n",
       "      <td>0.0767</td>\n",
       "      <td>0.000011</td>\n",
       "      <td>0.123</td>\n",
       "      <td>0.500</td>\n",
       "      <td>120.0170</td>\n",
       "      <td>211088.0</td>\n",
       "    </tr>\n",
       "    <tr>\n",
       "      <th>rap</th>\n",
       "      <td>0.737</td>\n",
       "      <td>0.665</td>\n",
       "      <td>6.0</td>\n",
       "      <td>-6.5075</td>\n",
       "      <td>1.0</td>\n",
       "      <td>0.1775</td>\n",
       "      <td>0.1090</td>\n",
       "      <td>0.000000</td>\n",
       "      <td>0.128</td>\n",
       "      <td>0.517</td>\n",
       "      <td>119.9875</td>\n",
       "      <td>210805.5</td>\n",
       "    </tr>\n",
       "    <tr>\n",
       "      <th>edm</th>\n",
       "      <td>0.659</td>\n",
       "      <td>0.830</td>\n",
       "      <td>6.0</td>\n",
       "      <td>-4.9610</td>\n",
       "      <td>1.0</td>\n",
       "      <td>0.0599</td>\n",
       "      <td>0.0193</td>\n",
       "      <td>0.003990</td>\n",
       "      <td>0.139</td>\n",
       "      <td>0.370</td>\n",
       "      <td>127.0560</td>\n",
       "      <td>204000.0</td>\n",
       "    </tr>\n",
       "    <tr>\n",
       "      <th>rock</th>\n",
       "      <td>0.523</td>\n",
       "      <td>0.775</td>\n",
       "      <td>5.0</td>\n",
       "      <td>-7.0070</td>\n",
       "      <td>1.0</td>\n",
       "      <td>0.0419</td>\n",
       "      <td>0.0373</td>\n",
       "      <td>0.000211</td>\n",
       "      <td>0.136</td>\n",
       "      <td>0.531</td>\n",
       "      <td>124.0350</td>\n",
       "      <td>237558.0</td>\n",
       "    </tr>\n",
       "    <tr>\n",
       "      <th>latin</th>\n",
       "      <td>0.729</td>\n",
       "      <td>0.729</td>\n",
       "      <td>6.0</td>\n",
       "      <td>-5.7520</td>\n",
       "      <td>1.0</td>\n",
       "      <td>0.0674</td>\n",
       "      <td>0.1390</td>\n",
       "      <td>0.000002</td>\n",
       "      <td>0.121</td>\n",
       "      <td>0.628</td>\n",
       "      <td>110.9620</td>\n",
       "      <td>210750.0</td>\n",
       "    </tr>\n",
       "    <tr>\n",
       "      <th>r&amp;b</th>\n",
       "      <td>0.689</td>\n",
       "      <td>0.596</td>\n",
       "      <td>6.0</td>\n",
       "      <td>-7.4200</td>\n",
       "      <td>1.0</td>\n",
       "      <td>0.0679</td>\n",
       "      <td>0.1650</td>\n",
       "      <td>0.000005</td>\n",
       "      <td>0.120</td>\n",
       "      <td>0.542</td>\n",
       "      <td>108.7440</td>\n",
       "      <td>232147.0</td>\n",
       "    </tr>\n",
       "  </tbody>\n",
       "</table>\n",
       "</div>"
      ],
      "text/plain": [
       "          0      1    2       3    4       5       6         7      8      9   \\\n",
       "pop    0.652  0.727  5.0 -5.8350  1.0  0.0490  0.0767  0.000011  0.123  0.500   \n",
       "rap    0.737  0.665  6.0 -6.5075  1.0  0.1775  0.1090  0.000000  0.128  0.517   \n",
       "edm    0.659  0.830  6.0 -4.9610  1.0  0.0599  0.0193  0.003990  0.139  0.370   \n",
       "rock   0.523  0.775  5.0 -7.0070  1.0  0.0419  0.0373  0.000211  0.136  0.531   \n",
       "latin  0.729  0.729  6.0 -5.7520  1.0  0.0674  0.1390  0.000002  0.121  0.628   \n",
       "r&b    0.689  0.596  6.0 -7.4200  1.0  0.0679  0.1650  0.000005  0.120  0.542   \n",
       "\n",
       "             10        11  \n",
       "pop    120.0170  211088.0  \n",
       "rap    119.9875  210805.5  \n",
       "edm    127.0560  204000.0  \n",
       "rock   124.0350  237558.0  \n",
       "latin  110.9620  210750.0  \n",
       "r&b    108.7440  232147.0  "
      ]
     },
     "execution_count": 25,
     "metadata": {},
     "output_type": "execute_result"
    }
   ],
   "source": [
    "df"
   ]
  },
  {
   "cell_type": "code",
   "execution_count": 26,
   "metadata": {},
   "outputs": [
    {
     "data": {
      "text/html": [
       "<div>\n",
       "<style scoped>\n",
       "    .dataframe tbody tr th:only-of-type {\n",
       "        vertical-align: middle;\n",
       "    }\n",
       "\n",
       "    .dataframe tbody tr th {\n",
       "        vertical-align: top;\n",
       "    }\n",
       "\n",
       "    .dataframe thead th {\n",
       "        text-align: right;\n",
       "    }\n",
       "</style>\n",
       "<table border=\"1\" class=\"dataframe\">\n",
       "  <thead>\n",
       "    <tr style=\"text-align: right;\">\n",
       "      <th></th>\n",
       "      <th>0</th>\n",
       "      <th>1</th>\n",
       "      <th>2</th>\n",
       "      <th>3</th>\n",
       "      <th>4</th>\n",
       "      <th>5</th>\n",
       "      <th>6</th>\n",
       "      <th>7</th>\n",
       "      <th>8</th>\n",
       "      <th>9</th>\n",
       "      <th>10</th>\n",
       "      <th>11</th>\n",
       "    </tr>\n",
       "  </thead>\n",
       "  <tbody>\n",
       "    <tr>\n",
       "      <th>pop</th>\n",
       "      <td>0.602804</td>\n",
       "      <td>0.559829</td>\n",
       "      <td>0.0</td>\n",
       "      <td>0.644571</td>\n",
       "      <td>1.0</td>\n",
       "      <td>0.052360</td>\n",
       "      <td>0.393960</td>\n",
       "      <td>0.002732</td>\n",
       "      <td>0.157895</td>\n",
       "      <td>0.503876</td>\n",
       "      <td>0.615607</td>\n",
       "      <td>0.211216</td>\n",
       "    </tr>\n",
       "    <tr>\n",
       "      <th>rap</th>\n",
       "      <td>1.000000</td>\n",
       "      <td>0.294872</td>\n",
       "      <td>1.0</td>\n",
       "      <td>0.371086</td>\n",
       "      <td>1.0</td>\n",
       "      <td>1.000000</td>\n",
       "      <td>0.615649</td>\n",
       "      <td>0.000000</td>\n",
       "      <td>0.421053</td>\n",
       "      <td>0.569767</td>\n",
       "      <td>0.613996</td>\n",
       "      <td>0.202798</td>\n",
       "    </tr>\n",
       "    <tr>\n",
       "      <th>edm</th>\n",
       "      <td>0.635514</td>\n",
       "      <td>1.000000</td>\n",
       "      <td>1.0</td>\n",
       "      <td>1.000000</td>\n",
       "      <td>1.0</td>\n",
       "      <td>0.132743</td>\n",
       "      <td>0.000000</td>\n",
       "      <td>1.000000</td>\n",
       "      <td>1.000000</td>\n",
       "      <td>0.000000</td>\n",
       "      <td>1.000000</td>\n",
       "      <td>0.000000</td>\n",
       "    </tr>\n",
       "    <tr>\n",
       "      <th>rock</th>\n",
       "      <td>0.000000</td>\n",
       "      <td>0.764957</td>\n",
       "      <td>0.0</td>\n",
       "      <td>0.167954</td>\n",
       "      <td>1.0</td>\n",
       "      <td>0.000000</td>\n",
       "      <td>0.123542</td>\n",
       "      <td>0.052882</td>\n",
       "      <td>0.842105</td>\n",
       "      <td>0.624031</td>\n",
       "      <td>0.835026</td>\n",
       "      <td>1.000000</td>\n",
       "    </tr>\n",
       "    <tr>\n",
       "      <th>latin</th>\n",
       "      <td>0.962617</td>\n",
       "      <td>0.568376</td>\n",
       "      <td>1.0</td>\n",
       "      <td>0.678325</td>\n",
       "      <td>1.0</td>\n",
       "      <td>0.188053</td>\n",
       "      <td>0.821551</td>\n",
       "      <td>0.000594</td>\n",
       "      <td>0.052632</td>\n",
       "      <td>1.000000</td>\n",
       "      <td>0.121123</td>\n",
       "      <td>0.201144</td>\n",
       "    </tr>\n",
       "    <tr>\n",
       "      <th>r&amp;b</th>\n",
       "      <td>0.775701</td>\n",
       "      <td>0.000000</td>\n",
       "      <td>1.0</td>\n",
       "      <td>0.000000</td>\n",
       "      <td>1.0</td>\n",
       "      <td>0.191740</td>\n",
       "      <td>1.000000</td>\n",
       "      <td>0.001145</td>\n",
       "      <td>0.000000</td>\n",
       "      <td>0.666667</td>\n",
       "      <td>0.000000</td>\n",
       "      <td>0.838757</td>\n",
       "    </tr>\n",
       "  </tbody>\n",
       "</table>\n",
       "</div>"
      ],
      "text/plain": [
       "             0         1    2         3    4         5         6         7   \\\n",
       "pop    0.602804  0.559829  0.0  0.644571  1.0  0.052360  0.393960  0.002732   \n",
       "rap    1.000000  0.294872  1.0  0.371086  1.0  1.000000  0.615649  0.000000   \n",
       "edm    0.635514  1.000000  1.0  1.000000  1.0  0.132743  0.000000  1.000000   \n",
       "rock   0.000000  0.764957  0.0  0.167954  1.0  0.000000  0.123542  0.052882   \n",
       "latin  0.962617  0.568376  1.0  0.678325  1.0  0.188053  0.821551  0.000594   \n",
       "r&b    0.775701  0.000000  1.0  0.000000  1.0  0.191740  1.000000  0.001145   \n",
       "\n",
       "             8         9         10        11  \n",
       "pop    0.157895  0.503876  0.615607  0.211216  \n",
       "rap    0.421053  0.569767  0.613996  0.202798  \n",
       "edm    1.000000  0.000000  1.000000  0.000000  \n",
       "rock   0.842105  0.624031  0.835026  1.000000  \n",
       "latin  0.052632  1.000000  0.121123  0.201144  \n",
       "r&b    0.000000  0.666667  0.000000  0.838757  "
      ]
     },
     "execution_count": 26,
     "metadata": {},
     "output_type": "execute_result"
    }
   ],
   "source": [
    "# modified equation\n",
    "normalized_df = (df - df.min()) / (df.max() - df.min())\n",
    "\n",
    "# normalization forced column 4 to 1s\n",
    "normalized_df = normalized_df.fillna(1.0)\n",
    "\n",
    "# dropped key, mode, and duration_ms\n",
    "#normalized_df = normalized_df.drop(columns=[2, 4, 11])\n",
    "\n",
    "normalized_df"
   ]
  },
  {
   "cell_type": "code",
   "execution_count": 27,
   "metadata": {},
   "outputs": [],
   "source": [
    "medians['pop'] = normalized_df.iloc[0].to_list()\n",
    "medians['rap'] = normalized_df.iloc[1].to_list()\n",
    "medians['edm'] = normalized_df.iloc[2].to_list()\n",
    "medians['rock'] = normalized_df.iloc[3].to_list()\n",
    "medians['latin'] = normalized_df.iloc[4].to_list()\n",
    "medians['r&b'] = normalized_df.iloc[5].to_list()"
   ]
  },
  {
   "cell_type": "code",
   "execution_count": 28,
   "metadata": {},
   "outputs": [],
   "source": [
    "#normalized_df.iloc[1].to_list()"
   ]
  },
  {
   "cell_type": "code",
   "execution_count": 29,
   "metadata": {},
   "outputs": [],
   "source": [
    "features = [\n",
    "    \"danceability\",\n",
    "    \"energy\",\n",
    "    \"loudness\",\n",
    "    \"speechiness\",\n",
    "    \"acousticness\",\n",
    "    \"instrumentalness\",\n",
    "    \"liveness\",\n",
    "    \"valence\",\n",
    "    \"tempo\",\n",
    "    \"key\",\n",
    "    \"mode\",\n",
    "    \"duration_ms\",\n",
    "]"
   ]
  },
  {
   "cell_type": "code",
   "execution_count": 49,
   "metadata": {},
   "outputs": [
    {
     "data": {
      "application/vnd.plotly.v1+json": {
       "config": {
        "plotlyServerURL": "https://plot.ly"
       },
       "data": [
        {
         "fill": "toself",
         "name": "pop",
         "r": [
          0.6028037383177571,
          0.5598290598290598,
          0,
          0.6445709638064254,
          1,
          0.05235988200589972,
          0.39396019217570355,
          0.0027318295739348374,
          0.15789473684210525,
          0.5038759689922481,
          0.6156072520751419,
          0.2112164014541987
         ],
         "theta": [
          "danceability",
          "energy",
          "loudness",
          "speechiness",
          "acousticness",
          "instrumentalness",
          "liveness",
          "valence",
          "tempo",
          "key",
          "mode",
          "duration_ms"
         ],
         "type": "scatterpolar"
        },
        {
         "fill": "toself",
         "name": "rap",
         "r": [
          1,
          0.29487179487179516,
          1,
          0.3710858072387148,
          1,
          1,
          0.6156485929993137,
          0,
          0.42105263157894735,
          0.5697674418604651,
          0.6139962865880296,
          0.20279814053280887
         ],
         "theta": [
          "danceability",
          "energy",
          "loudness",
          "speechiness",
          "acousticness",
          "instrumentalness",
          "liveness",
          "valence",
          "tempo",
          "key",
          "mode",
          "duration_ms"
         ],
         "type": "scatterpolar"
        },
        {
         "fill": "toself",
         "name": "edm",
         "r": [
          0.635514018691589,
          1,
          1,
          1,
          1,
          0.13274336283185842,
          0,
          1,
          1,
          0,
          1,
          0
         ],
         "theta": [
          "danceability",
          "energy",
          "loudness",
          "speechiness",
          "acousticness",
          "instrumentalness",
          "liveness",
          "valence",
          "tempo",
          "key",
          "mode",
          "duration_ms"
         ],
         "type": "scatterpolar"
        },
        {
         "fill": "toself",
         "name": "rock",
         "r": [
          0,
          0.7649572649572652,
          0,
          0.167954453029687,
          1,
          0,
          0.12354152367879204,
          0.05288220551378447,
          0.8421052631578947,
          0.6240310077519381,
          0.8350262123197902,
          1
         ],
         "theta": [
          "danceability",
          "energy",
          "loudness",
          "speechiness",
          "acousticness",
          "instrumentalness",
          "liveness",
          "valence",
          "tempo",
          "key",
          "mode",
          "duration_ms"
         ],
         "type": "scatterpolar"
        },
        {
         "fill": "toself",
         "name": "latin",
         "r": [
          0.9626168224299065,
          0.5683760683760685,
          1,
          0.6783245221634813,
          1,
          0.18805309734513276,
          0.8215511324639672,
          0.0005939849624060151,
          0.05263157894736842,
          1,
          0.12112276103101811,
          0.20114428750223493
         ],
         "theta": [
          "danceability",
          "energy",
          "loudness",
          "speechiness",
          "acousticness",
          "instrumentalness",
          "liveness",
          "valence",
          "tempo",
          "key",
          "mode",
          "duration_ms"
         ],
         "type": "scatterpolar"
        },
        {
         "fill": "toself",
         "name": "r&b",
         "r": [
          0.775700934579439,
          0,
          1,
          0,
          1,
          0.19174041297935104,
          1,
          0.0011453634085213035,
          0,
          0.6666666666666669,
          0,
          0.8387567793074676
         ],
         "theta": [
          "danceability",
          "energy",
          "loudness",
          "speechiness",
          "acousticness",
          "instrumentalness",
          "liveness",
          "valence",
          "tempo",
          "key",
          "mode",
          "duration_ms"
         ],
         "type": "scatterpolar"
        }
       ],
       "layout": {
        "polar": {
         "radialaxis": {
          "range": [
           0,
           1
          ],
          "visible": true
         }
        },
        "showlegend": true,
        "template": {
         "data": {
          "bar": [
           {
            "error_x": {
             "color": "#2a3f5f"
            },
            "error_y": {
             "color": "#2a3f5f"
            },
            "marker": {
             "line": {
              "color": "#E5ECF6",
              "width": 0.5
             },
             "pattern": {
              "fillmode": "overlay",
              "size": 10,
              "solidity": 0.2
             }
            },
            "type": "bar"
           }
          ],
          "barpolar": [
           {
            "marker": {
             "line": {
              "color": "#E5ECF6",
              "width": 0.5
             },
             "pattern": {
              "fillmode": "overlay",
              "size": 10,
              "solidity": 0.2
             }
            },
            "type": "barpolar"
           }
          ],
          "carpet": [
           {
            "aaxis": {
             "endlinecolor": "#2a3f5f",
             "gridcolor": "white",
             "linecolor": "white",
             "minorgridcolor": "white",
             "startlinecolor": "#2a3f5f"
            },
            "baxis": {
             "endlinecolor": "#2a3f5f",
             "gridcolor": "white",
             "linecolor": "white",
             "minorgridcolor": "white",
             "startlinecolor": "#2a3f5f"
            },
            "type": "carpet"
           }
          ],
          "choropleth": [
           {
            "colorbar": {
             "outlinewidth": 0,
             "ticks": ""
            },
            "type": "choropleth"
           }
          ],
          "contour": [
           {
            "colorbar": {
             "outlinewidth": 0,
             "ticks": ""
            },
            "colorscale": [
             [
              0,
              "#0d0887"
             ],
             [
              0.1111111111111111,
              "#46039f"
             ],
             [
              0.2222222222222222,
              "#7201a8"
             ],
             [
              0.3333333333333333,
              "#9c179e"
             ],
             [
              0.4444444444444444,
              "#bd3786"
             ],
             [
              0.5555555555555556,
              "#d8576b"
             ],
             [
              0.6666666666666666,
              "#ed7953"
             ],
             [
              0.7777777777777778,
              "#fb9f3a"
             ],
             [
              0.8888888888888888,
              "#fdca26"
             ],
             [
              1,
              "#f0f921"
             ]
            ],
            "type": "contour"
           }
          ],
          "contourcarpet": [
           {
            "colorbar": {
             "outlinewidth": 0,
             "ticks": ""
            },
            "type": "contourcarpet"
           }
          ],
          "heatmap": [
           {
            "colorbar": {
             "outlinewidth": 0,
             "ticks": ""
            },
            "colorscale": [
             [
              0,
              "#0d0887"
             ],
             [
              0.1111111111111111,
              "#46039f"
             ],
             [
              0.2222222222222222,
              "#7201a8"
             ],
             [
              0.3333333333333333,
              "#9c179e"
             ],
             [
              0.4444444444444444,
              "#bd3786"
             ],
             [
              0.5555555555555556,
              "#d8576b"
             ],
             [
              0.6666666666666666,
              "#ed7953"
             ],
             [
              0.7777777777777778,
              "#fb9f3a"
             ],
             [
              0.8888888888888888,
              "#fdca26"
             ],
             [
              1,
              "#f0f921"
             ]
            ],
            "type": "heatmap"
           }
          ],
          "heatmapgl": [
           {
            "colorbar": {
             "outlinewidth": 0,
             "ticks": ""
            },
            "colorscale": [
             [
              0,
              "#0d0887"
             ],
             [
              0.1111111111111111,
              "#46039f"
             ],
             [
              0.2222222222222222,
              "#7201a8"
             ],
             [
              0.3333333333333333,
              "#9c179e"
             ],
             [
              0.4444444444444444,
              "#bd3786"
             ],
             [
              0.5555555555555556,
              "#d8576b"
             ],
             [
              0.6666666666666666,
              "#ed7953"
             ],
             [
              0.7777777777777778,
              "#fb9f3a"
             ],
             [
              0.8888888888888888,
              "#fdca26"
             ],
             [
              1,
              "#f0f921"
             ]
            ],
            "type": "heatmapgl"
           }
          ],
          "histogram": [
           {
            "marker": {
             "pattern": {
              "fillmode": "overlay",
              "size": 10,
              "solidity": 0.2
             }
            },
            "type": "histogram"
           }
          ],
          "histogram2d": [
           {
            "colorbar": {
             "outlinewidth": 0,
             "ticks": ""
            },
            "colorscale": [
             [
              0,
              "#0d0887"
             ],
             [
              0.1111111111111111,
              "#46039f"
             ],
             [
              0.2222222222222222,
              "#7201a8"
             ],
             [
              0.3333333333333333,
              "#9c179e"
             ],
             [
              0.4444444444444444,
              "#bd3786"
             ],
             [
              0.5555555555555556,
              "#d8576b"
             ],
             [
              0.6666666666666666,
              "#ed7953"
             ],
             [
              0.7777777777777778,
              "#fb9f3a"
             ],
             [
              0.8888888888888888,
              "#fdca26"
             ],
             [
              1,
              "#f0f921"
             ]
            ],
            "type": "histogram2d"
           }
          ],
          "histogram2dcontour": [
           {
            "colorbar": {
             "outlinewidth": 0,
             "ticks": ""
            },
            "colorscale": [
             [
              0,
              "#0d0887"
             ],
             [
              0.1111111111111111,
              "#46039f"
             ],
             [
              0.2222222222222222,
              "#7201a8"
             ],
             [
              0.3333333333333333,
              "#9c179e"
             ],
             [
              0.4444444444444444,
              "#bd3786"
             ],
             [
              0.5555555555555556,
              "#d8576b"
             ],
             [
              0.6666666666666666,
              "#ed7953"
             ],
             [
              0.7777777777777778,
              "#fb9f3a"
             ],
             [
              0.8888888888888888,
              "#fdca26"
             ],
             [
              1,
              "#f0f921"
             ]
            ],
            "type": "histogram2dcontour"
           }
          ],
          "mesh3d": [
           {
            "colorbar": {
             "outlinewidth": 0,
             "ticks": ""
            },
            "type": "mesh3d"
           }
          ],
          "parcoords": [
           {
            "line": {
             "colorbar": {
              "outlinewidth": 0,
              "ticks": ""
             }
            },
            "type": "parcoords"
           }
          ],
          "pie": [
           {
            "automargin": true,
            "type": "pie"
           }
          ],
          "scatter": [
           {
            "fillpattern": {
             "fillmode": "overlay",
             "size": 10,
             "solidity": 0.2
            },
            "type": "scatter"
           }
          ],
          "scatter3d": [
           {
            "line": {
             "colorbar": {
              "outlinewidth": 0,
              "ticks": ""
             }
            },
            "marker": {
             "colorbar": {
              "outlinewidth": 0,
              "ticks": ""
             }
            },
            "type": "scatter3d"
           }
          ],
          "scattercarpet": [
           {
            "marker": {
             "colorbar": {
              "outlinewidth": 0,
              "ticks": ""
             }
            },
            "type": "scattercarpet"
           }
          ],
          "scattergeo": [
           {
            "marker": {
             "colorbar": {
              "outlinewidth": 0,
              "ticks": ""
             }
            },
            "type": "scattergeo"
           }
          ],
          "scattergl": [
           {
            "marker": {
             "colorbar": {
              "outlinewidth": 0,
              "ticks": ""
             }
            },
            "type": "scattergl"
           }
          ],
          "scattermapbox": [
           {
            "marker": {
             "colorbar": {
              "outlinewidth": 0,
              "ticks": ""
             }
            },
            "type": "scattermapbox"
           }
          ],
          "scatterpolar": [
           {
            "marker": {
             "colorbar": {
              "outlinewidth": 0,
              "ticks": ""
             }
            },
            "type": "scatterpolar"
           }
          ],
          "scatterpolargl": [
           {
            "marker": {
             "colorbar": {
              "outlinewidth": 0,
              "ticks": ""
             }
            },
            "type": "scatterpolargl"
           }
          ],
          "scatterternary": [
           {
            "marker": {
             "colorbar": {
              "outlinewidth": 0,
              "ticks": ""
             }
            },
            "type": "scatterternary"
           }
          ],
          "surface": [
           {
            "colorbar": {
             "outlinewidth": 0,
             "ticks": ""
            },
            "colorscale": [
             [
              0,
              "#0d0887"
             ],
             [
              0.1111111111111111,
              "#46039f"
             ],
             [
              0.2222222222222222,
              "#7201a8"
             ],
             [
              0.3333333333333333,
              "#9c179e"
             ],
             [
              0.4444444444444444,
              "#bd3786"
             ],
             [
              0.5555555555555556,
              "#d8576b"
             ],
             [
              0.6666666666666666,
              "#ed7953"
             ],
             [
              0.7777777777777778,
              "#fb9f3a"
             ],
             [
              0.8888888888888888,
              "#fdca26"
             ],
             [
              1,
              "#f0f921"
             ]
            ],
            "type": "surface"
           }
          ],
          "table": [
           {
            "cells": {
             "fill": {
              "color": "#EBF0F8"
             },
             "line": {
              "color": "white"
             }
            },
            "header": {
             "fill": {
              "color": "#C8D4E3"
             },
             "line": {
              "color": "white"
             }
            },
            "type": "table"
           }
          ]
         },
         "layout": {
          "annotationdefaults": {
           "arrowcolor": "#2a3f5f",
           "arrowhead": 0,
           "arrowwidth": 1
          },
          "autotypenumbers": "strict",
          "coloraxis": {
           "colorbar": {
            "outlinewidth": 0,
            "ticks": ""
           }
          },
          "colorscale": {
           "diverging": [
            [
             0,
             "#8e0152"
            ],
            [
             0.1,
             "#c51b7d"
            ],
            [
             0.2,
             "#de77ae"
            ],
            [
             0.3,
             "#f1b6da"
            ],
            [
             0.4,
             "#fde0ef"
            ],
            [
             0.5,
             "#f7f7f7"
            ],
            [
             0.6,
             "#e6f5d0"
            ],
            [
             0.7,
             "#b8e186"
            ],
            [
             0.8,
             "#7fbc41"
            ],
            [
             0.9,
             "#4d9221"
            ],
            [
             1,
             "#276419"
            ]
           ],
           "sequential": [
            [
             0,
             "#0d0887"
            ],
            [
             0.1111111111111111,
             "#46039f"
            ],
            [
             0.2222222222222222,
             "#7201a8"
            ],
            [
             0.3333333333333333,
             "#9c179e"
            ],
            [
             0.4444444444444444,
             "#bd3786"
            ],
            [
             0.5555555555555556,
             "#d8576b"
            ],
            [
             0.6666666666666666,
             "#ed7953"
            ],
            [
             0.7777777777777778,
             "#fb9f3a"
            ],
            [
             0.8888888888888888,
             "#fdca26"
            ],
            [
             1,
             "#f0f921"
            ]
           ],
           "sequentialminus": [
            [
             0,
             "#0d0887"
            ],
            [
             0.1111111111111111,
             "#46039f"
            ],
            [
             0.2222222222222222,
             "#7201a8"
            ],
            [
             0.3333333333333333,
             "#9c179e"
            ],
            [
             0.4444444444444444,
             "#bd3786"
            ],
            [
             0.5555555555555556,
             "#d8576b"
            ],
            [
             0.6666666666666666,
             "#ed7953"
            ],
            [
             0.7777777777777778,
             "#fb9f3a"
            ],
            [
             0.8888888888888888,
             "#fdca26"
            ],
            [
             1,
             "#f0f921"
            ]
           ]
          },
          "colorway": [
           "#636efa",
           "#EF553B",
           "#00cc96",
           "#ab63fa",
           "#FFA15A",
           "#19d3f3",
           "#FF6692",
           "#B6E880",
           "#FF97FF",
           "#FECB52"
          ],
          "font": {
           "color": "#2a3f5f"
          },
          "geo": {
           "bgcolor": "white",
           "lakecolor": "white",
           "landcolor": "#E5ECF6",
           "showlakes": true,
           "showland": true,
           "subunitcolor": "white"
          },
          "hoverlabel": {
           "align": "left"
          },
          "hovermode": "closest",
          "mapbox": {
           "style": "light"
          },
          "paper_bgcolor": "white",
          "plot_bgcolor": "#E5ECF6",
          "polar": {
           "angularaxis": {
            "gridcolor": "white",
            "linecolor": "white",
            "ticks": ""
           },
           "bgcolor": "#E5ECF6",
           "radialaxis": {
            "gridcolor": "white",
            "linecolor": "white",
            "ticks": ""
           }
          },
          "scene": {
           "xaxis": {
            "backgroundcolor": "#E5ECF6",
            "gridcolor": "white",
            "gridwidth": 2,
            "linecolor": "white",
            "showbackground": true,
            "ticks": "",
            "zerolinecolor": "white"
           },
           "yaxis": {
            "backgroundcolor": "#E5ECF6",
            "gridcolor": "white",
            "gridwidth": 2,
            "linecolor": "white",
            "showbackground": true,
            "ticks": "",
            "zerolinecolor": "white"
           },
           "zaxis": {
            "backgroundcolor": "#E5ECF6",
            "gridcolor": "white",
            "gridwidth": 2,
            "linecolor": "white",
            "showbackground": true,
            "ticks": "",
            "zerolinecolor": "white"
           }
          },
          "shapedefaults": {
           "line": {
            "color": "#2a3f5f"
           }
          },
          "ternary": {
           "aaxis": {
            "gridcolor": "white",
            "linecolor": "white",
            "ticks": ""
           },
           "baxis": {
            "gridcolor": "white",
            "linecolor": "white",
            "ticks": ""
           },
           "bgcolor": "#E5ECF6",
           "caxis": {
            "gridcolor": "white",
            "linecolor": "white",
            "ticks": ""
           }
          },
          "title": {
           "x": 0.05
          },
          "xaxis": {
           "automargin": true,
           "gridcolor": "white",
           "linecolor": "white",
           "ticks": "",
           "title": {
            "standoff": 15
           },
           "zerolinecolor": "white",
           "zerolinewidth": 2
          },
          "yaxis": {
           "automargin": true,
           "gridcolor": "white",
           "linecolor": "white",
           "ticks": "",
           "title": {
            "standoff": 15
           },
           "zerolinecolor": "white",
           "zerolinewidth": 2
          }
         }
        },
        "title": {
         "text": "Radar Plot of Feature Medians Per Genre"
        }
       }
      },
      "text/html": [
       "<div>                            <div id=\"4e3c1d05-9425-44bb-982b-b260eef5a068\" class=\"plotly-graph-div\" style=\"height:525px; width:100%;\"></div>            <script type=\"text/javascript\">                require([\"plotly\"], function(Plotly) {                    window.PLOTLYENV=window.PLOTLYENV || {};                                    if (document.getElementById(\"4e3c1d05-9425-44bb-982b-b260eef5a068\")) {                    Plotly.newPlot(                        \"4e3c1d05-9425-44bb-982b-b260eef5a068\",                        [{\"fill\":\"toself\",\"name\":\"pop\",\"r\":[0.6028037383177571,0.5598290598290598,0.0,0.6445709638064254,1.0,0.05235988200589972,0.39396019217570355,0.0027318295739348374,0.15789473684210525,0.5038759689922481,0.6156072520751419,0.2112164014541987],\"theta\":[\"danceability\",\"energy\",\"loudness\",\"speechiness\",\"acousticness\",\"instrumentalness\",\"liveness\",\"valence\",\"tempo\",\"key\",\"mode\",\"duration_ms\"],\"type\":\"scatterpolar\"},{\"fill\":\"toself\",\"name\":\"rap\",\"r\":[1.0,0.29487179487179516,1.0,0.3710858072387148,1.0,1.0,0.6156485929993137,0.0,0.42105263157894735,0.5697674418604651,0.6139962865880296,0.20279814053280887],\"theta\":[\"danceability\",\"energy\",\"loudness\",\"speechiness\",\"acousticness\",\"instrumentalness\",\"liveness\",\"valence\",\"tempo\",\"key\",\"mode\",\"duration_ms\"],\"type\":\"scatterpolar\"},{\"fill\":\"toself\",\"name\":\"edm\",\"r\":[0.635514018691589,1.0,1.0,1.0,1.0,0.13274336283185842,0.0,1.0,1.0,0.0,1.0,0.0],\"theta\":[\"danceability\",\"energy\",\"loudness\",\"speechiness\",\"acousticness\",\"instrumentalness\",\"liveness\",\"valence\",\"tempo\",\"key\",\"mode\",\"duration_ms\"],\"type\":\"scatterpolar\"},{\"fill\":\"toself\",\"name\":\"rock\",\"r\":[0.0,0.7649572649572652,0.0,0.167954453029687,1.0,0.0,0.12354152367879204,0.05288220551378447,0.8421052631578947,0.6240310077519381,0.8350262123197902,1.0],\"theta\":[\"danceability\",\"energy\",\"loudness\",\"speechiness\",\"acousticness\",\"instrumentalness\",\"liveness\",\"valence\",\"tempo\",\"key\",\"mode\",\"duration_ms\"],\"type\":\"scatterpolar\"},{\"fill\":\"toself\",\"name\":\"latin\",\"r\":[0.9626168224299065,0.5683760683760685,1.0,0.6783245221634813,1.0,0.18805309734513276,0.8215511324639672,0.0005939849624060151,0.05263157894736842,1.0,0.12112276103101811,0.20114428750223493],\"theta\":[\"danceability\",\"energy\",\"loudness\",\"speechiness\",\"acousticness\",\"instrumentalness\",\"liveness\",\"valence\",\"tempo\",\"key\",\"mode\",\"duration_ms\"],\"type\":\"scatterpolar\"},{\"fill\":\"toself\",\"name\":\"r&b\",\"r\":[0.775700934579439,0.0,1.0,0.0,1.0,0.19174041297935104,1.0,0.0011453634085213035,0.0,0.6666666666666669,0.0,0.8387567793074676],\"theta\":[\"danceability\",\"energy\",\"loudness\",\"speechiness\",\"acousticness\",\"instrumentalness\",\"liveness\",\"valence\",\"tempo\",\"key\",\"mode\",\"duration_ms\"],\"type\":\"scatterpolar\"}],                        {\"template\":{\"data\":{\"histogram2dcontour\":[{\"type\":\"histogram2dcontour\",\"colorbar\":{\"outlinewidth\":0,\"ticks\":\"\"},\"colorscale\":[[0.0,\"#0d0887\"],[0.1111111111111111,\"#46039f\"],[0.2222222222222222,\"#7201a8\"],[0.3333333333333333,\"#9c179e\"],[0.4444444444444444,\"#bd3786\"],[0.5555555555555556,\"#d8576b\"],[0.6666666666666666,\"#ed7953\"],[0.7777777777777778,\"#fb9f3a\"],[0.8888888888888888,\"#fdca26\"],[1.0,\"#f0f921\"]]}],\"choropleth\":[{\"type\":\"choropleth\",\"colorbar\":{\"outlinewidth\":0,\"ticks\":\"\"}}],\"histogram2d\":[{\"type\":\"histogram2d\",\"colorbar\":{\"outlinewidth\":0,\"ticks\":\"\"},\"colorscale\":[[0.0,\"#0d0887\"],[0.1111111111111111,\"#46039f\"],[0.2222222222222222,\"#7201a8\"],[0.3333333333333333,\"#9c179e\"],[0.4444444444444444,\"#bd3786\"],[0.5555555555555556,\"#d8576b\"],[0.6666666666666666,\"#ed7953\"],[0.7777777777777778,\"#fb9f3a\"],[0.8888888888888888,\"#fdca26\"],[1.0,\"#f0f921\"]]}],\"heatmap\":[{\"type\":\"heatmap\",\"colorbar\":{\"outlinewidth\":0,\"ticks\":\"\"},\"colorscale\":[[0.0,\"#0d0887\"],[0.1111111111111111,\"#46039f\"],[0.2222222222222222,\"#7201a8\"],[0.3333333333333333,\"#9c179e\"],[0.4444444444444444,\"#bd3786\"],[0.5555555555555556,\"#d8576b\"],[0.6666666666666666,\"#ed7953\"],[0.7777777777777778,\"#fb9f3a\"],[0.8888888888888888,\"#fdca26\"],[1.0,\"#f0f921\"]]}],\"heatmapgl\":[{\"type\":\"heatmapgl\",\"colorbar\":{\"outlinewidth\":0,\"ticks\":\"\"},\"colorscale\":[[0.0,\"#0d0887\"],[0.1111111111111111,\"#46039f\"],[0.2222222222222222,\"#7201a8\"],[0.3333333333333333,\"#9c179e\"],[0.4444444444444444,\"#bd3786\"],[0.5555555555555556,\"#d8576b\"],[0.6666666666666666,\"#ed7953\"],[0.7777777777777778,\"#fb9f3a\"],[0.8888888888888888,\"#fdca26\"],[1.0,\"#f0f921\"]]}],\"contourcarpet\":[{\"type\":\"contourcarpet\",\"colorbar\":{\"outlinewidth\":0,\"ticks\":\"\"}}],\"contour\":[{\"type\":\"contour\",\"colorbar\":{\"outlinewidth\":0,\"ticks\":\"\"},\"colorscale\":[[0.0,\"#0d0887\"],[0.1111111111111111,\"#46039f\"],[0.2222222222222222,\"#7201a8\"],[0.3333333333333333,\"#9c179e\"],[0.4444444444444444,\"#bd3786\"],[0.5555555555555556,\"#d8576b\"],[0.6666666666666666,\"#ed7953\"],[0.7777777777777778,\"#fb9f3a\"],[0.8888888888888888,\"#fdca26\"],[1.0,\"#f0f921\"]]}],\"surface\":[{\"type\":\"surface\",\"colorbar\":{\"outlinewidth\":0,\"ticks\":\"\"},\"colorscale\":[[0.0,\"#0d0887\"],[0.1111111111111111,\"#46039f\"],[0.2222222222222222,\"#7201a8\"],[0.3333333333333333,\"#9c179e\"],[0.4444444444444444,\"#bd3786\"],[0.5555555555555556,\"#d8576b\"],[0.6666666666666666,\"#ed7953\"],[0.7777777777777778,\"#fb9f3a\"],[0.8888888888888888,\"#fdca26\"],[1.0,\"#f0f921\"]]}],\"mesh3d\":[{\"type\":\"mesh3d\",\"colorbar\":{\"outlinewidth\":0,\"ticks\":\"\"}}],\"scatter\":[{\"fillpattern\":{\"fillmode\":\"overlay\",\"size\":10,\"solidity\":0.2},\"type\":\"scatter\"}],\"parcoords\":[{\"type\":\"parcoords\",\"line\":{\"colorbar\":{\"outlinewidth\":0,\"ticks\":\"\"}}}],\"scatterpolargl\":[{\"type\":\"scatterpolargl\",\"marker\":{\"colorbar\":{\"outlinewidth\":0,\"ticks\":\"\"}}}],\"bar\":[{\"error_x\":{\"color\":\"#2a3f5f\"},\"error_y\":{\"color\":\"#2a3f5f\"},\"marker\":{\"line\":{\"color\":\"#E5ECF6\",\"width\":0.5},\"pattern\":{\"fillmode\":\"overlay\",\"size\":10,\"solidity\":0.2}},\"type\":\"bar\"}],\"scattergeo\":[{\"type\":\"scattergeo\",\"marker\":{\"colorbar\":{\"outlinewidth\":0,\"ticks\":\"\"}}}],\"scatterpolar\":[{\"type\":\"scatterpolar\",\"marker\":{\"colorbar\":{\"outlinewidth\":0,\"ticks\":\"\"}}}],\"histogram\":[{\"marker\":{\"pattern\":{\"fillmode\":\"overlay\",\"size\":10,\"solidity\":0.2}},\"type\":\"histogram\"}],\"scattergl\":[{\"type\":\"scattergl\",\"marker\":{\"colorbar\":{\"outlinewidth\":0,\"ticks\":\"\"}}}],\"scatter3d\":[{\"type\":\"scatter3d\",\"line\":{\"colorbar\":{\"outlinewidth\":0,\"ticks\":\"\"}},\"marker\":{\"colorbar\":{\"outlinewidth\":0,\"ticks\":\"\"}}}],\"scattermapbox\":[{\"type\":\"scattermapbox\",\"marker\":{\"colorbar\":{\"outlinewidth\":0,\"ticks\":\"\"}}}],\"scatterternary\":[{\"type\":\"scatterternary\",\"marker\":{\"colorbar\":{\"outlinewidth\":0,\"ticks\":\"\"}}}],\"scattercarpet\":[{\"type\":\"scattercarpet\",\"marker\":{\"colorbar\":{\"outlinewidth\":0,\"ticks\":\"\"}}}],\"carpet\":[{\"aaxis\":{\"endlinecolor\":\"#2a3f5f\",\"gridcolor\":\"white\",\"linecolor\":\"white\",\"minorgridcolor\":\"white\",\"startlinecolor\":\"#2a3f5f\"},\"baxis\":{\"endlinecolor\":\"#2a3f5f\",\"gridcolor\":\"white\",\"linecolor\":\"white\",\"minorgridcolor\":\"white\",\"startlinecolor\":\"#2a3f5f\"},\"type\":\"carpet\"}],\"table\":[{\"cells\":{\"fill\":{\"color\":\"#EBF0F8\"},\"line\":{\"color\":\"white\"}},\"header\":{\"fill\":{\"color\":\"#C8D4E3\"},\"line\":{\"color\":\"white\"}},\"type\":\"table\"}],\"barpolar\":[{\"marker\":{\"line\":{\"color\":\"#E5ECF6\",\"width\":0.5},\"pattern\":{\"fillmode\":\"overlay\",\"size\":10,\"solidity\":0.2}},\"type\":\"barpolar\"}],\"pie\":[{\"automargin\":true,\"type\":\"pie\"}]},\"layout\":{\"autotypenumbers\":\"strict\",\"colorway\":[\"#636efa\",\"#EF553B\",\"#00cc96\",\"#ab63fa\",\"#FFA15A\",\"#19d3f3\",\"#FF6692\",\"#B6E880\",\"#FF97FF\",\"#FECB52\"],\"font\":{\"color\":\"#2a3f5f\"},\"hovermode\":\"closest\",\"hoverlabel\":{\"align\":\"left\"},\"paper_bgcolor\":\"white\",\"plot_bgcolor\":\"#E5ECF6\",\"polar\":{\"bgcolor\":\"#E5ECF6\",\"angularaxis\":{\"gridcolor\":\"white\",\"linecolor\":\"white\",\"ticks\":\"\"},\"radialaxis\":{\"gridcolor\":\"white\",\"linecolor\":\"white\",\"ticks\":\"\"}},\"ternary\":{\"bgcolor\":\"#E5ECF6\",\"aaxis\":{\"gridcolor\":\"white\",\"linecolor\":\"white\",\"ticks\":\"\"},\"baxis\":{\"gridcolor\":\"white\",\"linecolor\":\"white\",\"ticks\":\"\"},\"caxis\":{\"gridcolor\":\"white\",\"linecolor\":\"white\",\"ticks\":\"\"}},\"coloraxis\":{\"colorbar\":{\"outlinewidth\":0,\"ticks\":\"\"}},\"colorscale\":{\"sequential\":[[0.0,\"#0d0887\"],[0.1111111111111111,\"#46039f\"],[0.2222222222222222,\"#7201a8\"],[0.3333333333333333,\"#9c179e\"],[0.4444444444444444,\"#bd3786\"],[0.5555555555555556,\"#d8576b\"],[0.6666666666666666,\"#ed7953\"],[0.7777777777777778,\"#fb9f3a\"],[0.8888888888888888,\"#fdca26\"],[1.0,\"#f0f921\"]],\"sequentialminus\":[[0.0,\"#0d0887\"],[0.1111111111111111,\"#46039f\"],[0.2222222222222222,\"#7201a8\"],[0.3333333333333333,\"#9c179e\"],[0.4444444444444444,\"#bd3786\"],[0.5555555555555556,\"#d8576b\"],[0.6666666666666666,\"#ed7953\"],[0.7777777777777778,\"#fb9f3a\"],[0.8888888888888888,\"#fdca26\"],[1.0,\"#f0f921\"]],\"diverging\":[[0,\"#8e0152\"],[0.1,\"#c51b7d\"],[0.2,\"#de77ae\"],[0.3,\"#f1b6da\"],[0.4,\"#fde0ef\"],[0.5,\"#f7f7f7\"],[0.6,\"#e6f5d0\"],[0.7,\"#b8e186\"],[0.8,\"#7fbc41\"],[0.9,\"#4d9221\"],[1,\"#276419\"]]},\"xaxis\":{\"gridcolor\":\"white\",\"linecolor\":\"white\",\"ticks\":\"\",\"title\":{\"standoff\":15},\"zerolinecolor\":\"white\",\"automargin\":true,\"zerolinewidth\":2},\"yaxis\":{\"gridcolor\":\"white\",\"linecolor\":\"white\",\"ticks\":\"\",\"title\":{\"standoff\":15},\"zerolinecolor\":\"white\",\"automargin\":true,\"zerolinewidth\":2},\"scene\":{\"xaxis\":{\"backgroundcolor\":\"#E5ECF6\",\"gridcolor\":\"white\",\"linecolor\":\"white\",\"showbackground\":true,\"ticks\":\"\",\"zerolinecolor\":\"white\",\"gridwidth\":2},\"yaxis\":{\"backgroundcolor\":\"#E5ECF6\",\"gridcolor\":\"white\",\"linecolor\":\"white\",\"showbackground\":true,\"ticks\":\"\",\"zerolinecolor\":\"white\",\"gridwidth\":2},\"zaxis\":{\"backgroundcolor\":\"#E5ECF6\",\"gridcolor\":\"white\",\"linecolor\":\"white\",\"showbackground\":true,\"ticks\":\"\",\"zerolinecolor\":\"white\",\"gridwidth\":2}},\"shapedefaults\":{\"line\":{\"color\":\"#2a3f5f\"}},\"annotationdefaults\":{\"arrowcolor\":\"#2a3f5f\",\"arrowhead\":0,\"arrowwidth\":1},\"geo\":{\"bgcolor\":\"white\",\"landcolor\":\"#E5ECF6\",\"subunitcolor\":\"white\",\"showland\":true,\"showlakes\":true,\"lakecolor\":\"white\"},\"title\":{\"x\":0.05},\"mapbox\":{\"style\":\"light\"}}},\"polar\":{\"radialaxis\":{\"visible\":true,\"range\":[0,1]}},\"showlegend\":true,\"title\":{\"text\":\"Radar Plot of Feature Medians Per Genre\"}},                        {\"responsive\": true}                    ).then(function(){\n",
       "                            \n",
       "var gd = document.getElementById('4e3c1d05-9425-44bb-982b-b260eef5a068');\n",
       "var x = new MutationObserver(function (mutations, observer) {{\n",
       "        var display = window.getComputedStyle(gd).display;\n",
       "        if (!display || display === 'none') {{\n",
       "            console.log([gd, 'removed!']);\n",
       "            Plotly.purge(gd);\n",
       "            observer.disconnect();\n",
       "        }}\n",
       "}});\n",
       "\n",
       "// Listen for the removal of the full notebook cells\n",
       "var notebookContainer = gd.closest('#notebook-container');\n",
       "if (notebookContainer) {{\n",
       "    x.observe(notebookContainer, {childList: true});\n",
       "}}\n",
       "\n",
       "// Listen for the clearing of the current output cell\n",
       "var outputEl = gd.closest('.output');\n",
       "if (outputEl) {{\n",
       "    x.observe(outputEl, {childList: true});\n",
       "}}\n",
       "\n",
       "                        })                };                });            </script>        </div>"
      ]
     },
     "metadata": {},
     "output_type": "display_data"
    }
   ],
   "source": [
    "import plotly.graph_objects as go\n",
    "\n",
    "categories = features\n",
    "\n",
    "fig = go.Figure()\n",
    "\n",
    "fig.add_trace(\n",
    "    go.Scatterpolar(r=medians[\"pop\"], theta=categories, fill=\"toself\", name=genres[0])\n",
    ")\n",
    "\n",
    "fig.add_trace(\n",
    "    go.Scatterpolar(r=medians[\"rap\"], theta=categories, fill=\"toself\", name=genres[1])\n",
    ")\n",
    "\n",
    "fig.add_trace(\n",
    "    go.Scatterpolar(r=medians[\"edm\"], theta=categories, fill=\"toself\", name=genres[2])\n",
    ")\n",
    "\n",
    "fig.add_trace(\n",
    "    go.Scatterpolar(r=medians[\"rock\"], theta=categories, fill=\"toself\", name=genres[3])\n",
    ")\n",
    "\n",
    "fig.add_trace(\n",
    "    go.Scatterpolar(r=medians[\"latin\"], theta=categories, fill=\"toself\", name=genres[4])\n",
    ")\n",
    "\n",
    "fig.add_trace(\n",
    "    go.Scatterpolar(r=medians[\"r&b\"], theta=categories, fill=\"toself\", name=genres[5])\n",
    ")\n",
    "\n",
    "fig.update_layout(\n",
    "    polar=dict(radialaxis=dict(visible=True, range=[0, 1])),\n",
    "    showlegend=True,\n",
    "    title=\"Radar Plot of Feature Medians Per Genre\",\n",
    ")\n",
    "\n",
    "fig.show()"
   ]
  },
  {
   "cell_type": "markdown",
   "metadata": {},
   "source": [
    "# Correlation between features\n",
    "\n",
    "**WHY WE DID THIS?** \n",
    "Feature subset selection is the process of identifying and removing as much irrelevant and\n",
    "redundant information as possible. This reduces the dimensionality of the data and may\n",
    "allow learning algorithms to operate faster and more effectively. In some cases, accuracy\n",
    "on future classification can be improved; in others, the result is a more compact, easily\n",
    "interpreted representation of the target concept."
   ]
  },
  {
   "cell_type": "code",
   "execution_count": 31,
   "metadata": {},
   "outputs": [
    {
     "data": {
      "text/plain": [
       "<AxesSubplot:title={'center':'Correlation Between Features'}>"
      ]
     },
     "execution_count": 31,
     "metadata": {},
     "output_type": "execute_result"
    },
    {
     "data": {
      "text/plain": [
       "<Figure size 432x288 with 0 Axes>"
      ]
     },
     "metadata": {},
     "output_type": "display_data"
    },
    {
     "data": {
      "image/png": "[encoded data removed]",
      "text/plain": [
       "<Figure size 720x576 with 2 Axes>"
      ]
     },
     "metadata": {
      "needs_background": "light"
     },
     "output_type": "display_data"
    }
   ],
   "source": [
    "# Correlation Matrix\n",
    "plt.tight_layout()\n",
    "plt.figure(figsize=(10, 8))\n",
    "corrMatrix = music_X.corr()\n",
    "plt.title('Correlation Between Features')\n",
    "sns.heatmap(corrMatrix, annot=True)"
   ]
  },
  {
   "cell_type": "markdown",
   "metadata": {},
   "source": [
    "# Creating vizualization with new cluster values\n",
    "\n",
    "**WHY WE DID THIS?** "
   ]
  },
  {
   "cell_type": "code",
   "execution_count": 32,
   "metadata": {},
   "outputs": [],
   "source": [
    "# dictionary of cluster lists to hold the mean values of each feature\n",
    "clusters = {\"A\": [], \"B\": [], \"C\": [], \"D\": [], \"E\": [], \"F\": []}"
   ]
  },
  {
   "cell_type": "code",
   "execution_count": 33,
   "metadata": {},
   "outputs": [],
   "source": [
    "# dropping unneeded columns\n",
    "#k_merge = k_merge.drop(columns=[\"key\", \"mode\", \"duration_ms\"])"
   ]
  },
  {
   "cell_type": "code",
   "execution_count": 34,
   "metadata": {},
   "outputs": [
    {
     "name": "stderr",
     "output_type": "stream",
     "text": [
      "/opt/anaconda3/lib/python3.7/site-packages/ipykernel_launcher.py:2: FutureWarning:\n",
      "\n",
      "Dropping of nuisance columns in DataFrame reductions (with 'numeric_only=None') is deprecated; in a future version this will raise TypeError.  Select only valid columns before calling the reduction.\n",
      "\n",
      "/opt/anaconda3/lib/python3.7/site-packages/ipykernel_launcher.py:3: FutureWarning:\n",
      "\n",
      "Dropping of nuisance columns in DataFrame reductions (with 'numeric_only=None') is deprecated; in a future version this will raise TypeError.  Select only valid columns before calling the reduction.\n",
      "\n",
      "/opt/anaconda3/lib/python3.7/site-packages/ipykernel_launcher.py:4: FutureWarning:\n",
      "\n",
      "Dropping of nuisance columns in DataFrame reductions (with 'numeric_only=None') is deprecated; in a future version this will raise TypeError.  Select only valid columns before calling the reduction.\n",
      "\n",
      "/opt/anaconda3/lib/python3.7/site-packages/ipykernel_launcher.py:5: FutureWarning:\n",
      "\n",
      "Dropping of nuisance columns in DataFrame reductions (with 'numeric_only=None') is deprecated; in a future version this will raise TypeError.  Select only valid columns before calling the reduction.\n",
      "\n",
      "/opt/anaconda3/lib/python3.7/site-packages/ipykernel_launcher.py:6: FutureWarning:\n",
      "\n",
      "Dropping of nuisance columns in DataFrame reductions (with 'numeric_only=None') is deprecated; in a future version this will raise TypeError.  Select only valid columns before calling the reduction.\n",
      "\n",
      "/opt/anaconda3/lib/python3.7/site-packages/ipykernel_launcher.py:7: FutureWarning:\n",
      "\n",
      "Dropping of nuisance columns in DataFrame reductions (with 'numeric_only=None') is deprecated; in a future version this will raise TypeError.  Select only valid columns before calling the reduction.\n",
      "\n"
     ]
    }
   ],
   "source": [
    "# filling each cluster list\n",
    "clusters[\"A\"] = k_merge[k_merge[\"cluster\"] == \"A\"].median()\n",
    "clusters[\"B\"] = k_merge[k_merge[\"cluster\"] == \"B\"].median()\n",
    "clusters[\"C\"] = k_merge[k_merge[\"cluster\"] == \"C\"].median()\n",
    "clusters[\"D\"] = k_merge[k_merge[\"cluster\"] == \"D\"].median()\n",
    "clusters[\"E\"] = k_merge[k_merge[\"cluster\"] == \"E\"].median()\n",
    "clusters[\"F\"] = k_merge[k_merge[\"cluster\"] == \"F\"].median()"
   ]
  },
  {
   "cell_type": "code",
   "execution_count": 35,
   "metadata": {},
   "outputs": [],
   "source": [
    "k_merge_df = pd.DataFrame(clusters)\n",
    "k_merge_df = k_merge_df.transpose()"
   ]
  },
  {
   "cell_type": "code",
   "execution_count": 36,
   "metadata": {},
   "outputs": [
    {
     "data": {
      "text/html": [
       "<div>\n",
       "<style scoped>\n",
       "    .dataframe tbody tr th:only-of-type {\n",
       "        vertical-align: middle;\n",
       "    }\n",
       "\n",
       "    .dataframe tbody tr th {\n",
       "        vertical-align: top;\n",
       "    }\n",
       "\n",
       "    .dataframe thead th {\n",
       "        text-align: right;\n",
       "    }\n",
       "</style>\n",
       "<table border=\"1\" class=\"dataframe\">\n",
       "  <thead>\n",
       "    <tr style=\"text-align: right;\">\n",
       "      <th></th>\n",
       "      <th>danceability</th>\n",
       "      <th>energy</th>\n",
       "      <th>key</th>\n",
       "      <th>loudness</th>\n",
       "      <th>mode</th>\n",
       "      <th>speechiness</th>\n",
       "      <th>acousticness</th>\n",
       "      <th>instrumentalness</th>\n",
       "      <th>liveness</th>\n",
       "      <th>valence</th>\n",
       "      <th>tempo</th>\n",
       "      <th>duration_ms</th>\n",
       "    </tr>\n",
       "  </thead>\n",
       "  <tbody>\n",
       "    <tr>\n",
       "      <th>A</th>\n",
       "      <td>0.510</td>\n",
       "      <td>0.825</td>\n",
       "      <td>5.0</td>\n",
       "      <td>-5.0075</td>\n",
       "      <td>1.0</td>\n",
       "      <td>0.05490</td>\n",
       "      <td>0.016900</td>\n",
       "      <td>0.000047</td>\n",
       "      <td>0.139</td>\n",
       "      <td>0.337</td>\n",
       "      <td>130.0235</td>\n",
       "      <td>221714.5</td>\n",
       "    </tr>\n",
       "    <tr>\n",
       "      <th>B</th>\n",
       "      <td>0.676</td>\n",
       "      <td>0.832</td>\n",
       "      <td>6.0</td>\n",
       "      <td>-6.6340</td>\n",
       "      <td>1.0</td>\n",
       "      <td>0.05400</td>\n",
       "      <td>0.009135</td>\n",
       "      <td>0.793000</td>\n",
       "      <td>0.115</td>\n",
       "      <td>0.346</td>\n",
       "      <td>126.8880</td>\n",
       "      <td>231300.0</td>\n",
       "    </tr>\n",
       "    <tr>\n",
       "      <th>C</th>\n",
       "      <td>0.615</td>\n",
       "      <td>0.805</td>\n",
       "      <td>6.0</td>\n",
       "      <td>-5.5900</td>\n",
       "      <td>1.0</td>\n",
       "      <td>0.07245</td>\n",
       "      <td>0.040850</td>\n",
       "      <td>0.000014</td>\n",
       "      <td>0.615</td>\n",
       "      <td>0.501</td>\n",
       "      <td>125.0230</td>\n",
       "      <td>219824.0</td>\n",
       "    </tr>\n",
       "    <tr>\n",
       "      <th>D</th>\n",
       "      <td>0.723</td>\n",
       "      <td>0.735</td>\n",
       "      <td>5.0</td>\n",
       "      <td>-5.8860</td>\n",
       "      <td>1.0</td>\n",
       "      <td>0.05640</td>\n",
       "      <td>0.079800</td>\n",
       "      <td>0.000004</td>\n",
       "      <td>0.117</td>\n",
       "      <td>0.648</td>\n",
       "      <td>113.9890</td>\n",
       "      <td>213511.0</td>\n",
       "    </tr>\n",
       "    <tr>\n",
       "      <th>E</th>\n",
       "      <td>0.725</td>\n",
       "      <td>0.727</td>\n",
       "      <td>6.0</td>\n",
       "      <td>-5.8005</td>\n",
       "      <td>0.0</td>\n",
       "      <td>0.06180</td>\n",
       "      <td>0.087650</td>\n",
       "      <td>0.000008</td>\n",
       "      <td>0.119</td>\n",
       "      <td>0.613</td>\n",
       "      <td>115.9915</td>\n",
       "      <td>212000.0</td>\n",
       "    </tr>\n",
       "    <tr>\n",
       "      <th>F</th>\n",
       "      <td>0.727</td>\n",
       "      <td>0.652</td>\n",
       "      <td>6.0</td>\n",
       "      <td>-6.7905</td>\n",
       "      <td>1.0</td>\n",
       "      <td>0.31700</td>\n",
       "      <td>0.136000</td>\n",
       "      <td>0.000000</td>\n",
       "      <td>0.129</td>\n",
       "      <td>0.546</td>\n",
       "      <td>121.9865</td>\n",
       "      <td>210662.0</td>\n",
       "    </tr>\n",
       "  </tbody>\n",
       "</table>\n",
       "</div>"
      ],
      "text/plain": [
       "   danceability  energy  key  loudness  mode  speechiness  acousticness  \\\n",
       "A         0.510   0.825  5.0   -5.0075   1.0      0.05490      0.016900   \n",
       "B         0.676   0.832  6.0   -6.6340   1.0      0.05400      0.009135   \n",
       "C         0.615   0.805  6.0   -5.5900   1.0      0.07245      0.040850   \n",
       "D         0.723   0.735  5.0   -5.8860   1.0      0.05640      0.079800   \n",
       "E         0.725   0.727  6.0   -5.8005   0.0      0.06180      0.087650   \n",
       "F         0.727   0.652  6.0   -6.7905   1.0      0.31700      0.136000   \n",
       "\n",
       "   instrumentalness  liveness  valence     tempo  duration_ms  \n",
       "A          0.000047     0.139    0.337  130.0235     221714.5  \n",
       "B          0.793000     0.115    0.346  126.8880     231300.0  \n",
       "C          0.000014     0.615    0.501  125.0230     219824.0  \n",
       "D          0.000004     0.117    0.648  113.9890     213511.0  \n",
       "E          0.000008     0.119    0.613  115.9915     212000.0  \n",
       "F          0.000000     0.129    0.546  121.9865     210662.0  "
      ]
     },
     "execution_count": 36,
     "metadata": {},
     "output_type": "execute_result"
    }
   ],
   "source": [
    "k_merge_df"
   ]
  },
  {
   "cell_type": "code",
   "execution_count": 37,
   "metadata": {},
   "outputs": [],
   "source": [
    "# normalizing new dataframe\n",
    "k_norm = (k_merge_df - k_merge_df.min()) / (k_merge_df.max() - k_merge_df.min())"
   ]
  },
  {
   "cell_type": "code",
   "execution_count": 38,
   "metadata": {},
   "outputs": [
    {
     "data": {
      "text/html": [
       "<div>\n",
       "<style scoped>\n",
       "    .dataframe tbody tr th:only-of-type {\n",
       "        vertical-align: middle;\n",
       "    }\n",
       "\n",
       "    .dataframe tbody tr th {\n",
       "        vertical-align: top;\n",
       "    }\n",
       "\n",
       "    .dataframe thead th {\n",
       "        text-align: right;\n",
       "    }\n",
       "</style>\n",
       "<table border=\"1\" class=\"dataframe\">\n",
       "  <thead>\n",
       "    <tr style=\"text-align: right;\">\n",
       "      <th></th>\n",
       "      <th>danceability</th>\n",
       "      <th>energy</th>\n",
       "      <th>key</th>\n",
       "      <th>loudness</th>\n",
       "      <th>mode</th>\n",
       "      <th>speechiness</th>\n",
       "      <th>acousticness</th>\n",
       "      <th>instrumentalness</th>\n",
       "      <th>liveness</th>\n",
       "      <th>valence</th>\n",
       "      <th>tempo</th>\n",
       "      <th>duration_ms</th>\n",
       "    </tr>\n",
       "  </thead>\n",
       "  <tbody>\n",
       "    <tr>\n",
       "      <th>A</th>\n",
       "      <td>0.000000</td>\n",
       "      <td>0.961111</td>\n",
       "      <td>0.0</td>\n",
       "      <td>1.000000</td>\n",
       "      <td>1.0</td>\n",
       "      <td>0.003422</td>\n",
       "      <td>0.061207</td>\n",
       "      <td>0.000059</td>\n",
       "      <td>0.048</td>\n",
       "      <td>0.000000</td>\n",
       "      <td>1.000000</td>\n",
       "      <td>0.535541</td>\n",
       "    </tr>\n",
       "    <tr>\n",
       "      <th>B</th>\n",
       "      <td>0.764977</td>\n",
       "      <td>1.000000</td>\n",
       "      <td>1.0</td>\n",
       "      <td>0.087773</td>\n",
       "      <td>1.0</td>\n",
       "      <td>0.000000</td>\n",
       "      <td>0.000000</td>\n",
       "      <td>1.000000</td>\n",
       "      <td>0.000</td>\n",
       "      <td>0.028939</td>\n",
       "      <td>0.804453</td>\n",
       "      <td>1.000000</td>\n",
       "    </tr>\n",
       "    <tr>\n",
       "      <th>C</th>\n",
       "      <td>0.483871</td>\n",
       "      <td>0.850000</td>\n",
       "      <td>1.0</td>\n",
       "      <td>0.673303</td>\n",
       "      <td>1.0</td>\n",
       "      <td>0.070152</td>\n",
       "      <td>0.249990</td>\n",
       "      <td>0.000018</td>\n",
       "      <td>1.000</td>\n",
       "      <td>0.527331</td>\n",
       "      <td>0.688141</td>\n",
       "      <td>0.443938</td>\n",
       "    </tr>\n",
       "    <tr>\n",
       "      <th>D</th>\n",
       "      <td>0.981567</td>\n",
       "      <td>0.461111</td>\n",
       "      <td>0.0</td>\n",
       "      <td>0.507291</td>\n",
       "      <td>1.0</td>\n",
       "      <td>0.009125</td>\n",
       "      <td>0.557009</td>\n",
       "      <td>0.000005</td>\n",
       "      <td>0.004</td>\n",
       "      <td>1.000000</td>\n",
       "      <td>0.000000</td>\n",
       "      <td>0.138046</td>\n",
       "    </tr>\n",
       "    <tr>\n",
       "      <th>E</th>\n",
       "      <td>0.990783</td>\n",
       "      <td>0.416667</td>\n",
       "      <td>1.0</td>\n",
       "      <td>0.555244</td>\n",
       "      <td>0.0</td>\n",
       "      <td>0.029658</td>\n",
       "      <td>0.618886</td>\n",
       "      <td>0.000010</td>\n",
       "      <td>0.008</td>\n",
       "      <td>0.887460</td>\n",
       "      <td>0.124887</td>\n",
       "      <td>0.064832</td>\n",
       "    </tr>\n",
       "    <tr>\n",
       "      <th>F</th>\n",
       "      <td>1.000000</td>\n",
       "      <td>0.000000</td>\n",
       "      <td>1.0</td>\n",
       "      <td>0.000000</td>\n",
       "      <td>1.0</td>\n",
       "      <td>1.000000</td>\n",
       "      <td>1.000000</td>\n",
       "      <td>0.000000</td>\n",
       "      <td>0.028</td>\n",
       "      <td>0.672026</td>\n",
       "      <td>0.498768</td>\n",
       "      <td>0.000000</td>\n",
       "    </tr>\n",
       "  </tbody>\n",
       "</table>\n",
       "</div>"
      ],
      "text/plain": [
       "   danceability    energy  key  loudness  mode  speechiness  acousticness  \\\n",
       "A      0.000000  0.961111  0.0  1.000000   1.0     0.003422      0.061207   \n",
       "B      0.764977  1.000000  1.0  0.087773   1.0     0.000000      0.000000   \n",
       "C      0.483871  0.850000  1.0  0.673303   1.0     0.070152      0.249990   \n",
       "D      0.981567  0.461111  0.0  0.507291   1.0     0.009125      0.557009   \n",
       "E      0.990783  0.416667  1.0  0.555244   0.0     0.029658      0.618886   \n",
       "F      1.000000  0.000000  1.0  0.000000   1.0     1.000000      1.000000   \n",
       "\n",
       "   instrumentalness  liveness   valence     tempo  duration_ms  \n",
       "A          0.000059     0.048  0.000000  1.000000     0.535541  \n",
       "B          1.000000     0.000  0.028939  0.804453     1.000000  \n",
       "C          0.000018     1.000  0.527331  0.688141     0.443938  \n",
       "D          0.000005     0.004  1.000000  0.000000     0.138046  \n",
       "E          0.000010     0.008  0.887460  0.124887     0.064832  \n",
       "F          0.000000     0.028  0.672026  0.498768     0.000000  "
      ]
     },
     "execution_count": 38,
     "metadata": {},
     "output_type": "execute_result"
    }
   ],
   "source": [
    "k_norm"
   ]
  },
  {
   "cell_type": "code",
   "execution_count": 39,
   "metadata": {},
   "outputs": [],
   "source": [
    "#k_norm.columns.to_list()"
   ]
  },
  {
   "cell_type": "code",
   "execution_count": 40,
   "metadata": {},
   "outputs": [],
   "source": [
    "spotify['cluster'] = k_merge['cluster']"
   ]
  },
  {
   "cell_type": "code",
   "execution_count": 41,
   "metadata": {},
   "outputs": [
    {
     "data": {
      "application/vnd.plotly.v1+json": {
       "config": {
        "plotlyServerURL": "https://plot.ly"
       },
       "data": [
        {
         "fill": "toself",
         "name": "Cluster A",
         "r": [
          0,
          0.961111111111111,
          0,
          1,
          1,
          0.003422053231939156,
          0.06120679462420681,
          5.895334174022698e-05,
          0.048000000000000015,
          0,
          1,
          0.5355412346157573
         ],
         "theta": [
          "danceability",
          "energy",
          "loudness",
          "speechiness",
          "acousticness",
          "instrumentalness",
          "liveness",
          "valence",
          "tempo",
          "key",
          "mode",
          "duration_ms"
         ],
         "type": "scatterpolar"
        },
        {
         "fill": "toself",
         "name": "Cluster B",
         "r": [
          0.7649769585253459,
          1,
          1,
          0.08777341559169909,
          1,
          0,
          0,
          1,
          0,
          0.02893890675241142,
          0.8044528984377433,
          1
         ],
         "theta": [
          "danceability",
          "energy",
          "loudness",
          "speechiness",
          "acousticness",
          "instrumentalness",
          "liveness",
          "valence",
          "tempo",
          "key",
          "mode",
          "duration_ms"
         ],
         "type": "scatterpolar"
        },
        {
         "fill": "toself",
         "name": "Cluster C",
         "r": [
          0.48387096774193544,
          0.8500000000000004,
          1,
          0.6733034212002245,
          1,
          0.07015209125475286,
          0.24999014700666056,
          1.759142496847415e-05,
          1,
          0.5273311897106109,
          0.6881411955471007,
          0.4439383661207481
         ],
         "theta": [
          "danceability",
          "energy",
          "loudness",
          "speechiness",
          "acousticness",
          "instrumentalness",
          "liveness",
          "valence",
          "tempo",
          "key",
          "mode",
          "duration_ms"
         ],
         "type": "scatterpolar"
        },
        {
         "fill": "toself",
         "name": "Cluster D",
         "r": [
          0.9815668202764977,
          0.4611111111111111,
          0,
          0.5072910824453168,
          1,
          0.0091254752851711,
          0.5570094194616324,
          4.981084489281211e-06,
          0.0040000000000000036,
          1,
          0,
          0.13804632231805408
         ],
         "theta": [
          "danceability",
          "energy",
          "loudness",
          "speechiness",
          "acousticness",
          "instrumentalness",
          "liveness",
          "valence",
          "tempo",
          "key",
          "mode",
          "duration_ms"
         ],
         "type": "scatterpolar"
        },
        {
         "fill": "toself",
         "name": "Cluster E",
         "r": [
          0.9907834101382489,
          0.4166666666666666,
          1,
          0.5552439708356705,
          0,
          0.029657794676806088,
          0.6188862176329168,
          1.0050441361916772e-05,
          0.00799999999999998,
          0.8874598070739549,
          0.1248869624871369,
          0.06483186355266983
         ],
         "theta": [
          "danceability",
          "energy",
          "loudness",
          "speechiness",
          "acousticness",
          "instrumentalness",
          "liveness",
          "valence",
          "tempo",
          "key",
          "mode",
          "duration_ms"
         ],
         "type": "scatterpolar"
        },
        {
         "fill": "toself",
         "name": "Cluster F",
         "r": [
          1,
          0,
          1,
          0,
          1,
          1,
          1,
          0,
          0.027999999999999997,
          0.6720257234726689,
          0.4987682808943215,
          0
         ],
         "theta": [
          "danceability",
          "energy",
          "loudness",
          "speechiness",
          "acousticness",
          "instrumentalness",
          "liveness",
          "valence",
          "tempo",
          "key",
          "mode",
          "duration_ms"
         ],
         "type": "scatterpolar"
        }
       ],
       "layout": {
        "polar": {
         "radialaxis": {
          "range": [
           0,
           1
          ],
          "visible": true
         }
        },
        "showlegend": true,
        "template": {
         "data": {
          "bar": [
           {
            "error_x": {
             "color": "#2a3f5f"
            },
            "error_y": {
             "color": "#2a3f5f"
            },
            "marker": {
             "line": {
              "color": "#E5ECF6",
              "width": 0.5
             },
             "pattern": {
              "fillmode": "overlay",
              "size": 10,
              "solidity": 0.2
             }
            },
            "type": "bar"
           }
          ],
          "barpolar": [
           {
            "marker": {
             "line": {
              "color": "#E5ECF6",
              "width": 0.5
             },
             "pattern": {
              "fillmode": "overlay",
              "size": 10,
              "solidity": 0.2
             }
            },
            "type": "barpolar"
           }
          ],
          "carpet": [
           {
            "aaxis": {
             "endlinecolor": "#2a3f5f",
             "gridcolor": "white",
             "linecolor": "white",
             "minorgridcolor": "white",
             "startlinecolor": "#2a3f5f"
            },
            "baxis": {
             "endlinecolor": "#2a3f5f",
             "gridcolor": "white",
             "linecolor": "white",
             "minorgridcolor": "white",
             "startlinecolor": "#2a3f5f"
            },
            "type": "carpet"
           }
          ],
          "choropleth": [
           {
            "colorbar": {
             "outlinewidth": 0,
             "ticks": ""
            },
            "type": "choropleth"
           }
          ],
          "contour": [
           {
            "colorbar": {
             "outlinewidth": 0,
             "ticks": ""
            },
            "colorscale": [
             [
              0,
              "#0d0887"
             ],
             [
              0.1111111111111111,
              "#46039f"
             ],
             [
              0.2222222222222222,
              "#7201a8"
             ],
             [
              0.3333333333333333,
              "#9c179e"
             ],
             [
              0.4444444444444444,
              "#bd3786"
             ],
             [
              0.5555555555555556,
              "#d8576b"
             ],
             [
              0.6666666666666666,
              "#ed7953"
             ],
             [
              0.7777777777777778,
              "#fb9f3a"
             ],
             [
              0.8888888888888888,
              "#fdca26"
             ],
             [
              1,
              "#f0f921"
             ]
            ],
            "type": "contour"
           }
          ],
          "contourcarpet": [
           {
            "colorbar": {
             "outlinewidth": 0,
             "ticks": ""
            },
            "type": "contourcarpet"
           }
          ],
          "heatmap": [
           {
            "colorbar": {
             "outlinewidth": 0,
             "ticks": ""
            },
            "colorscale": [
             [
              0,
              "#0d0887"
             ],
             [
              0.1111111111111111,
              "#46039f"
             ],
             [
              0.2222222222222222,
              "#7201a8"
             ],
             [
              0.3333333333333333,
              "#9c179e"
             ],
             [
              0.4444444444444444,
              "#bd3786"
             ],
             [
              0.5555555555555556,
              "#d8576b"
             ],
             [
              0.6666666666666666,
              "#ed7953"
             ],
             [
              0.7777777777777778,
              "#fb9f3a"
             ],
             [
              0.8888888888888888,
              "#fdca26"
             ],
             [
              1,
              "#f0f921"
             ]
            ],
            "type": "heatmap"
           }
          ],
          "heatmapgl": [
           {
            "colorbar": {
             "outlinewidth": 0,
             "ticks": ""
            },
            "colorscale": [
             [
              0,
              "#0d0887"
             ],
             [
              0.1111111111111111,
              "#46039f"
             ],
             [
              0.2222222222222222,
              "#7201a8"
             ],
             [
              0.3333333333333333,
              "#9c179e"
             ],
             [
              0.4444444444444444,
              "#bd3786"
             ],
             [
              0.5555555555555556,
              "#d8576b"
             ],
             [
              0.6666666666666666,
              "#ed7953"
             ],
             [
              0.7777777777777778,
              "#fb9f3a"
             ],
             [
              0.8888888888888888,
              "#fdca26"
             ],
             [
              1,
              "#f0f921"
             ]
            ],
            "type": "heatmapgl"
           }
          ],
          "histogram": [
           {
            "marker": {
             "pattern": {
              "fillmode": "overlay",
              "size": 10,
              "solidity": 0.2
             }
            },
            "type": "histogram"
           }
          ],
          "histogram2d": [
           {
            "colorbar": {
             "outlinewidth": 0,
             "ticks": ""
            },
            "colorscale": [
             [
              0,
              "#0d0887"
             ],
             [
              0.1111111111111111,
              "#46039f"
             ],
             [
              0.2222222222222222,
              "#7201a8"
             ],
             [
              0.3333333333333333,
              "#9c179e"
             ],
             [
              0.4444444444444444,
              "#bd3786"
             ],
             [
              0.5555555555555556,
              "#d8576b"
             ],
             [
              0.6666666666666666,
              "#ed7953"
             ],
             [
              0.7777777777777778,
              "#fb9f3a"
             ],
             [
              0.8888888888888888,
              "#fdca26"
             ],
             [
              1,
              "#f0f921"
             ]
            ],
            "type": "histogram2d"
           }
          ],
          "histogram2dcontour": [
           {
            "colorbar": {
             "outlinewidth": 0,
             "ticks": ""
            },
            "colorscale": [
             [
              0,
              "#0d0887"
             ],
             [
              0.1111111111111111,
              "#46039f"
             ],
             [
              0.2222222222222222,
              "#7201a8"
             ],
             [
              0.3333333333333333,
              "#9c179e"
             ],
             [
              0.4444444444444444,
              "#bd3786"
             ],
             [
              0.5555555555555556,
              "#d8576b"
             ],
             [
              0.6666666666666666,
              "#ed7953"
             ],
             [
              0.7777777777777778,
              "#fb9f3a"
             ],
             [
              0.8888888888888888,
              "#fdca26"
             ],
             [
              1,
              "#f0f921"
             ]
            ],
            "type": "histogram2dcontour"
           }
          ],
          "mesh3d": [
           {
            "colorbar": {
             "outlinewidth": 0,
             "ticks": ""
            },
            "type": "mesh3d"
           }
          ],
          "parcoords": [
           {
            "line": {
             "colorbar": {
              "outlinewidth": 0,
              "ticks": ""
             }
            },
            "type": "parcoords"
           }
          ],
          "pie": [
           {
            "automargin": true,
            "type": "pie"
           }
          ],
          "scatter": [
           {
            "fillpattern": {
             "fillmode": "overlay",
             "size": 10,
             "solidity": 0.2
            },
            "type": "scatter"
           }
          ],
          "scatter3d": [
           {
            "line": {
             "colorbar": {
              "outlinewidth": 0,
              "ticks": ""
             }
            },
            "marker": {
             "colorbar": {
              "outlinewidth": 0,
              "ticks": ""
             }
            },
            "type": "scatter3d"
           }
          ],
          "scattercarpet": [
           {
            "marker": {
             "colorbar": {
              "outlinewidth": 0,
              "ticks": ""
             }
            },
            "type": "scattercarpet"
           }
          ],
          "scattergeo": [
           {
            "marker": {
             "colorbar": {
              "outlinewidth": 0,
              "ticks": ""
             }
            },
            "type": "scattergeo"
           }
          ],
          "scattergl": [
           {
            "marker": {
             "colorbar": {
              "outlinewidth": 0,
              "ticks": ""
             }
            },
            "type": "scattergl"
           }
          ],
          "scattermapbox": [
           {
            "marker": {
             "colorbar": {
              "outlinewidth": 0,
              "ticks": ""
             }
            },
            "type": "scattermapbox"
           }
          ],
          "scatterpolar": [
           {
            "marker": {
             "colorbar": {
              "outlinewidth": 0,
              "ticks": ""
             }
            },
            "type": "scatterpolar"
           }
          ],
          "scatterpolargl": [
           {
            "marker": {
             "colorbar": {
              "outlinewidth": 0,
              "ticks": ""
             }
            },
            "type": "scatterpolargl"
           }
          ],
          "scatterternary": [
           {
            "marker": {
             "colorbar": {
              "outlinewidth": 0,
              "ticks": ""
             }
            },
            "type": "scatterternary"
           }
          ],
          "surface": [
           {
            "colorbar": {
             "outlinewidth": 0,
             "ticks": ""
            },
            "colorscale": [
             [
              0,
              "#0d0887"
             ],
             [
              0.1111111111111111,
              "#46039f"
             ],
             [
              0.2222222222222222,
              "#7201a8"
             ],
             [
              0.3333333333333333,
              "#9c179e"
             ],
             [
              0.4444444444444444,
              "#bd3786"
             ],
             [
              0.5555555555555556,
              "#d8576b"
             ],
             [
              0.6666666666666666,
              "#ed7953"
             ],
             [
              0.7777777777777778,
              "#fb9f3a"
             ],
             [
              0.8888888888888888,
              "#fdca26"
             ],
             [
              1,
              "#f0f921"
             ]
            ],
            "type": "surface"
           }
          ],
          "table": [
           {
            "cells": {
             "fill": {
              "color": "#EBF0F8"
             },
             "line": {
              "color": "white"
             }
            },
            "header": {
             "fill": {
              "color": "#C8D4E3"
             },
             "line": {
              "color": "white"
             }
            },
            "type": "table"
           }
          ]
         },
         "layout": {
          "annotationdefaults": {
           "arrowcolor": "#2a3f5f",
           "arrowhead": 0,
           "arrowwidth": 1
          },
          "autotypenumbers": "strict",
          "coloraxis": {
           "colorbar": {
            "outlinewidth": 0,
            "ticks": ""
           }
          },
          "colorscale": {
           "diverging": [
            [
             0,
             "#8e0152"
            ],
            [
             0.1,
             "#c51b7d"
            ],
            [
             0.2,
             "#de77ae"
            ],
            [
             0.3,
             "#f1b6da"
            ],
            [
             0.4,
             "#fde0ef"
            ],
            [
             0.5,
             "#f7f7f7"
            ],
            [
             0.6,
             "#e6f5d0"
            ],
            [
             0.7,
             "#b8e186"
            ],
            [
             0.8,
             "#7fbc41"
            ],
            [
             0.9,
             "#4d9221"
            ],
            [
             1,
             "#276419"
            ]
           ],
           "sequential": [
            [
             0,
             "#0d0887"
            ],
            [
             0.1111111111111111,
             "#46039f"
            ],
            [
             0.2222222222222222,
             "#7201a8"
            ],
            [
             0.3333333333333333,
             "#9c179e"
            ],
            [
             0.4444444444444444,
             "#bd3786"
            ],
            [
             0.5555555555555556,
             "#d8576b"
            ],
            [
             0.6666666666666666,
             "#ed7953"
            ],
            [
             0.7777777777777778,
             "#fb9f3a"
            ],
            [
             0.8888888888888888,
             "#fdca26"
            ],
            [
             1,
             "#f0f921"
            ]
           ],
           "sequentialminus": [
            [
             0,
             "#0d0887"
            ],
            [
             0.1111111111111111,
             "#46039f"
            ],
            [
             0.2222222222222222,
             "#7201a8"
            ],
            [
             0.3333333333333333,
             "#9c179e"
            ],
            [
             0.4444444444444444,
             "#bd3786"
            ],
            [
             0.5555555555555556,
             "#d8576b"
            ],
            [
             0.6666666666666666,
             "#ed7953"
            ],
            [
             0.7777777777777778,
             "#fb9f3a"
            ],
            [
             0.8888888888888888,
             "#fdca26"
            ],
            [
             1,
             "#f0f921"
            ]
           ]
          },
          "colorway": [
           "#636efa",
           "#EF553B",
           "#00cc96",
           "#ab63fa",
           "#FFA15A",
           "#19d3f3",
           "#FF6692",
           "#B6E880",
           "#FF97FF",
           "#FECB52"
          ],
          "font": {
           "color": "#2a3f5f"
          },
          "geo": {
           "bgcolor": "white",
           "lakecolor": "white",
           "landcolor": "#E5ECF6",
           "showlakes": true,
           "showland": true,
           "subunitcolor": "white"
          },
          "hoverlabel": {
           "align": "left"
          },
          "hovermode": "closest",
          "mapbox": {
           "style": "light"
          },
          "paper_bgcolor": "white",
          "plot_bgcolor": "#E5ECF6",
          "polar": {
           "angularaxis": {
            "gridcolor": "white",
            "linecolor": "white",
            "ticks": ""
           },
           "bgcolor": "#E5ECF6",
           "radialaxis": {
            "gridcolor": "white",
            "linecolor": "white",
            "ticks": ""
           }
          },
          "scene": {
           "xaxis": {
            "backgroundcolor": "#E5ECF6",
            "gridcolor": "white",
            "gridwidth": 2,
            "linecolor": "white",
            "showbackground": true,
            "ticks": "",
            "zerolinecolor": "white"
           },
           "yaxis": {
            "backgroundcolor": "#E5ECF6",
            "gridcolor": "white",
            "gridwidth": 2,
            "linecolor": "white",
            "showbackground": true,
            "ticks": "",
            "zerolinecolor": "white"
           },
           "zaxis": {
            "backgroundcolor": "#E5ECF6",
            "gridcolor": "white",
            "gridwidth": 2,
            "linecolor": "white",
            "showbackground": true,
            "ticks": "",
            "zerolinecolor": "white"
           }
          },
          "shapedefaults": {
           "line": {
            "color": "#2a3f5f"
           }
          },
          "ternary": {
           "aaxis": {
            "gridcolor": "white",
            "linecolor": "white",
            "ticks": ""
           },
           "baxis": {
            "gridcolor": "white",
            "linecolor": "white",
            "ticks": ""
           },
           "bgcolor": "#E5ECF6",
           "caxis": {
            "gridcolor": "white",
            "linecolor": "white",
            "ticks": ""
           }
          },
          "title": {
           "x": 0.05
          },
          "xaxis": {
           "automargin": true,
           "gridcolor": "white",
           "linecolor": "white",
           "ticks": "",
           "title": {
            "standoff": 15
           },
           "zerolinecolor": "white",
           "zerolinewidth": 2
          },
          "yaxis": {
           "automargin": true,
           "gridcolor": "white",
           "linecolor": "white",
           "ticks": "",
           "title": {
            "standoff": 15
           },
           "zerolinecolor": "white",
           "zerolinewidth": 2
          }
         }
        },
        "title": {
         "text": "Radar Plot of Feature Medians Per Cluster"
        }
       }
      },
      "text/html": [
       "<div>                            <div id=\"40e9225d-8321-42b9-afa9-e70e2dc5ca50\" class=\"plotly-graph-div\" style=\"height:525px; width:100%;\"></div>            <script type=\"text/javascript\">                require([\"plotly\"], function(Plotly) {                    window.PLOTLYENV=window.PLOTLYENV || {};                                    if (document.getElementById(\"40e9225d-8321-42b9-afa9-e70e2dc5ca50\")) {                    Plotly.newPlot(                        \"40e9225d-8321-42b9-afa9-e70e2dc5ca50\",                        [{\"fill\":\"toself\",\"name\":\"Cluster A\",\"r\":[0.0,0.961111111111111,0.0,1.0,1.0,0.003422053231939156,0.06120679462420681,5.895334174022698e-05,0.048000000000000015,0.0,1.0,0.5355412346157573],\"theta\":[\"danceability\",\"energy\",\"loudness\",\"speechiness\",\"acousticness\",\"instrumentalness\",\"liveness\",\"valence\",\"tempo\",\"key\",\"mode\",\"duration_ms\"],\"type\":\"scatterpolar\"},{\"fill\":\"toself\",\"name\":\"Cluster B\",\"r\":[0.7649769585253459,1.0,1.0,0.08777341559169909,1.0,0.0,0.0,1.0,0.0,0.02893890675241142,0.8044528984377433,1.0],\"theta\":[\"danceability\",\"energy\",\"loudness\",\"speechiness\",\"acousticness\",\"instrumentalness\",\"liveness\",\"valence\",\"tempo\",\"key\",\"mode\",\"duration_ms\"],\"type\":\"scatterpolar\"},{\"fill\":\"toself\",\"name\":\"Cluster C\",\"r\":[0.48387096774193544,0.8500000000000004,1.0,0.6733034212002245,1.0,0.07015209125475286,0.24999014700666056,1.759142496847415e-05,1.0,0.5273311897106109,0.6881411955471007,0.4439383661207481],\"theta\":[\"danceability\",\"energy\",\"loudness\",\"speechiness\",\"acousticness\",\"instrumentalness\",\"liveness\",\"valence\",\"tempo\",\"key\",\"mode\",\"duration_ms\"],\"type\":\"scatterpolar\"},{\"fill\":\"toself\",\"name\":\"Cluster D\",\"r\":[0.9815668202764977,0.4611111111111111,0.0,0.5072910824453168,1.0,0.0091254752851711,0.5570094194616324,4.981084489281211e-06,0.0040000000000000036,1.0,0.0,0.13804632231805408],\"theta\":[\"danceability\",\"energy\",\"loudness\",\"speechiness\",\"acousticness\",\"instrumentalness\",\"liveness\",\"valence\",\"tempo\",\"key\",\"mode\",\"duration_ms\"],\"type\":\"scatterpolar\"},{\"fill\":\"toself\",\"name\":\"Cluster E\",\"r\":[0.9907834101382489,0.4166666666666666,1.0,0.5552439708356705,0.0,0.029657794676806088,0.6188862176329168,1.0050441361916772e-05,0.00799999999999998,0.8874598070739549,0.1248869624871369,0.06483186355266983],\"theta\":[\"danceability\",\"energy\",\"loudness\",\"speechiness\",\"acousticness\",\"instrumentalness\",\"liveness\",\"valence\",\"tempo\",\"key\",\"mode\",\"duration_ms\"],\"type\":\"scatterpolar\"},{\"fill\":\"toself\",\"name\":\"Cluster F\",\"r\":[1.0,0.0,1.0,0.0,1.0,1.0,1.0,0.0,0.027999999999999997,0.6720257234726689,0.4987682808943215,0.0],\"theta\":[\"danceability\",\"energy\",\"loudness\",\"speechiness\",\"acousticness\",\"instrumentalness\",\"liveness\",\"valence\",\"tempo\",\"key\",\"mode\",\"duration_ms\"],\"type\":\"scatterpolar\"}],                        {\"template\":{\"data\":{\"histogram2dcontour\":[{\"type\":\"histogram2dcontour\",\"colorbar\":{\"outlinewidth\":0,\"ticks\":\"\"},\"colorscale\":[[0.0,\"#0d0887\"],[0.1111111111111111,\"#46039f\"],[0.2222222222222222,\"#7201a8\"],[0.3333333333333333,\"#9c179e\"],[0.4444444444444444,\"#bd3786\"],[0.5555555555555556,\"#d8576b\"],[0.6666666666666666,\"#ed7953\"],[0.7777777777777778,\"#fb9f3a\"],[0.8888888888888888,\"#fdca26\"],[1.0,\"#f0f921\"]]}],\"choropleth\":[{\"type\":\"choropleth\",\"colorbar\":{\"outlinewidth\":0,\"ticks\":\"\"}}],\"histogram2d\":[{\"type\":\"histogram2d\",\"colorbar\":{\"outlinewidth\":0,\"ticks\":\"\"},\"colorscale\":[[0.0,\"#0d0887\"],[0.1111111111111111,\"#46039f\"],[0.2222222222222222,\"#7201a8\"],[0.3333333333333333,\"#9c179e\"],[0.4444444444444444,\"#bd3786\"],[0.5555555555555556,\"#d8576b\"],[0.6666666666666666,\"#ed7953\"],[0.7777777777777778,\"#fb9f3a\"],[0.8888888888888888,\"#fdca26\"],[1.0,\"#f0f921\"]]}],\"heatmap\":[{\"type\":\"heatmap\",\"colorbar\":{\"outlinewidth\":0,\"ticks\":\"\"},\"colorscale\":[[0.0,\"#0d0887\"],[0.1111111111111111,\"#46039f\"],[0.2222222222222222,\"#7201a8\"],[0.3333333333333333,\"#9c179e\"],[0.4444444444444444,\"#bd3786\"],[0.5555555555555556,\"#d8576b\"],[0.6666666666666666,\"#ed7953\"],[0.7777777777777778,\"#fb9f3a\"],[0.8888888888888888,\"#fdca26\"],[1.0,\"#f0f921\"]]}],\"heatmapgl\":[{\"type\":\"heatmapgl\",\"colorbar\":{\"outlinewidth\":0,\"ticks\":\"\"},\"colorscale\":[[0.0,\"#0d0887\"],[0.1111111111111111,\"#46039f\"],[0.2222222222222222,\"#7201a8\"],[0.3333333333333333,\"#9c179e\"],[0.4444444444444444,\"#bd3786\"],[0.5555555555555556,\"#d8576b\"],[0.6666666666666666,\"#ed7953\"],[0.7777777777777778,\"#fb9f3a\"],[0.8888888888888888,\"#fdca26\"],[1.0,\"#f0f921\"]]}],\"contourcarpet\":[{\"type\":\"contourcarpet\",\"colorbar\":{\"outlinewidth\":0,\"ticks\":\"\"}}],\"contour\":[{\"type\":\"contour\",\"colorbar\":{\"outlinewidth\":0,\"ticks\":\"\"},\"colorscale\":[[0.0,\"#0d0887\"],[0.1111111111111111,\"#46039f\"],[0.2222222222222222,\"#7201a8\"],[0.3333333333333333,\"#9c179e\"],[0.4444444444444444,\"#bd3786\"],[0.5555555555555556,\"#d8576b\"],[0.6666666666666666,\"#ed7953\"],[0.7777777777777778,\"#fb9f3a\"],[0.8888888888888888,\"#fdca26\"],[1.0,\"#f0f921\"]]}],\"surface\":[{\"type\":\"surface\",\"colorbar\":{\"outlinewidth\":0,\"ticks\":\"\"},\"colorscale\":[[0.0,\"#0d0887\"],[0.1111111111111111,\"#46039f\"],[0.2222222222222222,\"#7201a8\"],[0.3333333333333333,\"#9c179e\"],[0.4444444444444444,\"#bd3786\"],[0.5555555555555556,\"#d8576b\"],[0.6666666666666666,\"#ed7953\"],[0.7777777777777778,\"#fb9f3a\"],[0.8888888888888888,\"#fdca26\"],[1.0,\"#f0f921\"]]}],\"mesh3d\":[{\"type\":\"mesh3d\",\"colorbar\":{\"outlinewidth\":0,\"ticks\":\"\"}}],\"scatter\":[{\"fillpattern\":{\"fillmode\":\"overlay\",\"size\":10,\"solidity\":0.2},\"type\":\"scatter\"}],\"parcoords\":[{\"type\":\"parcoords\",\"line\":{\"colorbar\":{\"outlinewidth\":0,\"ticks\":\"\"}}}],\"scatterpolargl\":[{\"type\":\"scatterpolargl\",\"marker\":{\"colorbar\":{\"outlinewidth\":0,\"ticks\":\"\"}}}],\"bar\":[{\"error_x\":{\"color\":\"#2a3f5f\"},\"error_y\":{\"color\":\"#2a3f5f\"},\"marker\":{\"line\":{\"color\":\"#E5ECF6\",\"width\":0.5},\"pattern\":{\"fillmode\":\"overlay\",\"size\":10,\"solidity\":0.2}},\"type\":\"bar\"}],\"scattergeo\":[{\"type\":\"scattergeo\",\"marker\":{\"colorbar\":{\"outlinewidth\":0,\"ticks\":\"\"}}}],\"scatterpolar\":[{\"type\":\"scatterpolar\",\"marker\":{\"colorbar\":{\"outlinewidth\":0,\"ticks\":\"\"}}}],\"histogram\":[{\"marker\":{\"pattern\":{\"fillmode\":\"overlay\",\"size\":10,\"solidity\":0.2}},\"type\":\"histogram\"}],\"scattergl\":[{\"type\":\"scattergl\",\"marker\":{\"colorbar\":{\"outlinewidth\":0,\"ticks\":\"\"}}}],\"scatter3d\":[{\"type\":\"scatter3d\",\"line\":{\"colorbar\":{\"outlinewidth\":0,\"ticks\":\"\"}},\"marker\":{\"colorbar\":{\"outlinewidth\":0,\"ticks\":\"\"}}}],\"scattermapbox\":[{\"type\":\"scattermapbox\",\"marker\":{\"colorbar\":{\"outlinewidth\":0,\"ticks\":\"\"}}}],\"scatterternary\":[{\"type\":\"scatterternary\",\"marker\":{\"colorbar\":{\"outlinewidth\":0,\"ticks\":\"\"}}}],\"scattercarpet\":[{\"type\":\"scattercarpet\",\"marker\":{\"colorbar\":{\"outlinewidth\":0,\"ticks\":\"\"}}}],\"carpet\":[{\"aaxis\":{\"endlinecolor\":\"#2a3f5f\",\"gridcolor\":\"white\",\"linecolor\":\"white\",\"minorgridcolor\":\"white\",\"startlinecolor\":\"#2a3f5f\"},\"baxis\":{\"endlinecolor\":\"#2a3f5f\",\"gridcolor\":\"white\",\"linecolor\":\"white\",\"minorgridcolor\":\"white\",\"startlinecolor\":\"#2a3f5f\"},\"type\":\"carpet\"}],\"table\":[{\"cells\":{\"fill\":{\"color\":\"#EBF0F8\"},\"line\":{\"color\":\"white\"}},\"header\":{\"fill\":{\"color\":\"#C8D4E3\"},\"line\":{\"color\":\"white\"}},\"type\":\"table\"}],\"barpolar\":[{\"marker\":{\"line\":{\"color\":\"#E5ECF6\",\"width\":0.5},\"pattern\":{\"fillmode\":\"overlay\",\"size\":10,\"solidity\":0.2}},\"type\":\"barpolar\"}],\"pie\":[{\"automargin\":true,\"type\":\"pie\"}]},\"layout\":{\"autotypenumbers\":\"strict\",\"colorway\":[\"#636efa\",\"#EF553B\",\"#00cc96\",\"#ab63fa\",\"#FFA15A\",\"#19d3f3\",\"#FF6692\",\"#B6E880\",\"#FF97FF\",\"#FECB52\"],\"font\":{\"color\":\"#2a3f5f\"},\"hovermode\":\"closest\",\"hoverlabel\":{\"align\":\"left\"},\"paper_bgcolor\":\"white\",\"plot_bgcolor\":\"#E5ECF6\",\"polar\":{\"bgcolor\":\"#E5ECF6\",\"angularaxis\":{\"gridcolor\":\"white\",\"linecolor\":\"white\",\"ticks\":\"\"},\"radialaxis\":{\"gridcolor\":\"white\",\"linecolor\":\"white\",\"ticks\":\"\"}},\"ternary\":{\"bgcolor\":\"#E5ECF6\",\"aaxis\":{\"gridcolor\":\"white\",\"linecolor\":\"white\",\"ticks\":\"\"},\"baxis\":{\"gridcolor\":\"white\",\"linecolor\":\"white\",\"ticks\":\"\"},\"caxis\":{\"gridcolor\":\"white\",\"linecolor\":\"white\",\"ticks\":\"\"}},\"coloraxis\":{\"colorbar\":{\"outlinewidth\":0,\"ticks\":\"\"}},\"colorscale\":{\"sequential\":[[0.0,\"#0d0887\"],[0.1111111111111111,\"#46039f\"],[0.2222222222222222,\"#7201a8\"],[0.3333333333333333,\"#9c179e\"],[0.4444444444444444,\"#bd3786\"],[0.5555555555555556,\"#d8576b\"],[0.6666666666666666,\"#ed7953\"],[0.7777777777777778,\"#fb9f3a\"],[0.8888888888888888,\"#fdca26\"],[1.0,\"#f0f921\"]],\"sequentialminus\":[[0.0,\"#0d0887\"],[0.1111111111111111,\"#46039f\"],[0.2222222222222222,\"#7201a8\"],[0.3333333333333333,\"#9c179e\"],[0.4444444444444444,\"#bd3786\"],[0.5555555555555556,\"#d8576b\"],[0.6666666666666666,\"#ed7953\"],[0.7777777777777778,\"#fb9f3a\"],[0.8888888888888888,\"#fdca26\"],[1.0,\"#f0f921\"]],\"diverging\":[[0,\"#8e0152\"],[0.1,\"#c51b7d\"],[0.2,\"#de77ae\"],[0.3,\"#f1b6da\"],[0.4,\"#fde0ef\"],[0.5,\"#f7f7f7\"],[0.6,\"#e6f5d0\"],[0.7,\"#b8e186\"],[0.8,\"#7fbc41\"],[0.9,\"#4d9221\"],[1,\"#276419\"]]},\"xaxis\":{\"gridcolor\":\"white\",\"linecolor\":\"white\",\"ticks\":\"\",\"title\":{\"standoff\":15},\"zerolinecolor\":\"white\",\"automargin\":true,\"zerolinewidth\":2},\"yaxis\":{\"gridcolor\":\"white\",\"linecolor\":\"white\",\"ticks\":\"\",\"title\":{\"standoff\":15},\"zerolinecolor\":\"white\",\"automargin\":true,\"zerolinewidth\":2},\"scene\":{\"xaxis\":{\"backgroundcolor\":\"#E5ECF6\",\"gridcolor\":\"white\",\"linecolor\":\"white\",\"showbackground\":true,\"ticks\":\"\",\"zerolinecolor\":\"white\",\"gridwidth\":2},\"yaxis\":{\"backgroundcolor\":\"#E5ECF6\",\"gridcolor\":\"white\",\"linecolor\":\"white\",\"showbackground\":true,\"ticks\":\"\",\"zerolinecolor\":\"white\",\"gridwidth\":2},\"zaxis\":{\"backgroundcolor\":\"#E5ECF6\",\"gridcolor\":\"white\",\"linecolor\":\"white\",\"showbackground\":true,\"ticks\":\"\",\"zerolinecolor\":\"white\",\"gridwidth\":2}},\"shapedefaults\":{\"line\":{\"color\":\"#2a3f5f\"}},\"annotationdefaults\":{\"arrowcolor\":\"#2a3f5f\",\"arrowhead\":0,\"arrowwidth\":1},\"geo\":{\"bgcolor\":\"white\",\"landcolor\":\"#E5ECF6\",\"subunitcolor\":\"white\",\"showland\":true,\"showlakes\":true,\"lakecolor\":\"white\"},\"title\":{\"x\":0.05},\"mapbox\":{\"style\":\"light\"}}},\"polar\":{\"radialaxis\":{\"visible\":true,\"range\":[0,1]}},\"showlegend\":true,\"title\":{\"text\":\"Radar Plot of Feature Medians Per Cluster\"}},                        {\"responsive\": true}                    ).then(function(){\n",
       "                            \n",
       "var gd = document.getElementById('40e9225d-8321-42b9-afa9-e70e2dc5ca50');\n",
       "var x = new MutationObserver(function (mutations, observer) {{\n",
       "        var display = window.getComputedStyle(gd).display;\n",
       "        if (!display || display === 'none') {{\n",
       "            console.log([gd, 'removed!']);\n",
       "            Plotly.purge(gd);\n",
       "            observer.disconnect();\n",
       "        }}\n",
       "}});\n",
       "\n",
       "// Listen for the removal of the full notebook cells\n",
       "var notebookContainer = gd.closest('#notebook-container');\n",
       "if (notebookContainer) {{\n",
       "    x.observe(notebookContainer, {childList: true});\n",
       "}}\n",
       "\n",
       "// Listen for the clearing of the current output cell\n",
       "var outputEl = gd.closest('.output');\n",
       "if (outputEl) {{\n",
       "    x.observe(outputEl, {childList: true});\n",
       "}}\n",
       "\n",
       "                        })                };                });            </script>        </div>"
      ]
     },
     "metadata": {},
     "output_type": "display_data"
    }
   ],
   "source": [
    "categories = features\n",
    "\n",
    "fig = go.Figure()\n",
    "\n",
    "fig.add_trace(\n",
    "    go.Scatterpolar(\n",
    "        r=k_norm.iloc[0].to_list(), theta=categories, fill=\"toself\", name=\"Cluster A\"\n",
    "    )\n",
    ")\n",
    "\n",
    "fig.add_trace(\n",
    "    go.Scatterpolar(\n",
    "        r=k_norm.iloc[1].to_list(), theta=categories, fill=\"toself\", name=\"Cluster B\"\n",
    "    )\n",
    ")\n",
    "\n",
    "fig.add_trace(\n",
    "    go.Scatterpolar(\n",
    "        r=k_norm.iloc[2].to_list(), theta=categories, fill=\"toself\", name=\"Cluster C\"\n",
    "    )\n",
    ")\n",
    "\n",
    "fig.add_trace(\n",
    "    go.Scatterpolar(\n",
    "        r=k_norm.iloc[3].to_list(), theta=categories, fill=\"toself\", name=\"Cluster D\"\n",
    "    )\n",
    ")\n",
    "\n",
    "fig.add_trace(\n",
    "    go.Scatterpolar(\n",
    "        r=k_norm.iloc[4].to_list(), theta=categories, fill=\"toself\", name=\"Cluster E\"\n",
    "    )\n",
    ")\n",
    "\n",
    "fig.add_trace(\n",
    "    go.Scatterpolar(\n",
    "        r=k_norm.iloc[5].to_list(), theta=categories, fill=\"toself\", name=\"Cluster F\"\n",
    "    )\n",
    ")\n",
    "\n",
    "fig.update_layout(\n",
    "    polar=dict(radialaxis=dict(visible=True, range=[0, 1])),\n",
    "    showlegend=True,\n",
    "    title=\"Radar Plot of Feature Medians Per Cluster\",\n",
    ")\n",
    "\n",
    "fig.show()"
   ]
  },
  {
   "cell_type": "code",
   "execution_count": 42,
   "metadata": {},
   "outputs": [
    {
     "data": {
      "text/html": [
       "<div>\n",
       "<style scoped>\n",
       "    .dataframe tbody tr th:only-of-type {\n",
       "        vertical-align: middle;\n",
       "    }\n",
       "\n",
       "    .dataframe tbody tr th {\n",
       "        vertical-align: top;\n",
       "    }\n",
       "\n",
       "    .dataframe thead th {\n",
       "        text-align: right;\n",
       "    }\n",
       "</style>\n",
       "<table border=\"1\" class=\"dataframe\">\n",
       "  <thead>\n",
       "    <tr style=\"text-align: right;\">\n",
       "      <th></th>\n",
       "      <th>track_id</th>\n",
       "      <th>track_name</th>\n",
       "      <th>track_artist</th>\n",
       "      <th>track_popularity</th>\n",
       "      <th>track_album_id</th>\n",
       "      <th>track_album_name</th>\n",
       "      <th>track_album_release_date</th>\n",
       "      <th>playlist_name</th>\n",
       "      <th>playlist_id</th>\n",
       "      <th>playlist_genre</th>\n",
       "      <th>...</th>\n",
       "      <th>loudness</th>\n",
       "      <th>mode</th>\n",
       "      <th>speechiness</th>\n",
       "      <th>acousticness</th>\n",
       "      <th>instrumentalness</th>\n",
       "      <th>liveness</th>\n",
       "      <th>valence</th>\n",
       "      <th>tempo</th>\n",
       "      <th>duration_ms</th>\n",
       "      <th>cluster</th>\n",
       "    </tr>\n",
       "  </thead>\n",
       "  <tbody>\n",
       "    <tr>\n",
       "      <th>10486</th>\n",
       "      <td>3dhhGh3asfF8Aq1uHzkWy6</td>\n",
       "      <td>Reach For Me</td>\n",
       "      <td>Party Favor</td>\n",
       "      <td>43</td>\n",
       "      <td>6kDQ4uisku1cm591Y1ix3Q</td>\n",
       "      <td>Layers</td>\n",
       "      <td>2019-04-26</td>\n",
       "      <td>Trap Mojito</td>\n",
       "      <td>37i9dQZF1DX1OIMC8iDi74</td>\n",
       "      <td>rap</td>\n",
       "      <td>...</td>\n",
       "      <td>-5.715</td>\n",
       "      <td>1</td>\n",
       "      <td>0.0423</td>\n",
       "      <td>0.000552</td>\n",
       "      <td>0.689</td>\n",
       "      <td>0.1100</td>\n",
       "      <td>0.0696</td>\n",
       "      <td>82.004</td>\n",
       "      <td>226000</td>\n",
       "      <td>B</td>\n",
       "    </tr>\n",
       "    <tr>\n",
       "      <th>6479</th>\n",
       "      <td>7nn3FDp3e8h2LlNE25nXfH</td>\n",
       "      <td>Out All Night</td>\n",
       "      <td>Ray Ben Rue</td>\n",
       "      <td>43</td>\n",
       "      <td>7kyRRp16g59X6Zm4ID3NjL</td>\n",
       "      <td>Out All Night</td>\n",
       "      <td>2019-09-27</td>\n",
       "      <td>Lofi Hip-Hop</td>\n",
       "      <td>37i9dQZF1DX36Xw4IJIVKA</td>\n",
       "      <td>rap</td>\n",
       "      <td>...</td>\n",
       "      <td>-9.133</td>\n",
       "      <td>1</td>\n",
       "      <td>0.0727</td>\n",
       "      <td>0.444000</td>\n",
       "      <td>0.812</td>\n",
       "      <td>0.1260</td>\n",
       "      <td>0.3980</td>\n",
       "      <td>90.028</td>\n",
       "      <td>152000</td>\n",
       "      <td>B</td>\n",
       "    </tr>\n",
       "    <tr>\n",
       "      <th>5847</th>\n",
       "      <td>7j1Y0cl0RqV74Gl0eSvDgS</td>\n",
       "      <td>Pizza</td>\n",
       "      <td>Statistix</td>\n",
       "      <td>61</td>\n",
       "      <td>2kMF5TOiVSs0ka9nl49BlZ</td>\n",
       "      <td>Pizza</td>\n",
       "      <td>2018-10-24</td>\n",
       "      <td>Lo-Fi Beats</td>\n",
       "      <td>37i9dQZF1DWWQRwui0ExPn</td>\n",
       "      <td>rap</td>\n",
       "      <td>...</td>\n",
       "      <td>-12.099</td>\n",
       "      <td>0</td>\n",
       "      <td>0.1210</td>\n",
       "      <td>0.228000</td>\n",
       "      <td>0.904</td>\n",
       "      <td>0.1140</td>\n",
       "      <td>0.4050</td>\n",
       "      <td>79.985</td>\n",
       "      <td>212079</td>\n",
       "      <td>B</td>\n",
       "    </tr>\n",
       "    <tr>\n",
       "      <th>7449</th>\n",
       "      <td>0amPDBn2wSRl0vRyWSLk5v</td>\n",
       "      <td>The Bottle</td>\n",
       "      <td>Hermano</td>\n",
       "      <td>41</td>\n",
       "      <td>3AwAKd4dprx8qAeNc70k9K</td>\n",
       "      <td>Only a Suggestion</td>\n",
       "      <td>2007-10-01</td>\n",
       "      <td>Badass Rock</td>\n",
       "      <td>44bkJI1QGkT2O0GYJSsbkp</td>\n",
       "      <td>rap</td>\n",
       "      <td>...</td>\n",
       "      <td>-6.761</td>\n",
       "      <td>1</td>\n",
       "      <td>0.0375</td>\n",
       "      <td>0.000025</td>\n",
       "      <td>0.723</td>\n",
       "      <td>0.1250</td>\n",
       "      <td>0.4990</td>\n",
       "      <td>127.424</td>\n",
       "      <td>282160</td>\n",
       "      <td>B</td>\n",
       "    </tr>\n",
       "    <tr>\n",
       "      <th>5601</th>\n",
       "      <td>4d4IrFVJFASjI1QC0zDKuv</td>\n",
       "      <td>Verdi</td>\n",
       "      <td>Wun Two</td>\n",
       "      <td>52</td>\n",
       "      <td>3ZYWUWuqu0tibmiRzwOTMY</td>\n",
       "      <td>Verdi</td>\n",
       "      <td>2019-12-13</td>\n",
       "      <td>Jazz Vibes</td>\n",
       "      <td>37i9dQZF1DX0SM0LYsmbMT</td>\n",
       "      <td>rap</td>\n",
       "      <td>...</td>\n",
       "      <td>-14.578</td>\n",
       "      <td>0</td>\n",
       "      <td>0.0626</td>\n",
       "      <td>0.082800</td>\n",
       "      <td>0.727</td>\n",
       "      <td>0.0988</td>\n",
       "      <td>0.4420</td>\n",
       "      <td>112.143</td>\n",
       "      <td>68644</td>\n",
       "      <td>B</td>\n",
       "    </tr>\n",
       "    <tr>\n",
       "      <th>7335</th>\n",
       "      <td>2MNKg80wokPjnpRxA80AYY</td>\n",
       "      <td>Dark Horse feat. Juicy J (Originally Performed...</td>\n",
       "      <td>Paris Music</td>\n",
       "      <td>3</td>\n",
       "      <td>5q5cSLemyV9UlHFib5Aq1z</td>\n",
       "      <td>Dark Horse feat. Juicy J (Originally Performed...</td>\n",
       "      <td>2014-02-25</td>\n",
       "      <td>◤ Hip Hop Dance Music – Urban – Trap – Breakin...</td>\n",
       "      <td>0Hr2h94pKN8QAGVAgD6BsD</td>\n",
       "      <td>rap</td>\n",
       "      <td>...</td>\n",
       "      <td>-9.747</td>\n",
       "      <td>1</td>\n",
       "      <td>0.0386</td>\n",
       "      <td>0.065100</td>\n",
       "      <td>0.800</td>\n",
       "      <td>0.0778</td>\n",
       "      <td>0.3640</td>\n",
       "      <td>131.985</td>\n",
       "      <td>214549</td>\n",
       "      <td>B</td>\n",
       "    </tr>\n",
       "    <tr>\n",
       "      <th>9933</th>\n",
       "      <td>7EnGzsqQi0bAVGQw8i4WIQ</td>\n",
       "      <td>A Death In The Ocean Would Be Beautiful</td>\n",
       "      <td>$uicideBoy$</td>\n",
       "      <td>59</td>\n",
       "      <td>1gbgmfoERh4YxIVyyjS8Hp</td>\n",
       "      <td>My Liver Will Handle What My Heart Can't</td>\n",
       "      <td>2015-09-21</td>\n",
       "      <td>&lt; DARK TRAP &gt;</td>\n",
       "      <td>19WuHd4MxWLzE1fpMmw4S4</td>\n",
       "      <td>rap</td>\n",
       "      <td>...</td>\n",
       "      <td>-6.705</td>\n",
       "      <td>1</td>\n",
       "      <td>0.0441</td>\n",
       "      <td>0.044400</td>\n",
       "      <td>0.714</td>\n",
       "      <td>0.1050</td>\n",
       "      <td>0.1550</td>\n",
       "      <td>122.016</td>\n",
       "      <td>118236</td>\n",
       "      <td>B</td>\n",
       "    </tr>\n",
       "    <tr>\n",
       "      <th>5597</th>\n",
       "      <td>6oW0uYJZAR5RjOWBr9onVj</td>\n",
       "      <td>Devoted Passion</td>\n",
       "      <td>Figub Brazlevic</td>\n",
       "      <td>53</td>\n",
       "      <td>0BGF2BSK6WoS36qRP0aYj9</td>\n",
       "      <td>Devoted Passion / Moonlight in Marrakech</td>\n",
       "      <td>2019-12-20</td>\n",
       "      <td>Jazz Vibes</td>\n",
       "      <td>37i9dQZF1DX0SM0LYsmbMT</td>\n",
       "      <td>rap</td>\n",
       "      <td>...</td>\n",
       "      <td>-6.466</td>\n",
       "      <td>1</td>\n",
       "      <td>0.0576</td>\n",
       "      <td>0.430000</td>\n",
       "      <td>0.591</td>\n",
       "      <td>0.0932</td>\n",
       "      <td>0.6460</td>\n",
       "      <td>83.016</td>\n",
       "      <td>143133</td>\n",
       "      <td>B</td>\n",
       "    </tr>\n",
       "    <tr>\n",
       "      <th>10539</th>\n",
       "      <td>26h1Bo0lH3MWIBYhRYnrwC</td>\n",
       "      <td>Legacy</td>\n",
       "      <td>Onur Ormen</td>\n",
       "      <td>5</td>\n",
       "      <td>0AXsGQjrAM6ebAWcGCwaSn</td>\n",
       "      <td>Legacy</td>\n",
       "      <td>2018-08-10</td>\n",
       "      <td>Trap Mojito</td>\n",
       "      <td>37i9dQZF1DX1OIMC8iDi74</td>\n",
       "      <td>rap</td>\n",
       "      <td>...</td>\n",
       "      <td>-9.780</td>\n",
       "      <td>0</td>\n",
       "      <td>0.0499</td>\n",
       "      <td>0.001800</td>\n",
       "      <td>0.813</td>\n",
       "      <td>0.0938</td>\n",
       "      <td>0.1170</td>\n",
       "      <td>140.042</td>\n",
       "      <td>173147</td>\n",
       "      <td>B</td>\n",
       "    </tr>\n",
       "    <tr>\n",
       "      <th>10303</th>\n",
       "      <td>7Iace73p6DR3nzZPmwnjpX</td>\n",
       "      <td>Lava Lamp</td>\n",
       "      <td>Luude</td>\n",
       "      <td>49</td>\n",
       "      <td>341be9uTIQfXZZLglqIiMZ</td>\n",
       "      <td>Lava Lamp</td>\n",
       "      <td>2019-12-16</td>\n",
       "      <td>Trap Nation</td>\n",
       "      <td>0NCspsyf0OS4BsPgGhkQXM</td>\n",
       "      <td>rap</td>\n",
       "      <td>...</td>\n",
       "      <td>-6.393</td>\n",
       "      <td>1</td>\n",
       "      <td>0.0382</td>\n",
       "      <td>0.013400</td>\n",
       "      <td>0.410</td>\n",
       "      <td>0.1500</td>\n",
       "      <td>0.1550</td>\n",
       "      <td>125.995</td>\n",
       "      <td>186677</td>\n",
       "      <td>B</td>\n",
       "    </tr>\n",
       "  </tbody>\n",
       "</table>\n",
       "<p>10 rows × 24 columns</p>\n",
       "</div>"
      ],
      "text/plain": [
       "                     track_id  \\\n",
       "10486  3dhhGh3asfF8Aq1uHzkWy6   \n",
       "6479   7nn3FDp3e8h2LlNE25nXfH   \n",
       "5847   7j1Y0cl0RqV74Gl0eSvDgS   \n",
       "7449   0amPDBn2wSRl0vRyWSLk5v   \n",
       "5601   4d4IrFVJFASjI1QC0zDKuv   \n",
       "7335   2MNKg80wokPjnpRxA80AYY   \n",
       "9933   7EnGzsqQi0bAVGQw8i4WIQ   \n",
       "5597   6oW0uYJZAR5RjOWBr9onVj   \n",
       "10539  26h1Bo0lH3MWIBYhRYnrwC   \n",
       "10303  7Iace73p6DR3nzZPmwnjpX   \n",
       "\n",
       "                                              track_name     track_artist  \\\n",
       "10486                                       Reach For Me      Party Favor   \n",
       "6479                                       Out All Night      Ray Ben Rue   \n",
       "5847                                               Pizza        Statistix   \n",
       "7449                                          The Bottle          Hermano   \n",
       "5601                                               Verdi          Wun Two   \n",
       "7335   Dark Horse feat. Juicy J (Originally Performed...      Paris Music   \n",
       "9933             A Death In The Ocean Would Be Beautiful      $uicideBoy$   \n",
       "5597                                     Devoted Passion  Figub Brazlevic   \n",
       "10539                                             Legacy       Onur Ormen   \n",
       "10303                                          Lava Lamp            Luude   \n",
       "\n",
       "       track_popularity          track_album_id  \\\n",
       "10486                43  6kDQ4uisku1cm591Y1ix3Q   \n",
       "6479                 43  7kyRRp16g59X6Zm4ID3NjL   \n",
       "5847                 61  2kMF5TOiVSs0ka9nl49BlZ   \n",
       "7449                 41  3AwAKd4dprx8qAeNc70k9K   \n",
       "5601                 52  3ZYWUWuqu0tibmiRzwOTMY   \n",
       "7335                  3  5q5cSLemyV9UlHFib5Aq1z   \n",
       "9933                 59  1gbgmfoERh4YxIVyyjS8Hp   \n",
       "5597                 53  0BGF2BSK6WoS36qRP0aYj9   \n",
       "10539                 5  0AXsGQjrAM6ebAWcGCwaSn   \n",
       "10303                49  341be9uTIQfXZZLglqIiMZ   \n",
       "\n",
       "                                        track_album_name  \\\n",
       "10486                                             Layers   \n",
       "6479                                       Out All Night   \n",
       "5847                                               Pizza   \n",
       "7449                                   Only a Suggestion   \n",
       "5601                                               Verdi   \n",
       "7335   Dark Horse feat. Juicy J (Originally Performed...   \n",
       "9933            My Liver Will Handle What My Heart Can't   \n",
       "5597            Devoted Passion / Moonlight in Marrakech   \n",
       "10539                                             Legacy   \n",
       "10303                                          Lava Lamp   \n",
       "\n",
       "      track_album_release_date  \\\n",
       "10486               2019-04-26   \n",
       "6479                2019-09-27   \n",
       "5847                2018-10-24   \n",
       "7449                2007-10-01   \n",
       "5601                2019-12-13   \n",
       "7335                2014-02-25   \n",
       "9933                2015-09-21   \n",
       "5597                2019-12-20   \n",
       "10539               2018-08-10   \n",
       "10303               2019-12-16   \n",
       "\n",
       "                                           playlist_name  \\\n",
       "10486                                        Trap Mojito   \n",
       "6479                                        Lofi Hip-Hop   \n",
       "5847                                         Lo-Fi Beats   \n",
       "7449                                         Badass Rock   \n",
       "5601                                          Jazz Vibes   \n",
       "7335   ◤ Hip Hop Dance Music – Urban – Trap – Breakin...   \n",
       "9933                                       < DARK TRAP >   \n",
       "5597                                          Jazz Vibes   \n",
       "10539                                        Trap Mojito   \n",
       "10303                                        Trap Nation   \n",
       "\n",
       "                  playlist_id playlist_genre  ... loudness  mode  speechiness  \\\n",
       "10486  37i9dQZF1DX1OIMC8iDi74            rap  ...   -5.715     1       0.0423   \n",
       "6479   37i9dQZF1DX36Xw4IJIVKA            rap  ...   -9.133     1       0.0727   \n",
       "5847   37i9dQZF1DWWQRwui0ExPn            rap  ...  -12.099     0       0.1210   \n",
       "7449   44bkJI1QGkT2O0GYJSsbkp            rap  ...   -6.761     1       0.0375   \n",
       "5601   37i9dQZF1DX0SM0LYsmbMT            rap  ...  -14.578     0       0.0626   \n",
       "7335   0Hr2h94pKN8QAGVAgD6BsD            rap  ...   -9.747     1       0.0386   \n",
       "9933   19WuHd4MxWLzE1fpMmw4S4            rap  ...   -6.705     1       0.0441   \n",
       "5597   37i9dQZF1DX0SM0LYsmbMT            rap  ...   -6.466     1       0.0576   \n",
       "10539  37i9dQZF1DX1OIMC8iDi74            rap  ...   -9.780     0       0.0499   \n",
       "10303  0NCspsyf0OS4BsPgGhkQXM            rap  ...   -6.393     1       0.0382   \n",
       "\n",
       "       acousticness  instrumentalness  liveness  valence    tempo  \\\n",
       "10486      0.000552             0.689    0.1100   0.0696   82.004   \n",
       "6479       0.444000             0.812    0.1260   0.3980   90.028   \n",
       "5847       0.228000             0.904    0.1140   0.4050   79.985   \n",
       "7449       0.000025             0.723    0.1250   0.4990  127.424   \n",
       "5601       0.082800             0.727    0.0988   0.4420  112.143   \n",
       "7335       0.065100             0.800    0.0778   0.3640  131.985   \n",
       "9933       0.044400             0.714    0.1050   0.1550  122.016   \n",
       "5597       0.430000             0.591    0.0932   0.6460   83.016   \n",
       "10539      0.001800             0.813    0.0938   0.1170  140.042   \n",
       "10303      0.013400             0.410    0.1500   0.1550  125.995   \n",
       "\n",
       "       duration_ms  cluster  \n",
       "10486       226000        B  \n",
       "6479        152000        B  \n",
       "5847        212079        B  \n",
       "7449        282160        B  \n",
       "5601         68644        B  \n",
       "7335        214549        B  \n",
       "9933        118236        B  \n",
       "5597        143133        B  \n",
       "10539       173147        B  \n",
       "10303       186677        B  \n",
       "\n",
       "[10 rows x 24 columns]"
      ]
     },
     "execution_count": 42,
     "metadata": {},
     "output_type": "execute_result"
    }
   ],
   "source": [
    "spotify[(spotify[\"cluster\"] == \"B\") & (spotify[\"playlist_genre\"] == \"rap\")].sample(10)"
   ]
  },
  {
   "cell_type": "code",
   "execution_count": 43,
   "metadata": {},
   "outputs": [
    {
     "data": {
      "text/plain": [
       "array(['pop', 'rap', 'rock', 'latin', 'r&b', 'edm'], dtype=object)"
      ]
     },
     "execution_count": 43,
     "metadata": {},
     "output_type": "execute_result"
    }
   ],
   "source": [
    "spotify.playlist_genre.unique()"
   ]
  }
 ],
 "metadata": {
  "interpreter": {
   "hash": "0283bb964ddc7e300b47a08868ce4135312740b76df18babb030f16f99693fd6"
  },
  "kernelspec": {
   "display_name": "Python 3",
   "language": "python",
   "name": "python3"
  },
  "language_info": {
   "codemirror_mode": {
    "name": "ipython",
    "version": 3
   },
   "file_extension": ".py",
   "mimetype": "text/x-python",
   "name": "python",
   "nbconvert_exporter": "python",
   "pygments_lexer": "ipython3",
   "version": "3.7.4"
  }
 },
 "nbformat": 4,
 "nbformat_minor": 2
}
