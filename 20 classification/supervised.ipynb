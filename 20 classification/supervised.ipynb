{
 "cells": [
  {
   "cell_type": "markdown",
   "metadata": {},
   "source": [
    "# Classifiers"
   ]
  },
  {
   "cell_type": "code",
   "execution_count": 2,
   "metadata": {},
   "outputs": [],
   "source": [
    "import pandas as pd\n",
    "import matplotlib.pyplot as plt\n",
    "\n",
    "spotify = pd.read_csv(\n",
    "    \"/Users/clarissaache/Documents/IDS 705 ML/ml-project/00 raw data/spotify_songs.csv\"\n",
    ")\n",
    "spotify.head()\n",
    "\n",
    "music_covariates = ['danceability', 'energy', 'key', 'loudness', 'mode', 'speechiness',\n",
    "       'acousticness', 'instrumentalness', 'liveness', 'valence', 'tempo',\n",
    "       'duration_ms']\n",
    "\n",
    "other_covariates = ['track_album_name', 'track_name', 'track_artist']\n",
    "\n",
    "music = spotify[music_covariates] #subset for music covariates only\n",
    "music_X = spotify[music_covariates]\n",
    "music_Y = spotify['playlist_genre']"
   ]
  },
  {
   "cell_type": "code",
   "execution_count": 3,
   "metadata": {},
   "outputs": [],
   "source": [
    "# First we import the labels created by clustering\n",
    "new_Y = pd.read_csv(\n",
    "    \"/Users/clarissaache/Documents/IDS 705 ML/ml-project/20 classification/labels_kmeans.csv\"\n",
    ")"
   ]
  },
  {
   "cell_type": "code",
   "execution_count": 9,
   "metadata": {},
   "outputs": [],
   "source": [
    "# Split train and test\n",
    "from sklearn.model_selection import train_test_split\n",
    "\n",
    "X_train, X_test, y_train, y_test = train_test_split(\n",
    "    music_X, new_Y['0'], test_size=0.20, random_state=24\n",
    ")"
   ]
  },
  {
   "cell_type": "code",
   "execution_count": 12,
   "metadata": {},
   "outputs": [],
   "source": [
    "# Split train and val\n",
    "X_train, X_val, y_train, y_val = train_test_split(\n",
    "    X_train, y_train, test_size=0.20, random_state=42\n",
    ")"
   ]
  },
  {
   "cell_type": "markdown",
   "metadata": {},
   "source": [
    "### Model #1: knn (simple)"
   ]
  },
  {
   "cell_type": "code",
   "execution_count": 14,
   "metadata": {},
   "outputs": [],
   "source": [
    "from sklearn.preprocessing import StandardScaler\n",
    "from sklearn.decomposition import PCA\n",
    "import numpy as np\n",
    "\n",
    "X_norm_train = StandardScaler().fit_transform(X_train)\n",
    "X_norm_test = StandardScaler().fit_transform(X_test)\n",
    "X_norm_val = StandardScaler().fit_transform(X_val)"
   ]
  },
  {
   "cell_type": "code",
   "execution_count": 18,
   "metadata": {},
   "outputs": [
    {
     "data": {
      "text/plain": [
       "0.947087933003426"
      ]
     },
     "execution_count": 18,
     "metadata": {},
     "output_type": "execute_result"
    }
   ],
   "source": [
    "from sklearn.ensemble import RandomForestClassifier\n",
    "\n",
    "clf = RandomForestClassifier(n_jobs=-1).fit(X_train, y_train)\n",
    "clf.score(X_val, y_val)"
   ]
  }
 ],
 "metadata": {
  "interpreter": {
   "hash": "0283bb964ddc7e300b47a08868ce4135312740b76df18babb030f16f99693fd6"
  },
  "kernelspec": {
   "display_name": "Python 3.9.6 ('base')",
   "language": "python",
   "name": "python3"
  },
  "language_info": {
   "codemirror_mode": {
    "name": "ipython",
    "version": 3
   },
   "file_extension": ".py",
   "mimetype": "text/x-python",
   "name": "python",
   "nbconvert_exporter": "python",
   "pygments_lexer": "ipython3",
   "version": "3.9.6"
  },
  "orig_nbformat": 4
 },
 "nbformat": 4,
 "nbformat_minor": 2
}
